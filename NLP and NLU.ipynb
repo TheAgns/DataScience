{
 "cells": [
  {
   "cell_type": "code",
   "execution_count": 14,
   "id": "b8e251ba",
   "metadata": {
    "scrolled": true
   },
   "outputs": [],
   "source": [
    "import nltk\n",
    "import spacy\n",
    "import string\n",
    "import gensim\n",
    "\n",
    "from gensim import corpora\n",
    "from pprint import pprint\n",
    "from nltk.tokenize import word_tokenize\n",
    "from nltk.corpus import stopwords\n",
    "from nltk.stem import WordNetLemmatizer\n",
    "from spacy.lang.da.stop_words import STOP_WORDS\n",
    "from spacy.lang.da.examples import sentences \n",
    "from nltk.stem.snowball import DanishStemmer"
   ]
  },
  {
   "cell_type": "code",
   "execution_count": 2,
   "id": "3105dd1f",
   "metadata": {},
   "outputs": [],
   "source": [
    "#conda install -c conda-forge spacy-model-da_core_news_sm\n"
   ]
  },
  {
   "cell_type": "markdown",
   "id": "afbf2b34",
   "metadata": {},
   "source": [
    "### First example i have choosen i KMD and and article about them."
   ]
  },
  {
   "cell_type": "markdown",
   "id": "1eb004f2",
   "metadata": {},
   "source": [
    "#### Starting with loading in the data"
   ]
  },
  {
   "cell_type": "code",
   "execution_count": 3,
   "id": "46b07e3c",
   "metadata": {},
   "outputs": [],
   "source": [
    "with open('kmd.txt', 'r') as f:\n",
    "    text = f.read()"
   ]
  },
  {
   "cell_type": "code",
   "execution_count": 4,
   "id": "a06ef938",
   "metadata": {
    "scrolled": true
   },
   "outputs": [
    {
     "data": {
      "text/plain": [
       "'Vindmølleproducenten skifter sine 6.000 danske ansatte til den cloudbaserede KMD Payroll Cloud.\\n”KMD Payroll Cloud passer perfekt til os, da løsningen optimerer en række processer, og samtidig vil KMD håndtere mange administrationsopgaver. Dermed får vi en delvist outsourcet løsning, hvor vi stadig selv er i kontrol med vores egne data,” siger Kirsten Therkildsen, som er Head of HR Services i Siemens Gamesa.\\n”Nu glæder vi os bare til at komme i gang med projektet, og vi ser meget frem til samarbejdet med KMD,\" tilføjer hun.\\nOgså i KMD er der glæde over aftalen. \\n”Vi er stolte af, at Siemens Gamesa valgte os som deres partner. Samtidig får vi nu en ny kunde ind, hvor vi integrerer KMD Payroll Cloud med virksomhedens HR-system – Workday – så vi dækker efterhånden integrationen til de førende globale HR-systemer. Det giver nogle gode markedsmæssige muligheder,” siger Kristian de Linde, Business Line Director i KMD.\\n”I hele forløbet har vi haft en meget tæt kontakt til kunden – vi har lyttet, forstået kundens behov og i sidste ende tilbudt en løsning, som passer til Siemens Gamesa,” siger Kristian de Linde og sender en stor tak til teamet bag den nye aftale.\\nSiemens Gamesa anvender i dag løsningen KMD Nettoløn og er den første af de mange kunder på KMD Nettoløn, som bliver løftet til den cloudbaserede KMD Payroll Cloud.'"
      ]
     },
     "execution_count": 4,
     "metadata": {},
     "output_type": "execute_result"
    }
   ],
   "source": [
    "text"
   ]
  },
  {
   "cell_type": "markdown",
   "id": "c0349f5f",
   "metadata": {},
   "source": [
    "# Tokenize the text"
   ]
  },
  {
   "cell_type": "code",
   "execution_count": 5,
   "id": "3d4b1757",
   "metadata": {},
   "outputs": [],
   "source": [
    "tokens = word_tokenize(text)"
   ]
  },
  {
   "cell_type": "code",
   "execution_count": 13,
   "id": "621a86be",
   "metadata": {
    "scrolled": false
   },
   "outputs": [],
   "source": [
    "#tokens"
   ]
  },
  {
   "cell_type": "markdown",
   "id": "b29dcee3",
   "metadata": {},
   "source": [
    "# Remove Stop Words in \"Danish\""
   ]
  },
  {
   "cell_type": "code",
   "execution_count": 7,
   "id": "60695ebe",
   "metadata": {},
   "outputs": [],
   "source": [
    "stop_words = set(stopwords.words('danish'))\n",
    "filtered_tokens = [token for token in tokens if token.lower() not in stop_words]"
   ]
  },
  {
   "cell_type": "code",
   "execution_count": 18,
   "id": "c365aca3",
   "metadata": {},
   "outputs": [
    {
     "data": {
      "text/plain": [
       "['Vindmølleproducenten',\n",
       " 'skifter',\n",
       " '6.000',\n",
       " 'danske',\n",
       " 'ansatte',\n",
       " 'cloudbaserede',\n",
       " 'KMD',\n",
       " 'Payroll',\n",
       " 'Cloud',\n",
       " '.',\n",
       " '”',\n",
       " 'KMD',\n",
       " 'Payroll',\n",
       " 'Cloud',\n",
       " 'passer',\n",
       " 'perfekt',\n",
       " ',',\n",
       " 'løsningen',\n",
       " 'optimerer',\n",
       " 'række',\n",
       " 'processer',\n",
       " ',',\n",
       " 'samtidig',\n",
       " 'KMD',\n",
       " 'håndtere',\n",
       " 'administrationsopgaver',\n",
       " '.',\n",
       " 'Dermed',\n",
       " 'får',\n",
       " 'delvist',\n",
       " 'outsourcet',\n",
       " 'løsning',\n",
       " ',',\n",
       " 'stadig',\n",
       " 'kontrol',\n",
       " 'vores',\n",
       " 'egne',\n",
       " 'data',\n",
       " ',',\n",
       " '”',\n",
       " 'siger',\n",
       " 'Kirsten',\n",
       " 'Therkildsen',\n",
       " ',',\n",
       " 'Head',\n",
       " 'of',\n",
       " 'HR',\n",
       " 'Services',\n",
       " 'Siemens',\n",
       " 'Gamesa',\n",
       " '.',\n",
       " '”',\n",
       " 'glæder',\n",
       " 'bare',\n",
       " 'komme',\n",
       " 'gang',\n",
       " 'projektet',\n",
       " ',',\n",
       " 'ser',\n",
       " 'frem',\n",
       " 'samarbejdet',\n",
       " 'KMD',\n",
       " ',',\n",
       " \"''\",\n",
       " 'tilføjer',\n",
       " '.',\n",
       " 'KMD',\n",
       " 'glæde',\n",
       " 'aftalen',\n",
       " '.',\n",
       " '”',\n",
       " 'stolte',\n",
       " ',',\n",
       " 'Siemens',\n",
       " 'Gamesa',\n",
       " 'valgte',\n",
       " 'partner',\n",
       " '.',\n",
       " 'Samtidig',\n",
       " 'får',\n",
       " 'ny',\n",
       " 'kunde',\n",
       " ',',\n",
       " 'integrerer',\n",
       " 'KMD',\n",
       " 'Payroll',\n",
       " 'Cloud',\n",
       " 'virksomhedens',\n",
       " 'HR-system',\n",
       " '–',\n",
       " 'Workday',\n",
       " '–',\n",
       " 'så',\n",
       " 'dækker',\n",
       " 'efterhånden',\n",
       " 'integrationen',\n",
       " 'førende',\n",
       " 'globale',\n",
       " 'HR-systemer',\n",
       " '.',\n",
       " 'giver',\n",
       " 'gode',\n",
       " 'markedsmæssige',\n",
       " 'muligheder',\n",
       " ',',\n",
       " '”',\n",
       " 'siger',\n",
       " 'Kristian',\n",
       " 'Linde',\n",
       " ',',\n",
       " 'Business',\n",
       " 'Line',\n",
       " 'Director',\n",
       " 'KMD',\n",
       " '.',\n",
       " '”',\n",
       " 'hele',\n",
       " 'forløbet',\n",
       " 'haft',\n",
       " 'tæt',\n",
       " 'kontakt',\n",
       " 'kunden',\n",
       " '–',\n",
       " 'lyttet',\n",
       " ',',\n",
       " 'forstået',\n",
       " 'kundens',\n",
       " 'behov',\n",
       " 'sidste',\n",
       " 'ende',\n",
       " 'tilbudt',\n",
       " 'løsning',\n",
       " ',',\n",
       " 'passer',\n",
       " 'Siemens',\n",
       " 'Gamesa',\n",
       " ',',\n",
       " '”',\n",
       " 'siger',\n",
       " 'Kristian',\n",
       " 'Linde',\n",
       " 'sender',\n",
       " 'stor',\n",
       " 'tak',\n",
       " 'teamet',\n",
       " 'bag',\n",
       " 'nye',\n",
       " 'aftale',\n",
       " '.',\n",
       " 'Siemens',\n",
       " 'Gamesa',\n",
       " 'anvender',\n",
       " 'dag',\n",
       " 'løsningen',\n",
       " 'KMD',\n",
       " 'Nettoløn',\n",
       " 'første',\n",
       " 'kunder',\n",
       " 'KMD',\n",
       " 'Nettoløn',\n",
       " ',',\n",
       " 'løftet',\n",
       " 'cloudbaserede',\n",
       " 'KMD',\n",
       " 'Payroll',\n",
       " 'Cloud',\n",
       " '.']"
      ]
     },
     "execution_count": 18,
     "metadata": {},
     "output_type": "execute_result"
    }
   ],
   "source": [
    "filtered_tokens"
   ]
  },
  {
   "cell_type": "markdown",
   "id": "9b50a742",
   "metadata": {},
   "source": [
    "# Lemmatize the tokens"
   ]
  },
  {
   "cell_type": "markdown",
   "id": "74d39297",
   "metadata": {},
   "source": [
    "#### So that i can reduce the words to their root form, where i use WordNetLemmatizer"
   ]
  },
  {
   "cell_type": "code",
   "execution_count": 8,
   "id": "2b9dc6f9",
   "metadata": {},
   "outputs": [],
   "source": [
    "lemmatizer = WordNetLemmatizer()\n",
    "lemmatized_tokens = [lemmatizer.lemmatize(token) for token in filtered_tokens]"
   ]
  },
  {
   "cell_type": "markdown",
   "id": "cad9f79c",
   "metadata": {},
   "source": [
    "# Part of Speech Tagging"
   ]
  },
  {
   "cell_type": "markdown",
   "id": "260e81cf",
   "metadata": {},
   "source": [
    "#### Trying to implement POS tagging which could be helpful to identify the role of each word in the text"
   ]
  },
  {
   "cell_type": "markdown",
   "id": "612992f8",
   "metadata": {},
   "source": [
    "#### NNP\tproper noun, singular - VBD verb past tense - CD cardinal digit - NN noun, singular (cat, tree and so on) - VB verb (ask) - JJ - This NLTK POS Tag is an adjective (large)\n",
    "#### the rest can be found here: https://www.guru99.com/pos-tagging-chunking-nltk.html"
   ]
  },
  {
   "cell_type": "code",
   "execution_count": 9,
   "id": "a46f0c37",
   "metadata": {},
   "outputs": [],
   "source": [
    "pos_tagged_tokens = nltk.pos_tag(lemmatized_tokens)"
   ]
  },
  {
   "cell_type": "code",
   "execution_count": 24,
   "id": "78fd9a8c",
   "metadata": {},
   "outputs": [
    {
     "data": {
      "text/plain": [
       "[('Vindmølleproducenten', 'NNP'),\n",
       " ('skifter', 'VBD'),\n",
       " ('6.000', 'CD'),\n",
       " ('danske', 'NN'),\n",
       " ('ansatte', 'NN'),\n",
       " ('cloudbaserede', 'NN'),\n",
       " ('KMD', 'NNP'),\n",
       " ('Payroll', 'NNP'),\n",
       " ('Cloud', 'NNP'),\n",
       " ('.', '.'),\n",
       " ('”', 'VB'),\n",
       " ('KMD', 'NNP'),\n",
       " ('Payroll', 'NNP'),\n",
       " ('Cloud', 'NNP'),\n",
       " ('passer', 'NN'),\n",
       " ('perfekt', 'NN'),\n",
       " (',', ','),\n",
       " ('løsningen', 'NN'),\n",
       " ('optimerer', 'NN'),\n",
       " ('række', 'NN'),\n",
       " ('processer', 'NN'),\n",
       " (',', ','),\n",
       " ('samtidig', 'JJ'),\n",
       " ('KMD', 'NNP'),\n",
       " ('håndtere', 'RB'),\n",
       " ('administrationsopgaver', 'RB'),\n",
       " ('.', '.'),\n",
       " ('Dermed', 'NNP'),\n",
       " ('får', 'JJ'),\n",
       " ('delvist', 'NN'),\n",
       " ('outsourcet', 'IN'),\n",
       " ('løsning', 'NN'),\n",
       " (',', ','),\n",
       " ('stadig', 'VB'),\n",
       " ('kontrol', 'NN'),\n",
       " ('vores', 'NNS'),\n",
       " ('egne', 'VBP'),\n",
       " ('data', 'NNS'),\n",
       " (',', ','),\n",
       " ('”', 'NNP'),\n",
       " ('siger', 'NN'),\n",
       " ('Kirsten', 'NNP'),\n",
       " ('Therkildsen', 'NNP'),\n",
       " (',', ','),\n",
       " ('Head', 'NNP'),\n",
       " ('of', 'IN'),\n",
       " ('HR', 'NNP'),\n",
       " ('Services', 'NNPS'),\n",
       " ('Siemens', 'NNP'),\n",
       " ('Gamesa', 'NNP'),\n",
       " ('.', '.'),\n",
       " ('”', 'NN'),\n",
       " ('glæder', 'NN'),\n",
       " ('bare', 'NN'),\n",
       " ('komme', 'NNP'),\n",
       " ('gang', 'NN'),\n",
       " ('projektet', 'NN'),\n",
       " (',', ','),\n",
       " ('ser', 'JJR'),\n",
       " ('frem', 'NN'),\n",
       " ('samarbejdet', 'NN'),\n",
       " ('KMD', 'NNP'),\n",
       " (',', ','),\n",
       " (\"''\", \"''\"),\n",
       " ('tilføjer', 'NN'),\n",
       " ('.', '.'),\n",
       " ('KMD', 'NNP'),\n",
       " ('glæde', 'JJ'),\n",
       " ('aftalen', 'NN'),\n",
       " ('.', '.'),\n",
       " ('”', 'JJ'),\n",
       " ('stolte', 'NN'),\n",
       " (',', ','),\n",
       " ('Siemens', 'NNP'),\n",
       " ('Gamesa', 'NNP'),\n",
       " ('valgte', 'NN'),\n",
       " ('partner', 'NN'),\n",
       " ('.', '.'),\n",
       " ('Samtidig', 'NNP'),\n",
       " ('får', 'JJ'),\n",
       " ('ny', 'NN'),\n",
       " ('kunde', 'NN'),\n",
       " (',', ','),\n",
       " ('integrerer', 'NN'),\n",
       " ('KMD', 'NNP'),\n",
       " ('Payroll', 'NNP'),\n",
       " ('Cloud', 'NNP'),\n",
       " ('virksomhedens', 'VBZ'),\n",
       " ('HR-system', 'NNP'),\n",
       " ('–', 'NNP'),\n",
       " ('Workday', 'NNP'),\n",
       " ('–', 'NNP'),\n",
       " ('så', 'NN'),\n",
       " ('dækker', 'NN'),\n",
       " ('efterhånden', 'JJ'),\n",
       " ('integrationen', 'NN'),\n",
       " ('førende', 'JJ'),\n",
       " ('globale', 'JJ'),\n",
       " ('HR-systemer', 'NNP'),\n",
       " ('.', '.'),\n",
       " ('giver', 'NN'),\n",
       " ('gode', 'NN'),\n",
       " ('markedsmæssige', 'NN'),\n",
       " ('muligheder', 'NN'),\n",
       " (',', ','),\n",
       " ('”', 'NNP'),\n",
       " ('siger', 'NN'),\n",
       " ('Kristian', 'NNP'),\n",
       " ('Linde', 'NNP'),\n",
       " (',', ','),\n",
       " ('Business', 'NNP'),\n",
       " ('Line', 'NNP'),\n",
       " ('Director', 'NNP'),\n",
       " ('KMD', 'NNP'),\n",
       " ('.', '.'),\n",
       " ('”', 'VB'),\n",
       " ('hele', 'JJ'),\n",
       " ('forløbet', 'NN'),\n",
       " ('haft', 'NN'),\n",
       " ('tæt', 'NN'),\n",
       " ('kontakt', 'VBD'),\n",
       " ('kunden', 'JJ'),\n",
       " ('–', 'NN'),\n",
       " ('lyttet', 'NN'),\n",
       " (',', ','),\n",
       " ('forstået', 'NN'),\n",
       " ('kundens', 'NNS'),\n",
       " ('behov', 'VBP'),\n",
       " ('sidste', 'NN'),\n",
       " ('ende', 'NN'),\n",
       " ('tilbudt', 'NN'),\n",
       " ('løsning', 'NN'),\n",
       " (',', ','),\n",
       " ('passer', 'NN'),\n",
       " ('Siemens', 'NNP'),\n",
       " ('Gamesa', 'NNP'),\n",
       " (',', ','),\n",
       " ('”', 'NNP'),\n",
       " ('siger', 'NN'),\n",
       " ('Kristian', 'NNP'),\n",
       " ('Linde', 'NNP'),\n",
       " ('sender', 'NN'),\n",
       " ('stor', 'NN'),\n",
       " ('tak', 'NN'),\n",
       " ('teamet', 'VBD'),\n",
       " ('bag', 'JJ'),\n",
       " ('nye', 'JJ'),\n",
       " ('aftale', 'NN'),\n",
       " ('.', '.'),\n",
       " ('Siemens', 'NNP'),\n",
       " ('Gamesa', 'NNP'),\n",
       " ('anvender', 'NN'),\n",
       " ('dag', 'NN'),\n",
       " ('løsningen', 'NN'),\n",
       " ('KMD', 'NNP'),\n",
       " ('Nettoløn', 'NNP'),\n",
       " ('første', 'NN'),\n",
       " ('kunder', 'NN'),\n",
       " ('KMD', 'NNP'),\n",
       " ('Nettoløn', 'NNP'),\n",
       " (',', ','),\n",
       " ('løftet', 'NN'),\n",
       " ('cloudbaserede', 'NN'),\n",
       " ('KMD', 'NNP'),\n",
       " ('Payroll', 'NNP'),\n",
       " ('Cloud', 'NNP'),\n",
       " ('.', '.')]"
      ]
     },
     "execution_count": 24,
     "metadata": {},
     "output_type": "execute_result"
    }
   ],
   "source": [
    "pos_tagged_tokens"
   ]
  },
  {
   "cell_type": "markdown",
   "id": "c32888a5",
   "metadata": {},
   "source": [
    "### Named Entity Recognition where im trying ti identify entities in the text"
   ]
  },
  {
   "cell_type": "markdown",
   "id": "2e524777",
   "metadata": {},
   "source": [
    "### this have been trained to recognize four types of entities: location (LOC), organizations (ORG), person (PER) and Miscellaneous (MISC)."
   ]
  },
  {
   "cell_type": "code",
   "execution_count": 10,
   "id": "a410203b",
   "metadata": {},
   "outputs": [],
   "source": [
    "nlp = spacy.load('da_core_news_sm')\n",
    "doc = nlp(text)\n",
    "entities = [(entity.text, entity.label_) for entity in doc.ents]"
   ]
  },
  {
   "cell_type": "code",
   "execution_count": 16,
   "id": "090e7259",
   "metadata": {
    "scrolled": false
   },
   "outputs": [
    {
     "data": {
      "text/plain": [
       "[('danske', 'MISC'),\n",
       " ('KMD Payroll Cloud', 'ORG'),\n",
       " ('KMD', 'ORG'),\n",
       " ('KMD', 'ORG'),\n",
       " ('Kirsten Therkildsen', 'PER'),\n",
       " ('Siemens Gamesa', 'LOC'),\n",
       " ('KMD', 'ORG'),\n",
       " ('KMD', 'ORG'),\n",
       " ('Siemens Gamesa', 'PER'),\n",
       " ('KMD Payroll Cloud', 'ORG'),\n",
       " ('HR-system', 'MISC'),\n",
       " ('HR-systemer', 'MISC'),\n",
       " ('Kristian de Linde', 'PER'),\n",
       " ('Business Line Director', 'PER'),\n",
       " ('KMD', 'ORG'),\n",
       " ('Siemens Gamesa', 'LOC'),\n",
       " ('Kristian de Linde', 'PER'),\n",
       " ('Siemens Gamesa', 'PER'),\n",
       " ('KMD Nettoløn', 'ORG'),\n",
       " ('KMD Nettoløn', 'ORG'),\n",
       " ('KMD Payroll Cloud', 'ORG')]"
      ]
     },
     "execution_count": 16,
     "metadata": {},
     "output_type": "execute_result"
    }
   ],
   "source": [
    "entities"
   ]
  },
  {
   "cell_type": "markdown",
   "id": "274ffd98",
   "metadata": {},
   "source": [
    "### Making a function that is able to do everything as above, and then just return the text"
   ]
  },
  {
   "cell_type": "code",
   "execution_count": 7,
   "id": "7dabba4c",
   "metadata": {
    "scrolled": true
   },
   "outputs": [
    {
     "name": "stdout",
     "output_type": "stream",
     "text": [
      "vindmølleproducent skift dansk cloudbas payrol kmd payrol løsning optim proces samtid hånd outsourc løsning kontrol egn data therkilds glæd gang kmd aftal stolt siem valg partn samtid kund integr payrol virksom hr-system workday dæk efterhånd integration global hr-system god markedsmæs lin director kmd hel forløb kontak kund behov tilbud løsning stor tak team nye aftal anvend dag løsning nettoløn kund cloudbas kmd payrol\n"
     ]
    }
   ],
   "source": [
    "# Loading Danish language model in spaCy\n",
    "nlp = spacy.load('da_core_news_sm')\n",
    "stemmer = DanishStemmer()\n",
    "\n",
    "def preprocess(doc):\n",
    "    # Tokenizinfdg the  text and removing punctuation\n",
    "    tokens = [token.text for token in nlp(doc) if not token.is_punct]\n",
    "    \n",
    "    # Remove alle the stop words, lemmatize tokens, and stem tokens\n",
    "    tokens = [stemmer.stem(token) for token in tokens if token.lower() not in STOP_WORDS]\n",
    "    \n",
    "    # Tag tokens with parts of speech\n",
    "    pos_tags = [token.pos_ for token in nlp(' '.join(tokens))]\n",
    "    \n",
    "    # Only keep nouns and adjectives\n",
    "    tokens = [token for i, token in enumerate(tokens) if pos_tags[i] in ['NOUN', 'ADJ']]\n",
    "    \n",
    "    # Join the tokens into a single string\n",
    "    filtered_text = ' '.join(tokens)\n",
    "    return filtered_text\n",
    "\n",
    "document = 'Vindmølleproducenten skifter sine 6.000 danske ansatte til den cloudbaserede KMD Payroll Cloud.\\n”KMD Payroll Cloud passer perfekt til os, da løsningen optimerer en række processer, og samtidig vil KMD håndtere mange administrationsopgaver. Dermed får vi en delvist outsourcet løsning, hvor vi stadig selv er i kontrol med vores egne data,” siger Kirsten Therkildsen, som er Head of HR Services i Siemens Gamesa.\\n”Nu glæder vi os bare til at komme i gang med projektet, og vi ser meget frem til samarbejdet med KMD,\" tilføjer hun.\\nOgså i KMD er der glæde over aftalen. \\n”Vi er stolte af, at Siemens Gamesa valgte os som deres partner. Samtidig får vi nu en ny kunde ind, hvor vi integrerer KMD Payroll Cloud med virksomhedens HR-system – Workday – så vi dækker efterhånden integrationen til de førende globale HR-systemer. Det giver nogle gode markedsmæssige muligheder,” siger Kristian de Linde, Business Line Director i KMD.\\n”I hele forløbet har vi haft en meget tæt kontakt til kunden – vi har lyttet, forstået kundens behov og i sidste ende tilbudt en løsning, som passer til Siemens Gamesa,” siger Kristian de Linde og sender en stor tak til teamet bag den nye aftale.\\nSiemens Gamesa anvender i dag løsningen KMD Nettoløn og er den første af de mange kunder på KMD Nettoløn, som bliver løftet til den cloudbaserede KMD Payroll Cloud.'\n",
    "preprocessed_doc = preprocess(document)\n",
    "print(preprocessed_doc)"
   ]
  },
  {
   "cell_type": "code",
   "execution_count": 8,
   "id": "f14b6240",
   "metadata": {
    "scrolled": true
   },
   "outputs": [
    {
     "name": "stdout",
     "output_type": "stream",
     "text": [
      "neg=0.0 neu=0.733 pos=0.267 compound=0.9517\n"
     ]
    }
   ],
   "source": [
    "nlp = spacy.blank(\"da\")\n",
    "nlp.add_pipe(\"sentencizer\")\n",
    "nlp.add_pipe(\"asent_da_v1\")\n",
    "doc = nlp(preprocessed_doc)\n",
    "print(doc._.polarity)"
   ]
  },
  {
   "cell_type": "markdown",
   "id": "bae10402",
   "metadata": {},
   "source": [
    "### In this example we can again use Asent to obtain more information and in this situation the rated valence of a single token. We can see that both \"stolt\" and \"god\" is rated postive"
   ]
  },
  {
   "cell_type": "code",
   "execution_count": 9,
   "id": "a8128c16",
   "metadata": {},
   "outputs": [
    {
     "name": "stdout",
     "output_type": "stream",
     "text": [
      "polarity=0.0 token=vindmølleproducent span=vindmølleproducent | Valence: 0.0 | Negation: False\n",
      "polarity=0.0 token=skift span=skift | Valence: 0.0 | Negation: False\n",
      "polarity=0.0 token=dansk span=dansk | Valence: 0.0 | Negation: False\n",
      "polarity=0.0 token=cloudbas span=cloudbas | Valence: 0.0 | Negation: False\n",
      "polarity=0.0 token=payrol span=payrol | Valence: 0.0 | Negation: False\n",
      "polarity=0.0 token=kmd span=kmd | Valence: 0.0 | Negation: False\n",
      "polarity=0.0 token=payrol span=payrol | Valence: 0.0 | Negation: False\n",
      "polarity=1.0 token=løsning span=løsning | Valence: 1.0 | Negation: False\n",
      "polarity=0.0 token=optim span=optim | Valence: 0.0 | Negation: False\n",
      "polarity=0.0 token=proces span=proces | Valence: 0.0 | Negation: False\n",
      "polarity=0.0 token=samtid span=samtid | Valence: 0.0 | Negation: False\n",
      "polarity=0.0 token=hånd span=hånd | Valence: 0.0 | Negation: False\n",
      "polarity=0.0 token=outsourc span=outsourc | Valence: 0.0 | Negation: False\n",
      "polarity=1.0 token=løsning span=løsning | Valence: 1.0 | Negation: False\n",
      "polarity=0.0 token=kontrol span=kontrol | Valence: 0.0 | Negation: False\n",
      "polarity=0.0 token=egn span=egn | Valence: 0.0 | Negation: False\n",
      "polarity=0.0 token=data span=data | Valence: 0.0 | Negation: False\n",
      "polarity=0.0 token=therkilds span=therkilds | Valence: 0.0 | Negation: False\n",
      "polarity=0.0 token=glæd span=glæd | Valence: 0.0 | Negation: False\n",
      "polarity=0.0 token=gang span=gang | Valence: 0.0 | Negation: False\n",
      "polarity=0.0 token=kmd span=kmd | Valence: 0.0 | Negation: False\n",
      "polarity=0.0 token=aftal span=aftal | Valence: 0.0 | Negation: False\n",
      "polarity=2.0 token=stolt span=stolt | Valence: 2.0 | Negation: False\n",
      "polarity=0.0 token=siem span=siem | Valence: 0.0 | Negation: False\n",
      "polarity=0.0 token=valg span=valg | Valence: 0.0 | Negation: False\n",
      "polarity=0.0 token=partn span=partn | Valence: 0.0 | Negation: False\n",
      "polarity=0.0 token=samtid span=samtid | Valence: 0.0 | Negation: False\n",
      "polarity=0.0 token=kund span=kund | Valence: 0.0 | Negation: False\n",
      "polarity=0.0 token=integr span=integr | Valence: 0.0 | Negation: False\n",
      "polarity=0.0 token=payrol span=payrol | Valence: 0.0 | Negation: False\n",
      "polarity=1.0 token=virksom span=virksom | Valence: 1.0 | Negation: False\n",
      "polarity=0.0 token=hr-system span=hr-system | Valence: 0.0 | Negation: False\n",
      "polarity=0.0 token=workday span=workday | Valence: 0.0 | Negation: False\n",
      "polarity=0.0 token=dæk span=dæk | Valence: 0.0 | Negation: False\n",
      "polarity=0.0 token=efterhånd span=efterhånd | Valence: 0.0 | Negation: False\n",
      "polarity=0.0 token=integration span=integration | Valence: 0.0 | Negation: False\n",
      "polarity=0.0 token=global span=global | Valence: 0.0 | Negation: False\n",
      "polarity=0.0 token=hr-system span=hr-system | Valence: 0.0 | Negation: False\n",
      "polarity=3.0 token=god span=god | Valence: 3.0 | Negation: False\n",
      "polarity=0.0 token=markedsmæs span=markedsmæs | Valence: 0.0 | Negation: False\n",
      "polarity=0.0 token=lin span=lin | Valence: 0.0 | Negation: False\n",
      "polarity=0.0 token=director span=director | Valence: 0.0 | Negation: False\n",
      "polarity=0.0 token=kmd span=kmd | Valence: 0.0 | Negation: False\n",
      "polarity=0.0 token=hel span=hel | Valence: 0.0 | Negation: False\n",
      "polarity=0.0 token=forløb span=forløb | Valence: 0.0 | Negation: False\n",
      "polarity=0.0 token=kontak span=kontak | Valence: 0.0 | Negation: False\n",
      "polarity=0.0 token=kund span=kund | Valence: 0.0 | Negation: False\n",
      "polarity=0.0 token=behov span=behov | Valence: 0.0 | Negation: False\n",
      "polarity=0.0 token=tilbud span=tilbud | Valence: 0.0 | Negation: False\n",
      "polarity=1.0 token=løsning span=løsning | Valence: 1.0 | Negation: False\n",
      "polarity=0.0 token=stor span=stor | Valence: 0.0 | Negation: False\n",
      "polarity=2.0 token=tak span=tak | Valence: 2.0 | Negation: False\n",
      "polarity=0.0 token=team span=team | Valence: 0.0 | Negation: False\n",
      "polarity=0.0 token=nye span=nye | Valence: 0.0 | Negation: False\n",
      "polarity=0.0 token=aftal span=aftal | Valence: 0.0 | Negation: False\n",
      "polarity=0.0 token=anvend span=anvend | Valence: 0.0 | Negation: False\n",
      "polarity=0.0 token=dag span=dag | Valence: 0.0 | Negation: False\n",
      "polarity=1.0 token=løsning span=løsning | Valence: 1.0 | Negation: False\n",
      "polarity=0.0 token=nettoløn span=nettoløn | Valence: 0.0 | Negation: False\n",
      "polarity=0.0 token=kund span=kund | Valence: 0.0 | Negation: False\n",
      "polarity=0.0 token=cloudbas span=cloudbas | Valence: 0.0 | Negation: False\n",
      "polarity=0.0 token=kmd span=kmd | Valence: 0.0 | Negation: False\n",
      "polarity=0.0 token=payrol span=payrol | Valence: 0.0 | Negation: False\n"
     ]
    }
   ],
   "source": [
    "for token in doc:\n",
    "    print(f\"{token._.polarity} | Valence: {token._.valence} | Negation: {token._.is_negation}\")"
   ]
  },
  {
   "cell_type": "code",
   "execution_count": 10,
   "id": "ca9432f5",
   "metadata": {
    "scrolled": false
   },
   "outputs": [
    {
     "data": {
      "text/html": [
       "<span class=\"tex2jax_ignore\"><div class=\"spans\" style=\"line-height: 2.5; direction: ltr\">vindmølleproducent skift dansk cloudbas payrol kmd payrol \n",
       "<span style=\"font-weight: bold; display: inline-block; position: relative; height: 60px;\">\n",
       "    løsning\n",
       "    \n",
       "<span style=\"background: #d9ef8b; top: 40px; height: 4px; left: -1px; width: calc(100% + 2px); position: absolute;\">\n",
       "</span>\n",
       "\n",
       "    \n",
       "<span style=\"background: #d9ef8b; top: 40px; height: 4px; border-top-left-radius: 3px; border-bottom-left-radius: 3px; left: -1px; width: calc(100% + 2px); position: absolute;\">\n",
       "    <span style=\"background: #d9ef8b; z-index: 10; color: #000; top: -0.5em; padding: 2px 3px; position: absolute; font-size: 0.6em; font-weight: bold; line-height: 1; border-radius: 3px\">\n",
       "        1.0\n",
       "    </span>\n",
       "</span>\n",
       "\n",
       "\n",
       "</span>\n",
       "optim proces samtid hånd outsourc \n",
       "<span style=\"font-weight: bold; display: inline-block; position: relative; height: 60px;\">\n",
       "    løsning\n",
       "    \n",
       "<span style=\"background: #d9ef8b; top: 40px; height: 4px; left: -1px; width: calc(100% + 2px); position: absolute;\">\n",
       "</span>\n",
       "\n",
       "    \n",
       "<span style=\"background: #d9ef8b; top: 40px; height: 4px; border-top-left-radius: 3px; border-bottom-left-radius: 3px; left: -1px; width: calc(100% + 2px); position: absolute;\">\n",
       "    <span style=\"background: #d9ef8b; z-index: 10; color: #000; top: -0.5em; padding: 2px 3px; position: absolute; font-size: 0.6em; font-weight: bold; line-height: 1; border-radius: 3px\">\n",
       "        1.0\n",
       "    </span>\n",
       "</span>\n",
       "\n",
       "\n",
       "</span>\n",
       "kontrol egn data therkilds glæd gang kmd aftal \n",
       "<span style=\"font-weight: bold; display: inline-block; position: relative; height: 60px;\">\n",
       "    stolt\n",
       "    \n",
       "<span style=\"background: #a6d96a; top: 40px; height: 4px; left: -1px; width: calc(100% + 2px); position: absolute;\">\n",
       "</span>\n",
       "\n",
       "    \n",
       "<span style=\"background: #a6d96a; top: 40px; height: 4px; border-top-left-radius: 3px; border-bottom-left-radius: 3px; left: -1px; width: calc(100% + 2px); position: absolute;\">\n",
       "    <span style=\"background: #a6d96a; z-index: 10; color: #000; top: -0.5em; padding: 2px 3px; position: absolute; font-size: 0.6em; font-weight: bold; line-height: 1; border-radius: 3px\">\n",
       "        2.0\n",
       "    </span>\n",
       "</span>\n",
       "\n",
       "\n",
       "</span>\n",
       "siem valg partn samtid kund integr payrol \n",
       "<span style=\"font-weight: bold; display: inline-block; position: relative; height: 60px;\">\n",
       "    virksom\n",
       "    \n",
       "<span style=\"background: #d9ef8b; top: 40px; height: 4px; left: -1px; width: calc(100% + 2px); position: absolute;\">\n",
       "</span>\n",
       "\n",
       "    \n",
       "<span style=\"background: #d9ef8b; top: 40px; height: 4px; border-top-left-radius: 3px; border-bottom-left-radius: 3px; left: -1px; width: calc(100% + 2px); position: absolute;\">\n",
       "    <span style=\"background: #d9ef8b; z-index: 10; color: #000; top: -0.5em; padding: 2px 3px; position: absolute; font-size: 0.6em; font-weight: bold; line-height: 1; border-radius: 3px\">\n",
       "        1.0\n",
       "    </span>\n",
       "</span>\n",
       "\n",
       "\n",
       "</span>\n",
       "hr-system workday dæk efterhånd integration global hr-system \n",
       "<span style=\"font-weight: bold; display: inline-block; position: relative; height: 60px;\">\n",
       "    god\n",
       "    \n",
       "<span style=\"background: #66bd63; top: 40px; height: 4px; left: -1px; width: calc(100% + 2px); position: absolute;\">\n",
       "</span>\n",
       "\n",
       "    \n",
       "<span style=\"background: #66bd63; top: 40px; height: 4px; border-top-left-radius: 3px; border-bottom-left-radius: 3px; left: -1px; width: calc(100% + 2px); position: absolute;\">\n",
       "    <span style=\"background: #66bd63; z-index: 10; color: #000; top: -0.5em; padding: 2px 3px; position: absolute; font-size: 0.6em; font-weight: bold; line-height: 1; border-radius: 3px\">\n",
       "        3.0\n",
       "    </span>\n",
       "</span>\n",
       "\n",
       "\n",
       "</span>\n",
       "markedsmæs lin director kmd hel forløb kontak kund behov tilbud \n",
       "<span style=\"font-weight: bold; display: inline-block; position: relative; height: 60px;\">\n",
       "    løsning\n",
       "    \n",
       "<span style=\"background: #d9ef8b; top: 40px; height: 4px; left: -1px; width: calc(100% + 2px); position: absolute;\">\n",
       "</span>\n",
       "\n",
       "    \n",
       "<span style=\"background: #d9ef8b; top: 40px; height: 4px; border-top-left-radius: 3px; border-bottom-left-radius: 3px; left: -1px; width: calc(100% + 2px); position: absolute;\">\n",
       "    <span style=\"background: #d9ef8b; z-index: 10; color: #000; top: -0.5em; padding: 2px 3px; position: absolute; font-size: 0.6em; font-weight: bold; line-height: 1; border-radius: 3px\">\n",
       "        1.0\n",
       "    </span>\n",
       "</span>\n",
       "\n",
       "\n",
       "</span>\n",
       "stor \n",
       "<span style=\"font-weight: bold; display: inline-block; position: relative; height: 60px;\">\n",
       "    tak\n",
       "    \n",
       "<span style=\"background: #a6d96a; top: 40px; height: 4px; left: -1px; width: calc(100% + 2px); position: absolute;\">\n",
       "</span>\n",
       "\n",
       "    \n",
       "<span style=\"background: #a6d96a; top: 40px; height: 4px; border-top-left-radius: 3px; border-bottom-left-radius: 3px; left: -1px; width: calc(100% + 2px); position: absolute;\">\n",
       "    <span style=\"background: #a6d96a; z-index: 10; color: #000; top: -0.5em; padding: 2px 3px; position: absolute; font-size: 0.6em; font-weight: bold; line-height: 1; border-radius: 3px\">\n",
       "        2.0\n",
       "    </span>\n",
       "</span>\n",
       "\n",
       "\n",
       "</span>\n",
       "team nye aftal anvend dag \n",
       "<span style=\"font-weight: bold; display: inline-block; position: relative; height: 60px;\">\n",
       "    løsning\n",
       "    \n",
       "<span style=\"background: #d9ef8b; top: 40px; height: 4px; left: -1px; width: calc(100% + 2px); position: absolute;\">\n",
       "</span>\n",
       "\n",
       "    \n",
       "<span style=\"background: #d9ef8b; top: 40px; height: 4px; border-top-left-radius: 3px; border-bottom-left-radius: 3px; left: -1px; width: calc(100% + 2px); position: absolute;\">\n",
       "    <span style=\"background: #d9ef8b; z-index: 10; color: #000; top: -0.5em; padding: 2px 3px; position: absolute; font-size: 0.6em; font-weight: bold; line-height: 1; border-radius: 3px\">\n",
       "        1.0\n",
       "    </span>\n",
       "</span>\n",
       "\n",
       "\n",
       "</span>\n",
       "nettoløn kund cloudbas kmd payrol </div></span>"
      ],
      "text/plain": [
       "<IPython.core.display.HTML object>"
      ]
     },
     "metadata": {},
     "output_type": "display_data"
    }
   ],
   "source": [
    "# visualize model prediction\n",
    "asent.visualize(doc, style=\"prediction\")"
   ]
  },
  {
   "cell_type": "markdown",
   "id": "5e6967e2",
   "metadata": {},
   "source": [
    "## Im using Latent Dirichlet Allocation trying to identify the main topics or themes discussed in the article. This can give me some ideas what the company is focused on and what they specialize in"
   ]
  },
  {
   "cell_type": "markdown",
   "id": "412c9f12",
   "metadata": {},
   "source": [
    "### the output that i get is only based on a small text which isn't perfect, and in real-world scenarios, i would need to process a larger text corpus for the LDA model to get better results."
   ]
  },
  {
   "cell_type": "code",
   "execution_count": 20,
   "id": "27eb0084",
   "metadata": {},
   "outputs": [
    {
     "name": "stdout",
     "output_type": "stream",
     "text": [
      "[(0,\n",
      "  '0.045*\"løsning\" + 0.045*\"kmd\" + 0.045*\"payrol\" + 0.036*\"kund\" + '\n",
      "  '0.027*\"system\" + 0.027*\"samtid\" + 0.027*\"aftal\" + 0.027*\"hr\" + '\n",
      "  '0.027*\"cloudbas\" + 0.018*\"nye\"')]\n"
     ]
    }
   ],
   "source": [
    "# Tokeniz the text\n",
    "tokens = gensim.utils.simple_preprocess(preprocessed_doc)\n",
    "\n",
    "# Creating a dictionary from the tokens\n",
    "dictionary = corpora.Dictionary([tokens])\n",
    "\n",
    "# Creating a corpus from the tokens\n",
    "corpus = [dictionary.doc2bow([token]) for token in tokens]\n",
    "\n",
    "# Define the number of topics\n",
    "num_topics = 1\n",
    "\n",
    "# Training tthe LDA model\n",
    "lda_model = gensim.models.LdaModel(corpus=corpus,\n",
    "                                   id2word=dictionary,\n",
    "                                   num_topics=num_topics,\n",
    "                                   random_state=100,\n",
    "                                   chunksize=100,\n",
    "                                   passes=10)\n",
    "pprint(lda_model.print_topics())"
   ]
  }
 ],
 "metadata": {
  "kernelspec": {
   "display_name": "Python 3 (ipykernel)",
   "language": "python",
   "name": "python3"
  },
  "language_info": {
   "codemirror_mode": {
    "name": "ipython",
    "version": 3
   },
   "file_extension": ".py",
   "mimetype": "text/x-python",
   "name": "python",
   "nbconvert_exporter": "python",
   "pygments_lexer": "ipython3",
   "version": "3.9.13"
  }
 },
 "nbformat": 4,
 "nbformat_minor": 5
}
