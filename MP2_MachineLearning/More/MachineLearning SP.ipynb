{
 "cells": [
  {
   "cell_type": "code",
   "execution_count": 35,
   "id": "ea9b9069",
   "metadata": {},
   "outputs": [],
   "source": [
    "import pandas as pd\n",
    "import numpy as np\n",
    "import matplotlib.pyplot as plt\n",
    "%matplotlib inline\n",
    "import seaborn as sns\n",
    "from sklearn import datasets, preprocessing, metrics\n",
    "import sklearn as sk\n",
    "import math \n",
    "import pprint\n",
    "from scipy.stats import normaltest\n",
    "from sklearn.model_selection import train_test_split\n",
    "from sklearn import linear_model\n",
    "from sklearn.linear_model import LinearRegression\n",
    "import sklearn.metrics as sm\n",
    "from sklearn.metrics import r2_score, mean_squared_error\n",
    "import pickle"
   ]
  },
  {
   "cell_type": "code",
   "execution_count": 185,
   "id": "f7d91e92",
   "metadata": {},
   "outputs": [
    {
     "data": {
      "text/html": [
       "<div>\n",
       "<style scoped>\n",
       "    .dataframe tbody tr th:only-of-type {\n",
       "        vertical-align: middle;\n",
       "    }\n",
       "\n",
       "    .dataframe tbody tr th {\n",
       "        vertical-align: top;\n",
       "    }\n",
       "\n",
       "    .dataframe thead th {\n",
       "        text-align: right;\n",
       "    }\n",
       "</style>\n",
       "<table border=\"1\" class=\"dataframe\">\n",
       "  <thead>\n",
       "    <tr style=\"text-align: right;\">\n",
       "      <th></th>\n",
       "      <th>amountemployes</th>\n",
       "      <th>beforetaxes</th>\n",
       "    </tr>\n",
       "  </thead>\n",
       "  <tbody>\n",
       "    <tr>\n",
       "      <th>0</th>\n",
       "      <td>1855</td>\n",
       "      <td>65285</td>\n",
       "    </tr>\n",
       "    <tr>\n",
       "      <th>1</th>\n",
       "      <td>1464</td>\n",
       "      <td>-146000</td>\n",
       "    </tr>\n",
       "    <tr>\n",
       "      <th>2</th>\n",
       "      <td>36</td>\n",
       "      <td>4333</td>\n",
       "    </tr>\n",
       "    <tr>\n",
       "      <th>3</th>\n",
       "      <td>1386</td>\n",
       "      <td>1906692</td>\n",
       "    </tr>\n",
       "    <tr>\n",
       "      <th>4</th>\n",
       "      <td>2317</td>\n",
       "      <td>2691000</td>\n",
       "    </tr>\n",
       "    <tr>\n",
       "      <th>5</th>\n",
       "      <td>20</td>\n",
       "      <td>11</td>\n",
       "    </tr>\n",
       "    <tr>\n",
       "      <th>6</th>\n",
       "      <td>2340</td>\n",
       "      <td>754384</td>\n",
       "    </tr>\n",
       "    <tr>\n",
       "      <th>7</th>\n",
       "      <td>22150</td>\n",
       "      <td>56771000</td>\n",
       "    </tr>\n",
       "    <tr>\n",
       "      <th>8</th>\n",
       "      <td>87</td>\n",
       "      <td>46810</td>\n",
       "    </tr>\n",
       "    <tr>\n",
       "      <th>9</th>\n",
       "      <td>59</td>\n",
       "      <td>4469</td>\n",
       "    </tr>\n",
       "    <tr>\n",
       "      <th>10</th>\n",
       "      <td>83</td>\n",
       "      <td>46510</td>\n",
       "    </tr>\n",
       "    <tr>\n",
       "      <th>11</th>\n",
       "      <td>3642</td>\n",
       "      <td>-413000</td>\n",
       "    </tr>\n",
       "    <tr>\n",
       "      <th>12</th>\n",
       "      <td>522</td>\n",
       "      <td>20291</td>\n",
       "    </tr>\n",
       "    <tr>\n",
       "      <th>13</th>\n",
       "      <td>254</td>\n",
       "      <td>501020</td>\n",
       "    </tr>\n",
       "    <tr>\n",
       "      <th>14</th>\n",
       "      <td>91</td>\n",
       "      <td>9000</td>\n",
       "    </tr>\n",
       "    <tr>\n",
       "      <th>15</th>\n",
       "      <td>1654</td>\n",
       "      <td>2450232</td>\n",
       "    </tr>\n",
       "    <tr>\n",
       "      <th>16</th>\n",
       "      <td>844</td>\n",
       "      <td>93923</td>\n",
       "    </tr>\n",
       "    <tr>\n",
       "      <th>17</th>\n",
       "      <td>640</td>\n",
       "      <td>43021</td>\n",
       "    </tr>\n",
       "    <tr>\n",
       "      <th>18</th>\n",
       "      <td>1850</td>\n",
       "      <td>296831</td>\n",
       "    </tr>\n",
       "  </tbody>\n",
       "</table>\n",
       "</div>"
      ],
      "text/plain": [
       "    amountemployes  beforetaxes\n",
       "0             1855        65285\n",
       "1             1464      -146000\n",
       "2               36         4333\n",
       "3             1386      1906692\n",
       "4             2317      2691000\n",
       "5               20           11\n",
       "6             2340       754384\n",
       "7            22150     56771000\n",
       "8               87        46810\n",
       "9               59         4469\n",
       "10              83        46510\n",
       "11            3642      -413000\n",
       "12             522        20291\n",
       "13             254       501020\n",
       "14              91         9000\n",
       "15            1654      2450232\n",
       "16             844        93923\n",
       "17             640        43021\n",
       "18            1850       296831"
      ]
     },
     "execution_count": 185,
     "metadata": {},
     "output_type": "execute_result"
    }
   ],
   "source": [
    "df = pd.read_csv('proffData.csv')\n",
    "df.head(20)"
   ]
  },
  {
   "cell_type": "code",
   "execution_count": 186,
   "id": "869c1fc2",
   "metadata": {},
   "outputs": [],
   "source": [
    "#df1 = pd.read_csv('task2.2.csv')\n",
    "#del df1[df1.columns[0]]\n",
    "#df1.head(1)"
   ]
  },
  {
   "cell_type": "code",
   "execution_count": 187,
   "id": "57d865c4",
   "metadata": {},
   "outputs": [],
   "source": [
    "#final = pd.concat([df1, df], axis=1)"
   ]
  },
  {
   "cell_type": "code",
   "execution_count": 188,
   "id": "937c82f1",
   "metadata": {
    "scrolled": true
   },
   "outputs": [],
   "source": [
    "#final.head(1)"
   ]
  },
  {
   "cell_type": "code",
   "execution_count": 189,
   "id": "ea44bc4b",
   "metadata": {},
   "outputs": [],
   "source": [
    "#new_df = final.loc[:, ['name','city', 'amountemployes','beforetaxes' ]]"
   ]
  },
  {
   "cell_type": "code",
   "execution_count": 190,
   "id": "f4db0504",
   "metadata": {},
   "outputs": [],
   "source": [
    "#new_df['new_revenue'] = 0"
   ]
  },
  {
   "cell_type": "code",
   "execution_count": 191,
   "id": "99fcb153",
   "metadata": {
    "scrolled": false
   },
   "outputs": [],
   "source": [
    "#new_df"
   ]
  },
  {
   "cell_type": "code",
   "execution_count": 192,
   "id": "b560955c",
   "metadata": {},
   "outputs": [],
   "source": [
    "#del new_df[new_df.columns[0]]\n",
    "#del new_df[new_df.columns[0]]"
   ]
  },
  {
   "cell_type": "code",
   "execution_count": 193,
   "id": "330b9798",
   "metadata": {},
   "outputs": [],
   "source": [
    "#new_df.head()"
   ]
  },
  {
   "cell_type": "code",
   "execution_count": 194,
   "id": "5a9540e1",
   "metadata": {},
   "outputs": [],
   "source": [
    "#X = new_df['beforetaxes'].values.reshape(-1, 1)\n",
    "#y = new_df['amountemployes'].values.reshape(-1, 1)\n",
    "\n",
    "#Split the data into training and testing sets\n",
    "#X_train, X_test, y_train, y_test = train_test_split(X, y, test_size=0.2, random_state=42)\n",
    "\n",
    "# Train the model\n",
    "#reg = LinearRegression()\n",
    "#reg.fit(X_train, y_train)\n",
    "\n",
    "\n",
    "# Make predictions\n",
    "#y_pred = reg.predict(X_test)\n"
   ]
  },
  {
   "cell_type": "code",
   "execution_count": null,
   "id": "08e518d9",
   "metadata": {},
   "outputs": [],
   "source": []
  },
  {
   "cell_type": "code",
   "execution_count": 195,
   "id": "d7e3bf4e",
   "metadata": {},
   "outputs": [
    {
     "data": {
      "image/png": "[encoded data removed]",
      "text/plain": [
       "<Figure size 640x480 with 2 Axes>"
      ]
     },
     "metadata": {},
     "output_type": "display_data"
    },
    {
     "data": {
      "image/png": "[encoded data removed]",
      "text/plain": [
       "<Figure size 500x500 with 6 Axes>"
      ]
     },
     "metadata": {},
     "output_type": "display_data"
    },
    {
     "name": "stdout",
     "output_type": "stream",
     "text": [
      "R-squared score: -189.34246054835666\n",
      "Mean squared error: 23565363872363.58\n",
      "Predicted revenue for next year: 4970220.935824927\n"
     ]
    }
   ],
   "source": [
    "X = df[['beforetaxes']]\n",
    "y = df['beforetaxes'].shift(-1)\n",
    "X = X[:-1]\n",
    "y = y[:-1]\n",
    "corr_matrix = new_df.corr()\n",
    "sns.heatmap(corr_matrix, annot=True)\n",
    "sns.pairplot(new_df[['amountemployes', 'beforetaxes']])\n",
    "plt.show()\n",
    "\n",
    "X_train, X_test, y_train, y_test = train_test_split(X, y, test_size=0.2, random_state=42)\n",
    "model = LinearRegression()\n",
    "model.fit(X_train, y_train)\n",
    "y_pred = model.predict(X_test)\n",
    "r2 = r2_score(y_test, y_pred)\n",
    "mse = mean_squared_error(y_test, y_pred)\n",
    "print('R-squared score:', r2)\n",
    "print('Mean squared error:', mse)\n",
    "\n",
    "X_new = np.array([[df['beforetaxes'].iloc[-1]]])\n",
    "X_new = pd.DataFrame(X_new, columns=['beforetaxes'])\n",
    "y_new = model.predict(X_new)\n",
    "print('Predicted revenue for next year:', y_new[0])\n"
   ]
  },
  {
   "cell_type": "code",
   "execution_count": 196,
   "id": "456a1921",
   "metadata": {},
   "outputs": [],
   "source": [
    "X = df['amountemployes'].values.reshape(-1, 1)\n",
    "y = df['beforetaxes'].values.reshape(-1, 1)"
   ]
  },
  {
   "cell_type": "code",
   "execution_count": 197,
   "id": "a9123254",
   "metadata": {},
   "outputs": [],
   "source": [
    "X_train, X_test, y_train, y_test = train_test_split(X, y, random_state=123, test_size=0.15) "
   ]
  },
  {
   "cell_type": "code",
   "execution_count": 198,
   "id": "b68e3533",
   "metadata": {},
   "outputs": [
    {
     "name": "stdout",
     "output_type": "stream",
     "text": [
      "(16, 1)\n",
      "(16, 1)\n",
      "(3, 1)\n",
      "(3, 1)\n"
     ]
    }
   ],
   "source": [
    "print(X_train.shape)\n",
    "print(y_train.shape)\n",
    "print(X_test.shape)\n",
    "print(y_test.shape)"
   ]
  },
  {
   "cell_type": "code",
   "execution_count": 199,
   "id": "c8d5dc3e",
   "metadata": {},
   "outputs": [],
   "source": [
    "myreg = LinearRegression()"
   ]
  },
  {
   "cell_type": "code",
   "execution_count": 200,
   "id": "335791dc",
   "metadata": {},
   "outputs": [
    {
     "data": {
      "text/plain": [
       "LinearRegression()"
      ]
     },
     "execution_count": 200,
     "metadata": {},
     "output_type": "execute_result"
    }
   ],
   "source": [
    "myreg.fit(X_train, y_train)"
   ]
  },
  {
   "cell_type": "code",
   "execution_count": 201,
   "id": "a8584fd7",
   "metadata": {},
   "outputs": [],
   "source": [
    "a = myreg.coef_\n",
    "b = myreg.intercept_"
   ]
  },
  {
   "cell_type": "code",
   "execution_count": 202,
   "id": "6071f0f6",
   "metadata": {},
   "outputs": [],
   "source": [
    "y_predicted = myreg.predict(X_test)"
   ]
  },
  {
   "cell_type": "code",
   "execution_count": 203,
   "id": "cda22230",
   "metadata": {
    "scrolled": true
   },
   "outputs": [
    {
     "data": {
      "image/png": "[encoded data removed]",
      "text/plain": [
       "<Figure size 640x480 with 1 Axes>"
      ]
     },
     "metadata": {},
     "output_type": "display_data"
    }
   ],
   "source": [
    "plt.title('Linear Regression')\n",
    "plt.scatter(X, y, color='green')\n",
    "plt.plot(X_train, a*X_train + b, color='blue')\n",
    "plt.plot(X_test, y_predicted, color='orange')\n",
    "plt.xlabel('beforetaxes')\n",
    "plt.ylabel('amountemployes')\n",
    "plt.show()"
   ]
  },
  {
   "cell_type": "code",
   "execution_count": 204,
   "id": "aa4e6f34",
   "metadata": {},
   "outputs": [
    {
     "data": {
      "text/plain": [
       "0.9610171918788336"
      ]
     },
     "execution_count": 204,
     "metadata": {},
     "output_type": "execute_result"
    }
   ],
   "source": [
    "R2 = myreg.score(X, y)\n",
    "R2"
   ]
  },
  {
   "cell_type": "code",
   "execution_count": 205,
   "id": "887a3511",
   "metadata": {},
   "outputs": [],
   "source": [
    "def categorize_company(row):\n",
    "    num_employees = row[\"amountemployes\"]\n",
    "    if num_employees < 50:\n",
    "        return \"Small\"\n",
    "    elif num_employees >= 50 and num_employees < 250 :\n",
    "        return \"Middle\"\n",
    "    elif num_employees >= 250:\n",
    "        return \"Large\"\n",
    "    else:\n",
    "        return \"Uncategorized\"\n",
    "\n",
    "df[\"company_size\"] = df.apply(categorize_company, axis=1)"
   ]
  },
  {
   "cell_type": "code",
   "execution_count": 206,
   "id": "67b98b7e",
   "metadata": {
    "scrolled": true
   },
   "outputs": [
    {
     "data": {
      "text/html": [
       "<div>\n",
       "<style scoped>\n",
       "    .dataframe tbody tr th:only-of-type {\n",
       "        vertical-align: middle;\n",
       "    }\n",
       "\n",
       "    .dataframe tbody tr th {\n",
       "        vertical-align: top;\n",
       "    }\n",
       "\n",
       "    .dataframe thead th {\n",
       "        text-align: right;\n",
       "    }\n",
       "</style>\n",
       "<table border=\"1\" class=\"dataframe\">\n",
       "  <thead>\n",
       "    <tr style=\"text-align: right;\">\n",
       "      <th></th>\n",
       "      <th>amountemployes</th>\n",
       "      <th>beforetaxes</th>\n",
       "      <th>company_size</th>\n",
       "    </tr>\n",
       "  </thead>\n",
       "  <tbody>\n",
       "    <tr>\n",
       "      <th>0</th>\n",
       "      <td>1855</td>\n",
       "      <td>65285</td>\n",
       "      <td>Large</td>\n",
       "    </tr>\n",
       "    <tr>\n",
       "      <th>1</th>\n",
       "      <td>1464</td>\n",
       "      <td>-146000</td>\n",
       "      <td>Large</td>\n",
       "    </tr>\n",
       "    <tr>\n",
       "      <th>2</th>\n",
       "      <td>36</td>\n",
       "      <td>4333</td>\n",
       "      <td>Small</td>\n",
       "    </tr>\n",
       "    <tr>\n",
       "      <th>3</th>\n",
       "      <td>1386</td>\n",
       "      <td>1906692</td>\n",
       "      <td>Large</td>\n",
       "    </tr>\n",
       "    <tr>\n",
       "      <th>4</th>\n",
       "      <td>2317</td>\n",
       "      <td>2691000</td>\n",
       "      <td>Large</td>\n",
       "    </tr>\n",
       "  </tbody>\n",
       "</table>\n",
       "</div>"
      ],
      "text/plain": [
       "   amountemployes  beforetaxes company_size\n",
       "0            1855        65285        Large\n",
       "1            1464      -146000        Large\n",
       "2              36         4333        Small\n",
       "3            1386      1906692        Large\n",
       "4            2317      2691000        Large"
      ]
     },
     "execution_count": 206,
     "metadata": {},
     "output_type": "execute_result"
    }
   ],
   "source": [
    "df.head(5)"
   ]
  },
  {
   "cell_type": "code",
   "execution_count": 207,
   "id": "fc74002d",
   "metadata": {
    "scrolled": true
   },
   "outputs": [
    {
     "data": {
      "text/html": [
       "<div>\n",
       "<style scoped>\n",
       "    .dataframe tbody tr th:only-of-type {\n",
       "        vertical-align: middle;\n",
       "    }\n",
       "\n",
       "    .dataframe tbody tr th {\n",
       "        vertical-align: top;\n",
       "    }\n",
       "\n",
       "    .dataframe thead th {\n",
       "        text-align: right;\n",
       "    }\n",
       "</style>\n",
       "<table border=\"1\" class=\"dataframe\">\n",
       "  <thead>\n",
       "    <tr style=\"text-align: right;\">\n",
       "      <th></th>\n",
       "      <th>student</th>\n",
       "      <th>company</th>\n",
       "      <th>name</th>\n",
       "      <th>address</th>\n",
       "      <th>zipcode</th>\n",
       "      <th>city</th>\n",
       "      <th>postal_code</th>\n",
       "      <th>country_code</th>\n",
       "      <th>place_name</th>\n",
       "      <th>state_name</th>\n",
       "      <th>state_code</th>\n",
       "      <th>county_name</th>\n",
       "      <th>county_code</th>\n",
       "      <th>latitude</th>\n",
       "      <th>longitude</th>\n",
       "    </tr>\n",
       "  </thead>\n",
       "  <tbody>\n",
       "    <tr>\n",
       "      <th>0</th>\n",
       "      <td>Jason Brown</td>\n",
       "      <td>Dynatest A/S</td>\n",
       "      <td>A/S DYNATEST ENGINEERING</td>\n",
       "      <td>Generatorvej 21</td>\n",
       "      <td>2730</td>\n",
       "      <td>Herlev</td>\n",
       "      <td>2730</td>\n",
       "      <td>DK</td>\n",
       "      <td>Herlev</td>\n",
       "      <td>Capital Region</td>\n",
       "      <td>17</td>\n",
       "      <td>Herlev Kommune</td>\n",
       "      <td>163</td>\n",
       "      <td>55.7338</td>\n",
       "      <td>12.4278</td>\n",
       "    </tr>\n",
       "    <tr>\n",
       "      <th>1</th>\n",
       "      <td>Jacob Stein</td>\n",
       "      <td>Eriksholm Research Centre, Oticon</td>\n",
       "      <td>PROPOLIS RESEARCH CENTRE A/S</td>\n",
       "      <td>Lille Veksøvej 11</td>\n",
       "      <td>3670</td>\n",
       "      <td>Veksø Sjælland</td>\n",
       "      <td>3670</td>\n",
       "      <td>DK</td>\n",
       "      <td>Veksø Sjælland</td>\n",
       "      <td>Capital Region</td>\n",
       "      <td>17</td>\n",
       "      <td>Egedal Kommune</td>\n",
       "      <td>240</td>\n",
       "      <td>55.7576</td>\n",
       "      <td>12.2386</td>\n",
       "    </tr>\n",
       "  </tbody>\n",
       "</table>\n",
       "</div>"
      ],
      "text/plain": [
       "       student                            company  \\\n",
       "0  Jason Brown                       Dynatest A/S   \n",
       "1  Jacob Stein  Eriksholm Research Centre, Oticon   \n",
       "\n",
       "                           name            address  zipcode            city  \\\n",
       "0      A/S DYNATEST ENGINEERING    Generatorvej 21     2730          Herlev   \n",
       "1  PROPOLIS RESEARCH CENTRE A/S  Lille Veksøvej 11     3670  Veksø Sjælland   \n",
       "\n",
       "   postal_code country_code      place_name      state_name  state_code  \\\n",
       "0         2730           DK          Herlev  Capital Region          17   \n",
       "1         3670           DK  Veksø Sjælland  Capital Region          17   \n",
       "\n",
       "      county_name  county_code  latitude  longitude  \n",
       "0  Herlev Kommune          163   55.7338    12.4278  \n",
       "1  Egedal Kommune          240   55.7576    12.2386  "
      ]
     },
     "execution_count": 207,
     "metadata": {},
     "output_type": "execute_result"
    }
   ],
   "source": [
    "df3 = pd.read_csv('finaldatasetwithNames.csv')\n",
    "df3.head(2)"
   ]
  },
  {
   "cell_type": "code",
   "execution_count": 208,
   "id": "3c490d62",
   "metadata": {},
   "outputs": [
    {
     "data": {
      "text/html": [
       "<div>\n",
       "<style scoped>\n",
       "    .dataframe tbody tr th:only-of-type {\n",
       "        vertical-align: middle;\n",
       "    }\n",
       "\n",
       "    .dataframe tbody tr th {\n",
       "        vertical-align: top;\n",
       "    }\n",
       "\n",
       "    .dataframe thead th {\n",
       "        text-align: right;\n",
       "    }\n",
       "</style>\n",
       "<table border=\"1\" class=\"dataframe\">\n",
       "  <thead>\n",
       "    <tr style=\"text-align: right;\">\n",
       "      <th></th>\n",
       "      <th>latitude</th>\n",
       "      <th>longitude</th>\n",
       "    </tr>\n",
       "  </thead>\n",
       "  <tbody>\n",
       "    <tr>\n",
       "      <th>0</th>\n",
       "      <td>55.7338</td>\n",
       "      <td>12.4278</td>\n",
       "    </tr>\n",
       "    <tr>\n",
       "      <th>1</th>\n",
       "      <td>55.7576</td>\n",
       "      <td>12.2386</td>\n",
       "    </tr>\n",
       "    <tr>\n",
       "      <th>2</th>\n",
       "      <td>55.7333</td>\n",
       "      <td>12.3566</td>\n",
       "    </tr>\n",
       "    <tr>\n",
       "      <th>3</th>\n",
       "      <td>55.7333</td>\n",
       "      <td>12.3566</td>\n",
       "    </tr>\n",
       "    <tr>\n",
       "      <th>4</th>\n",
       "      <td>55.7333</td>\n",
       "      <td>12.3566</td>\n",
       "    </tr>\n",
       "  </tbody>\n",
       "</table>\n",
       "</div>"
      ],
      "text/plain": [
       "   latitude  longitude\n",
       "0   55.7338    12.4278\n",
       "1   55.7576    12.2386\n",
       "2   55.7333    12.3566\n",
       "3   55.7333    12.3566\n",
       "4   55.7333    12.3566"
      ]
     },
     "execution_count": 208,
     "metadata": {},
     "output_type": "execute_result"
    }
   ],
   "source": [
    "df4 = df3.loc[:, ['latitude', 'longitude']]\n",
    "df5 = df4.iloc[:19]\n",
    "df5.head(5)"
   ]
  },
  {
   "cell_type": "code",
   "execution_count": 209,
   "id": "cfdb1513",
   "metadata": {},
   "outputs": [],
   "source": [
    "finaldata = pd.concat([df, df5], axis=1)"
   ]
  },
  {
   "cell_type": "code",
   "execution_count": 210,
   "id": "71bea842",
   "metadata": {},
   "outputs": [
    {
     "data": {
      "text/html": [
       "<div>\n",
       "<style scoped>\n",
       "    .dataframe tbody tr th:only-of-type {\n",
       "        vertical-align: middle;\n",
       "    }\n",
       "\n",
       "    .dataframe tbody tr th {\n",
       "        vertical-align: top;\n",
       "    }\n",
       "\n",
       "    .dataframe thead th {\n",
       "        text-align: right;\n",
       "    }\n",
       "</style>\n",
       "<table border=\"1\" class=\"dataframe\">\n",
       "  <thead>\n",
       "    <tr style=\"text-align: right;\">\n",
       "      <th></th>\n",
       "      <th>amountemployes</th>\n",
       "      <th>beforetaxes</th>\n",
       "      <th>company_size</th>\n",
       "      <th>latitude</th>\n",
       "      <th>longitude</th>\n",
       "    </tr>\n",
       "  </thead>\n",
       "  <tbody>\n",
       "    <tr>\n",
       "      <th>0</th>\n",
       "      <td>1855</td>\n",
       "      <td>65285</td>\n",
       "      <td>Large</td>\n",
       "      <td>55.7338</td>\n",
       "      <td>12.4278</td>\n",
       "    </tr>\n",
       "    <tr>\n",
       "      <th>1</th>\n",
       "      <td>1464</td>\n",
       "      <td>-146000</td>\n",
       "      <td>Large</td>\n",
       "      <td>55.7576</td>\n",
       "      <td>12.2386</td>\n",
       "    </tr>\n",
       "    <tr>\n",
       "      <th>2</th>\n",
       "      <td>36</td>\n",
       "      <td>4333</td>\n",
       "      <td>Small</td>\n",
       "      <td>55.7333</td>\n",
       "      <td>12.3566</td>\n",
       "    </tr>\n",
       "    <tr>\n",
       "      <th>3</th>\n",
       "      <td>1386</td>\n",
       "      <td>1906692</td>\n",
       "      <td>Large</td>\n",
       "      <td>55.7333</td>\n",
       "      <td>12.3566</td>\n",
       "    </tr>\n",
       "    <tr>\n",
       "      <th>4</th>\n",
       "      <td>2317</td>\n",
       "      <td>2691000</td>\n",
       "      <td>Large</td>\n",
       "      <td>55.7333</td>\n",
       "      <td>12.3566</td>\n",
       "    </tr>\n",
       "    <tr>\n",
       "      <th>5</th>\n",
       "      <td>20</td>\n",
       "      <td>11</td>\n",
       "      <td>Small</td>\n",
       "      <td>55.7571</td>\n",
       "      <td>12.4558</td>\n",
       "    </tr>\n",
       "    <tr>\n",
       "      <th>6</th>\n",
       "      <td>2340</td>\n",
       "      <td>754384</td>\n",
       "      <td>Large</td>\n",
       "      <td>55.7072</td>\n",
       "      <td>12.5720</td>\n",
       "    </tr>\n",
       "    <tr>\n",
       "      <th>7</th>\n",
       "      <td>22150</td>\n",
       "      <td>56771000</td>\n",
       "      <td>Large</td>\n",
       "      <td>55.7333</td>\n",
       "      <td>12.3566</td>\n",
       "    </tr>\n",
       "    <tr>\n",
       "      <th>8</th>\n",
       "      <td>87</td>\n",
       "      <td>46810</td>\n",
       "      <td>Middle</td>\n",
       "      <td>55.7333</td>\n",
       "      <td>12.3566</td>\n",
       "    </tr>\n",
       "    <tr>\n",
       "      <th>9</th>\n",
       "      <td>59</td>\n",
       "      <td>4469</td>\n",
       "      <td>Middle</td>\n",
       "      <td>55.7333</td>\n",
       "      <td>12.3566</td>\n",
       "    </tr>\n",
       "    <tr>\n",
       "      <th>10</th>\n",
       "      <td>83</td>\n",
       "      <td>46510</td>\n",
       "      <td>Middle</td>\n",
       "      <td>55.7333</td>\n",
       "      <td>12.3566</td>\n",
       "    </tr>\n",
       "    <tr>\n",
       "      <th>11</th>\n",
       "      <td>3642</td>\n",
       "      <td>-413000</td>\n",
       "      <td>Large</td>\n",
       "      <td>55.6733</td>\n",
       "      <td>12.5903</td>\n",
       "    </tr>\n",
       "    <tr>\n",
       "      <th>12</th>\n",
       "      <td>522</td>\n",
       "      <td>20291</td>\n",
       "      <td>Large</td>\n",
       "      <td>55.6835</td>\n",
       "      <td>12.5776</td>\n",
       "    </tr>\n",
       "    <tr>\n",
       "      <th>13</th>\n",
       "      <td>254</td>\n",
       "      <td>501020</td>\n",
       "      <td>Large</td>\n",
       "      <td>55.6835</td>\n",
       "      <td>12.5776</td>\n",
       "    </tr>\n",
       "    <tr>\n",
       "      <th>14</th>\n",
       "      <td>91</td>\n",
       "      <td>9000</td>\n",
       "      <td>Middle</td>\n",
       "      <td>57.4404</td>\n",
       "      <td>10.5041</td>\n",
       "    </tr>\n",
       "    <tr>\n",
       "      <th>15</th>\n",
       "      <td>1654</td>\n",
       "      <td>2450232</td>\n",
       "      <td>Large</td>\n",
       "      <td>57.4404</td>\n",
       "      <td>10.5041</td>\n",
       "    </tr>\n",
       "    <tr>\n",
       "      <th>16</th>\n",
       "      <td>844</td>\n",
       "      <td>93923</td>\n",
       "      <td>Large</td>\n",
       "      <td>55.6484</td>\n",
       "      <td>12.5359</td>\n",
       "    </tr>\n",
       "    <tr>\n",
       "      <th>17</th>\n",
       "      <td>640</td>\n",
       "      <td>43021</td>\n",
       "      <td>Large</td>\n",
       "      <td>55.6484</td>\n",
       "      <td>12.5359</td>\n",
       "    </tr>\n",
       "  </tbody>\n",
       "</table>\n",
       "</div>"
      ],
      "text/plain": [
       "    amountemployes  beforetaxes company_size  latitude  longitude\n",
       "0             1855        65285        Large   55.7338    12.4278\n",
       "1             1464      -146000        Large   55.7576    12.2386\n",
       "2               36         4333        Small   55.7333    12.3566\n",
       "3             1386      1906692        Large   55.7333    12.3566\n",
       "4             2317      2691000        Large   55.7333    12.3566\n",
       "5               20           11        Small   55.7571    12.4558\n",
       "6             2340       754384        Large   55.7072    12.5720\n",
       "7            22150     56771000        Large   55.7333    12.3566\n",
       "8               87        46810       Middle   55.7333    12.3566\n",
       "9               59         4469       Middle   55.7333    12.3566\n",
       "10              83        46510       Middle   55.7333    12.3566\n",
       "11            3642      -413000        Large   55.6733    12.5903\n",
       "12             522        20291        Large   55.6835    12.5776\n",
       "13             254       501020        Large   55.6835    12.5776\n",
       "14              91         9000       Middle   57.4404    10.5041\n",
       "15            1654      2450232        Large   57.4404    10.5041\n",
       "16             844        93923        Large   55.6484    12.5359\n",
       "17             640        43021        Large   55.6484    12.5359"
      ]
     },
     "execution_count": 210,
     "metadata": {},
     "output_type": "execute_result"
    }
   ],
   "source": [
    "finaldata.head(18)"
   ]
  },
  {
   "cell_type": "code",
   "execution_count": 211,
   "id": "feb87fda",
   "metadata": {},
   "outputs": [],
   "source": [
    "#new_df1 = finaldata.loc[:, ['name','city', 'amountemployes','beforetaxes','latitude', 'longitude']]\n",
    "#new_df1.drop('name', axis=1)\n",
    "#new_df1.head(20)"
   ]
  },
  {
   "cell_type": "code",
   "execution_count": 172,
   "id": "5515cd8d",
   "metadata": {},
   "outputs": [],
   "source": [
    "X = finaldata['latitude'].values.reshape(-1, 1)\n",
    "y = finaldata['longitude'].values.reshape(-1, 1)\n",
    "\n",
    "\n",
    "X_train, X_test, y_train, y_test = train_test_split(X, y, test_size=0.2, random_state=42)\n",
    "\n",
    "reg = LinearRegression()\n",
    "reg.fit(X_train, y_train)\n",
    "\n",
    "y_pred = reg.predict(X_test)\n"
   ]
  },
  {
   "cell_type": "code",
   "execution_count": null,
   "id": "230d48c9",
   "metadata": {},
   "outputs": [],
   "source": []
  }
 ],
 "metadata": {
  "kernelspec": {
   "display_name": "Python 3 (ipykernel)",
   "language": "python",
   "name": "python3"
  },
  "language_info": {
   "codemirror_mode": {
    "name": "ipython",
    "version": 3
   },
   "file_extension": ".py",
   "mimetype": "text/x-python",
   "name": "python",
   "nbconvert_exporter": "python",
   "pygments_lexer": "ipython3",
   "version": "3.9.13"
  }
 },
 "nbformat": 4,
 "nbformat_minor": 5
}
