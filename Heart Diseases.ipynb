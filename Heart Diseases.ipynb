{
 "cells": [
  {
   "cell_type": "markdown",
   "id": "3f53b24e",
   "metadata": {},
   "source": [
    "# Heart Diseases Diagnisis"
   ]
  },
  {
   "cell_type": "markdown",
   "id": "450e39f7",
   "metadata": {},
   "source": [
    "### Prequisites"
   ]
  },
  {
   "cell_type": "code",
   "execution_count": 56,
   "id": "4004f443",
   "metadata": {},
   "outputs": [],
   "source": [
    "import pandas as pd\n",
    "import numpy as np\n",
    "import requests\n",
    "import matplotlib.pyplot as plt\n",
    "import graphviz\n",
    "import os\n",
    "\n",
    "from sklearn.tree import DecisionTreeClassifier\n",
    "from sklearn.model_selection import train_test_split \n",
    "from sklearn import metrics\n",
    "from sklearn import tree\n",
    "from sklearn.metrics import confusion_matrix\n",
    "from sklearn import model_selection\n",
    "from sklearn.metrics import accuracy_score"
   ]
  },
  {
   "cell_type": "markdown",
   "id": "897f4744",
   "metadata": {},
   "source": [
    "## Get Data "
   ]
  },
  {
   "cell_type": "code",
   "execution_count": 2,
   "id": "441c519b",
   "metadata": {},
   "outputs": [],
   "source": [
    "columns = ['age','sex', 'cp', 'bps', 'chol', 'fbs', 'ecg', 'hrate', 'ang', 'peak', 'slp', 'ca', 'thal', 'diag']"
   ]
  },
  {
   "cell_type": "code",
   "execution_count": 3,
   "id": "f383060f",
   "metadata": {},
   "outputs": [],
   "source": [
    "url = \"https://archive.ics.uci.edu/ml/machine-learning-databases/heart-disease/processed.cleveland.data\""
   ]
  },
  {
   "cell_type": "code",
   "execution_count": 4,
   "id": "c38e2a1c",
   "metadata": {},
   "outputs": [],
   "source": [
    "data = pd.read_csv(url, names=columns, na_values=['?'])"
   ]
  },
  {
   "cell_type": "code",
   "execution_count": 5,
   "id": "8ac54f7f",
   "metadata": {},
   "outputs": [
    {
     "data": {
      "text/html": [
       "<div>\n",
       "<style scoped>\n",
       "    .dataframe tbody tr th:only-of-type {\n",
       "        vertical-align: middle;\n",
       "    }\n",
       "\n",
       "    .dataframe tbody tr th {\n",
       "        vertical-align: top;\n",
       "    }\n",
       "\n",
       "    .dataframe thead th {\n",
       "        text-align: right;\n",
       "    }\n",
       "</style>\n",
       "<table border=\"1\" class=\"dataframe\">\n",
       "  <thead>\n",
       "    <tr style=\"text-align: right;\">\n",
       "      <th></th>\n",
       "      <th>age</th>\n",
       "      <th>sex</th>\n",
       "      <th>cp</th>\n",
       "      <th>bps</th>\n",
       "      <th>chol</th>\n",
       "      <th>fbs</th>\n",
       "      <th>ecg</th>\n",
       "      <th>hrate</th>\n",
       "      <th>ang</th>\n",
       "      <th>peak</th>\n",
       "      <th>slp</th>\n",
       "      <th>ca</th>\n",
       "      <th>thal</th>\n",
       "      <th>diag</th>\n",
       "    </tr>\n",
       "  </thead>\n",
       "  <tbody>\n",
       "    <tr>\n",
       "      <th>0</th>\n",
       "      <td>63.0</td>\n",
       "      <td>1.0</td>\n",
       "      <td>1.0</td>\n",
       "      <td>145.0</td>\n",
       "      <td>233.0</td>\n",
       "      <td>1.0</td>\n",
       "      <td>2.0</td>\n",
       "      <td>150.0</td>\n",
       "      <td>0.0</td>\n",
       "      <td>2.3</td>\n",
       "      <td>3.0</td>\n",
       "      <td>0.0</td>\n",
       "      <td>6.0</td>\n",
       "      <td>0</td>\n",
       "    </tr>\n",
       "    <tr>\n",
       "      <th>1</th>\n",
       "      <td>67.0</td>\n",
       "      <td>1.0</td>\n",
       "      <td>4.0</td>\n",
       "      <td>160.0</td>\n",
       "      <td>286.0</td>\n",
       "      <td>0.0</td>\n",
       "      <td>2.0</td>\n",
       "      <td>108.0</td>\n",
       "      <td>1.0</td>\n",
       "      <td>1.5</td>\n",
       "      <td>2.0</td>\n",
       "      <td>3.0</td>\n",
       "      <td>3.0</td>\n",
       "      <td>2</td>\n",
       "    </tr>\n",
       "    <tr>\n",
       "      <th>2</th>\n",
       "      <td>67.0</td>\n",
       "      <td>1.0</td>\n",
       "      <td>4.0</td>\n",
       "      <td>120.0</td>\n",
       "      <td>229.0</td>\n",
       "      <td>0.0</td>\n",
       "      <td>2.0</td>\n",
       "      <td>129.0</td>\n",
       "      <td>1.0</td>\n",
       "      <td>2.6</td>\n",
       "      <td>2.0</td>\n",
       "      <td>2.0</td>\n",
       "      <td>7.0</td>\n",
       "      <td>1</td>\n",
       "    </tr>\n",
       "    <tr>\n",
       "      <th>3</th>\n",
       "      <td>37.0</td>\n",
       "      <td>1.0</td>\n",
       "      <td>3.0</td>\n",
       "      <td>130.0</td>\n",
       "      <td>250.0</td>\n",
       "      <td>0.0</td>\n",
       "      <td>0.0</td>\n",
       "      <td>187.0</td>\n",
       "      <td>0.0</td>\n",
       "      <td>3.5</td>\n",
       "      <td>3.0</td>\n",
       "      <td>0.0</td>\n",
       "      <td>3.0</td>\n",
       "      <td>0</td>\n",
       "    </tr>\n",
       "    <tr>\n",
       "      <th>4</th>\n",
       "      <td>41.0</td>\n",
       "      <td>0.0</td>\n",
       "      <td>2.0</td>\n",
       "      <td>130.0</td>\n",
       "      <td>204.0</td>\n",
       "      <td>0.0</td>\n",
       "      <td>2.0</td>\n",
       "      <td>172.0</td>\n",
       "      <td>0.0</td>\n",
       "      <td>1.4</td>\n",
       "      <td>1.0</td>\n",
       "      <td>0.0</td>\n",
       "      <td>3.0</td>\n",
       "      <td>0</td>\n",
       "    </tr>\n",
       "  </tbody>\n",
       "</table>\n",
       "</div>"
      ],
      "text/plain": [
       "    age  sex   cp    bps   chol  fbs  ecg  hrate  ang  peak  slp   ca  thal  \\\n",
       "0  63.0  1.0  1.0  145.0  233.0  1.0  2.0  150.0  0.0   2.3  3.0  0.0   6.0   \n",
       "1  67.0  1.0  4.0  160.0  286.0  0.0  2.0  108.0  1.0   1.5  2.0  3.0   3.0   \n",
       "2  67.0  1.0  4.0  120.0  229.0  0.0  2.0  129.0  1.0   2.6  2.0  2.0   7.0   \n",
       "3  37.0  1.0  3.0  130.0  250.0  0.0  0.0  187.0  0.0   3.5  3.0  0.0   3.0   \n",
       "4  41.0  0.0  2.0  130.0  204.0  0.0  2.0  172.0  0.0   1.4  1.0  0.0   3.0   \n",
       "\n",
       "   diag  \n",
       "0     0  \n",
       "1     2  \n",
       "2     1  \n",
       "3     0  \n",
       "4     0  "
      ]
     },
     "execution_count": 5,
     "metadata": {},
     "output_type": "execute_result"
    }
   ],
   "source": [
    "data.head()"
   ]
  },
  {
   "cell_type": "code",
   "execution_count": 6,
   "id": "2715a3cf",
   "metadata": {},
   "outputs": [
    {
     "name": "stdout",
     "output_type": "stream",
     "text": [
      "<class 'pandas.core.frame.DataFrame'>\n",
      "RangeIndex: 303 entries, 0 to 302\n",
      "Data columns (total 14 columns):\n",
      " #   Column  Non-Null Count  Dtype  \n",
      "---  ------  --------------  -----  \n",
      " 0   age     303 non-null    float64\n",
      " 1   sex     303 non-null    float64\n",
      " 2   cp      303 non-null    float64\n",
      " 3   bps     303 non-null    float64\n",
      " 4   chol    303 non-null    float64\n",
      " 5   fbs     303 non-null    float64\n",
      " 6   ecg     303 non-null    float64\n",
      " 7   hrate   303 non-null    float64\n",
      " 8   ang     303 non-null    float64\n",
      " 9   peak    303 non-null    float64\n",
      " 10  slp     303 non-null    float64\n",
      " 11  ca      299 non-null    float64\n",
      " 12  thal    301 non-null    float64\n",
      " 13  diag    303 non-null    int64  \n",
      "dtypes: float64(13), int64(1)\n",
      "memory usage: 33.3 KB\n"
     ]
    }
   ],
   "source": [
    "data.info()"
   ]
  },
  {
   "cell_type": "code",
   "execution_count": 7,
   "id": "787a28ae",
   "metadata": {},
   "outputs": [
    {
     "data": {
      "text/plain": [
       "(303, 14)"
      ]
     },
     "execution_count": 7,
     "metadata": {},
     "output_type": "execute_result"
    }
   ],
   "source": [
    "data.shape"
   ]
  },
  {
   "cell_type": "code",
   "execution_count": 8,
   "id": "64a40edd",
   "metadata": {},
   "outputs": [
    {
     "data": {
      "text/plain": [
       "age      0\n",
       "sex      0\n",
       "cp       0\n",
       "bps      0\n",
       "chol     0\n",
       "fbs      0\n",
       "ecg      0\n",
       "hrate    0\n",
       "ang      0\n",
       "peak     0\n",
       "slp      0\n",
       "ca       4\n",
       "thal     2\n",
       "diag     0\n",
       "dtype: int64"
      ]
     },
     "execution_count": 8,
     "metadata": {},
     "output_type": "execute_result"
    }
   ],
   "source": [
    "data.isnull().sum()"
   ]
  },
  {
   "cell_type": "code",
   "execution_count": 9,
   "id": "03475d10",
   "metadata": {},
   "outputs": [
    {
     "data": {
      "text/html": [
       "<div>\n",
       "<style scoped>\n",
       "    .dataframe tbody tr th:only-of-type {\n",
       "        vertical-align: middle;\n",
       "    }\n",
       "\n",
       "    .dataframe tbody tr th {\n",
       "        vertical-align: top;\n",
       "    }\n",
       "\n",
       "    .dataframe thead th {\n",
       "        text-align: right;\n",
       "    }\n",
       "</style>\n",
       "<table border=\"1\" class=\"dataframe\">\n",
       "  <thead>\n",
       "    <tr style=\"text-align: right;\">\n",
       "      <th></th>\n",
       "      <th>age</th>\n",
       "      <th>sex</th>\n",
       "      <th>cp</th>\n",
       "      <th>bps</th>\n",
       "      <th>chol</th>\n",
       "      <th>fbs</th>\n",
       "      <th>ecg</th>\n",
       "      <th>hrate</th>\n",
       "      <th>ang</th>\n",
       "      <th>peak</th>\n",
       "      <th>slp</th>\n",
       "      <th>ca</th>\n",
       "      <th>thal</th>\n",
       "      <th>diag</th>\n",
       "    </tr>\n",
       "  </thead>\n",
       "  <tbody>\n",
       "    <tr>\n",
       "      <th>count</th>\n",
       "      <td>303.000000</td>\n",
       "      <td>303.000000</td>\n",
       "      <td>303.000000</td>\n",
       "      <td>303.000000</td>\n",
       "      <td>303.000000</td>\n",
       "      <td>303.000000</td>\n",
       "      <td>303.000000</td>\n",
       "      <td>303.000000</td>\n",
       "      <td>303.000000</td>\n",
       "      <td>303.000000</td>\n",
       "      <td>303.000000</td>\n",
       "      <td>299.000000</td>\n",
       "      <td>301.000000</td>\n",
       "      <td>303.000000</td>\n",
       "    </tr>\n",
       "    <tr>\n",
       "      <th>mean</th>\n",
       "      <td>54.438944</td>\n",
       "      <td>0.679868</td>\n",
       "      <td>3.158416</td>\n",
       "      <td>131.689769</td>\n",
       "      <td>246.693069</td>\n",
       "      <td>0.148515</td>\n",
       "      <td>0.990099</td>\n",
       "      <td>149.607261</td>\n",
       "      <td>0.326733</td>\n",
       "      <td>1.039604</td>\n",
       "      <td>1.600660</td>\n",
       "      <td>0.672241</td>\n",
       "      <td>4.734219</td>\n",
       "      <td>0.937294</td>\n",
       "    </tr>\n",
       "    <tr>\n",
       "      <th>std</th>\n",
       "      <td>9.038662</td>\n",
       "      <td>0.467299</td>\n",
       "      <td>0.960126</td>\n",
       "      <td>17.599748</td>\n",
       "      <td>51.776918</td>\n",
       "      <td>0.356198</td>\n",
       "      <td>0.994971</td>\n",
       "      <td>22.875003</td>\n",
       "      <td>0.469794</td>\n",
       "      <td>1.161075</td>\n",
       "      <td>0.616226</td>\n",
       "      <td>0.937438</td>\n",
       "      <td>1.939706</td>\n",
       "      <td>1.228536</td>\n",
       "    </tr>\n",
       "    <tr>\n",
       "      <th>min</th>\n",
       "      <td>29.000000</td>\n",
       "      <td>0.000000</td>\n",
       "      <td>1.000000</td>\n",
       "      <td>94.000000</td>\n",
       "      <td>126.000000</td>\n",
       "      <td>0.000000</td>\n",
       "      <td>0.000000</td>\n",
       "      <td>71.000000</td>\n",
       "      <td>0.000000</td>\n",
       "      <td>0.000000</td>\n",
       "      <td>1.000000</td>\n",
       "      <td>0.000000</td>\n",
       "      <td>3.000000</td>\n",
       "      <td>0.000000</td>\n",
       "    </tr>\n",
       "    <tr>\n",
       "      <th>25%</th>\n",
       "      <td>48.000000</td>\n",
       "      <td>0.000000</td>\n",
       "      <td>3.000000</td>\n",
       "      <td>120.000000</td>\n",
       "      <td>211.000000</td>\n",
       "      <td>0.000000</td>\n",
       "      <td>0.000000</td>\n",
       "      <td>133.500000</td>\n",
       "      <td>0.000000</td>\n",
       "      <td>0.000000</td>\n",
       "      <td>1.000000</td>\n",
       "      <td>0.000000</td>\n",
       "      <td>3.000000</td>\n",
       "      <td>0.000000</td>\n",
       "    </tr>\n",
       "    <tr>\n",
       "      <th>50%</th>\n",
       "      <td>56.000000</td>\n",
       "      <td>1.000000</td>\n",
       "      <td>3.000000</td>\n",
       "      <td>130.000000</td>\n",
       "      <td>241.000000</td>\n",
       "      <td>0.000000</td>\n",
       "      <td>1.000000</td>\n",
       "      <td>153.000000</td>\n",
       "      <td>0.000000</td>\n",
       "      <td>0.800000</td>\n",
       "      <td>2.000000</td>\n",
       "      <td>0.000000</td>\n",
       "      <td>3.000000</td>\n",
       "      <td>0.000000</td>\n",
       "    </tr>\n",
       "    <tr>\n",
       "      <th>75%</th>\n",
       "      <td>61.000000</td>\n",
       "      <td>1.000000</td>\n",
       "      <td>4.000000</td>\n",
       "      <td>140.000000</td>\n",
       "      <td>275.000000</td>\n",
       "      <td>0.000000</td>\n",
       "      <td>2.000000</td>\n",
       "      <td>166.000000</td>\n",
       "      <td>1.000000</td>\n",
       "      <td>1.600000</td>\n",
       "      <td>2.000000</td>\n",
       "      <td>1.000000</td>\n",
       "      <td>7.000000</td>\n",
       "      <td>2.000000</td>\n",
       "    </tr>\n",
       "    <tr>\n",
       "      <th>max</th>\n",
       "      <td>77.000000</td>\n",
       "      <td>1.000000</td>\n",
       "      <td>4.000000</td>\n",
       "      <td>200.000000</td>\n",
       "      <td>564.000000</td>\n",
       "      <td>1.000000</td>\n",
       "      <td>2.000000</td>\n",
       "      <td>202.000000</td>\n",
       "      <td>1.000000</td>\n",
       "      <td>6.200000</td>\n",
       "      <td>3.000000</td>\n",
       "      <td>3.000000</td>\n",
       "      <td>7.000000</td>\n",
       "      <td>4.000000</td>\n",
       "    </tr>\n",
       "  </tbody>\n",
       "</table>\n",
       "</div>"
      ],
      "text/plain": [
       "              age         sex          cp         bps        chol         fbs  \\\n",
       "count  303.000000  303.000000  303.000000  303.000000  303.000000  303.000000   \n",
       "mean    54.438944    0.679868    3.158416  131.689769  246.693069    0.148515   \n",
       "std      9.038662    0.467299    0.960126   17.599748   51.776918    0.356198   \n",
       "min     29.000000    0.000000    1.000000   94.000000  126.000000    0.000000   \n",
       "25%     48.000000    0.000000    3.000000  120.000000  211.000000    0.000000   \n",
       "50%     56.000000    1.000000    3.000000  130.000000  241.000000    0.000000   \n",
       "75%     61.000000    1.000000    4.000000  140.000000  275.000000    0.000000   \n",
       "max     77.000000    1.000000    4.000000  200.000000  564.000000    1.000000   \n",
       "\n",
       "              ecg       hrate         ang        peak         slp          ca  \\\n",
       "count  303.000000  303.000000  303.000000  303.000000  303.000000  299.000000   \n",
       "mean     0.990099  149.607261    0.326733    1.039604    1.600660    0.672241   \n",
       "std      0.994971   22.875003    0.469794    1.161075    0.616226    0.937438   \n",
       "min      0.000000   71.000000    0.000000    0.000000    1.000000    0.000000   \n",
       "25%      0.000000  133.500000    0.000000    0.000000    1.000000    0.000000   \n",
       "50%      1.000000  153.000000    0.000000    0.800000    2.000000    0.000000   \n",
       "75%      2.000000  166.000000    1.000000    1.600000    2.000000    1.000000   \n",
       "max      2.000000  202.000000    1.000000    6.200000    3.000000    3.000000   \n",
       "\n",
       "             thal        diag  \n",
       "count  301.000000  303.000000  \n",
       "mean     4.734219    0.937294  \n",
       "std      1.939706    1.228536  \n",
       "min      3.000000    0.000000  \n",
       "25%      3.000000    0.000000  \n",
       "50%      3.000000    0.000000  \n",
       "75%      7.000000    2.000000  \n",
       "max      7.000000    4.000000  "
      ]
     },
     "execution_count": 9,
     "metadata": {},
     "output_type": "execute_result"
    }
   ],
   "source": [
    "data.describe()"
   ]
  },
  {
   "cell_type": "code",
   "execution_count": 10,
   "id": "87b93b0e",
   "metadata": {},
   "outputs": [
    {
     "data": {
      "text/plain": [
       "diag\n",
       "0    164\n",
       "1     55\n",
       "2     36\n",
       "3     35\n",
       "4     13\n",
       "dtype: int64"
      ]
     },
     "execution_count": 10,
     "metadata": {},
     "output_type": "execute_result"
    }
   ],
   "source": [
    "data.groupby(['diag']).size()"
   ]
  },
  {
   "cell_type": "code",
   "execution_count": 11,
   "id": "4d8551ce",
   "metadata": {},
   "outputs": [
    {
     "data": {
      "image/png": "[encoded data removed]",
      "text/plain": [
       "<Figure size 640x480 with 1 Axes>"
      ]
     },
     "metadata": {},
     "output_type": "display_data"
    }
   ],
   "source": [
    "data.plot(kind = 'box')\n",
    "plt.show()"
   ]
  },
  {
   "cell_type": "code",
   "execution_count": 12,
   "id": "a23c6de1",
   "metadata": {},
   "outputs": [
    {
     "data": {
      "image/png": "[encoded data removed]",
      "text/plain": [
       "<Figure size 1000x1000 with 16 Axes>"
      ]
     },
     "metadata": {},
     "output_type": "display_data"
    }
   ],
   "source": [
    "data.hist(figsize=(10,10))\n",
    "plt.show()"
   ]
  },
  {
   "cell_type": "markdown",
   "id": "7ea16057",
   "metadata": {},
   "source": [
    "## Machine Learning"
   ]
  },
  {
   "cell_type": "markdown",
   "id": "5a59d068",
   "metadata": {},
   "source": [
    "## Data Split"
   ]
  },
  {
   "cell_type": "code",
   "execution_count": 13,
   "id": "43d46b60",
   "metadata": {
    "scrolled": true
   },
   "outputs": [],
   "source": [
    "data = data.dropna()"
   ]
  },
  {
   "cell_type": "code",
   "execution_count": 14,
   "id": "1e449594",
   "metadata": {
    "scrolled": true
   },
   "outputs": [
    {
     "data": {
      "text/plain": [
       "array([[63.,  1.,  1., ...,  0.,  6.,  0.],\n",
       "       [67.,  1.,  4., ...,  3.,  3.,  2.],\n",
       "       [67.,  1.,  4., ...,  2.,  7.,  1.],\n",
       "       ...,\n",
       "       [68.,  1.,  4., ...,  2.,  7.,  2.],\n",
       "       [57.,  1.,  4., ...,  1.,  7.,  3.],\n",
       "       [57.,  0.,  2., ...,  1.,  3.,  1.]])"
      ]
     },
     "execution_count": 14,
     "metadata": {},
     "output_type": "execute_result"
    }
   ],
   "source": [
    "array = data.values\n",
    "array"
   ]
  },
  {
   "cell_type": "code",
   "execution_count": 16,
   "id": "cc0f9342",
   "metadata": {},
   "outputs": [],
   "source": [
    "X, y = array[:,:-1], array[:, -1]"
   ]
  },
  {
   "cell_type": "code",
   "execution_count": 18,
   "id": "d5e6c863",
   "metadata": {},
   "outputs": [
    {
     "data": {
      "text/plain": [
       "array([0., 2., 1., 0., 0., 0., 3., 0., 2., 1., 0., 0., 2., 0., 0., 0., 1.,\n",
       "       0., 0., 0., 0., 0., 1., 3., 4., 0., 0., 0., 0., 3., 0., 2., 1., 0.,\n",
       "       0., 0., 3., 1., 3., 0., 4., 0., 0., 0., 1., 4., 0., 4., 0., 0., 0.,\n",
       "       0., 2., 0., 1., 1., 1., 1., 0., 0., 2., 0., 1., 0., 2., 2., 1., 0.,\n",
       "       2., 1., 0., 3., 1., 1., 1., 0., 1., 0., 0., 3., 0., 0., 0., 3., 0.,\n",
       "       0., 0., 0., 0., 0., 3., 0., 0., 0., 1., 2., 3., 0., 0., 0., 0., 0.,\n",
       "       0., 3., 0., 2., 1., 2., 3., 1., 1., 0., 2., 2., 0., 0., 0., 3., 2.,\n",
       "       3., 4., 0., 3., 1., 0., 3., 3., 0., 0., 0., 0., 0., 0., 0., 0., 4.,\n",
       "       3., 1., 0., 0., 1., 0., 1., 0., 1., 4., 0., 0., 0., 0., 0., 0., 4.,\n",
       "       3., 1., 1., 1., 2., 0., 0., 4., 0., 0., 0., 0., 0., 1., 0., 3., 0.,\n",
       "       1., 0., 4., 1., 0., 1., 0., 0., 3., 2., 0., 0., 1., 0., 0., 2., 1.,\n",
       "       2., 0., 3., 2., 0., 3., 0., 0., 0., 1., 0., 0., 0., 0., 0., 3., 3.,\n",
       "       3., 0., 1., 0., 4., 0., 3., 1., 0., 0., 0., 0., 0., 0., 0., 0., 3.,\n",
       "       1., 0., 0., 0., 3., 2., 0., 2., 1., 0., 0., 3., 2., 1., 0., 0., 0.,\n",
       "       0., 0., 2., 0., 2., 2., 1., 3., 0., 0., 1., 0., 0., 0., 0., 0., 0.,\n",
       "       0., 1., 0., 3., 0., 0., 4., 2., 2., 1., 0., 1., 0., 2., 0., 1., 0.,\n",
       "       0., 0., 1., 0., 2., 0., 3., 0., 2., 4., 2., 0., 0., 1., 0., 2., 2.,\n",
       "       1., 0., 3., 1., 1., 2., 3., 1.])"
      ]
     },
     "execution_count": 18,
     "metadata": {},
     "output_type": "execute_result"
    }
   ],
   "source": [
    "y"
   ]
  },
  {
   "cell_type": "code",
   "execution_count": 19,
   "id": "15cf5550",
   "metadata": {},
   "outputs": [
    {
     "data": {
      "text/plain": [
       "array([[63.,  1.,  1., ...,  3.,  0.,  6.],\n",
       "       [67.,  1.,  4., ...,  2.,  3.,  3.],\n",
       "       [67.,  1.,  4., ...,  2.,  2.,  7.],\n",
       "       ...,\n",
       "       [68.,  1.,  4., ...,  2.,  2.,  7.],\n",
       "       [57.,  1.,  4., ...,  2.,  1.,  7.],\n",
       "       [57.,  0.,  2., ...,  2.,  1.,  3.]])"
      ]
     },
     "execution_count": 19,
     "metadata": {},
     "output_type": "execute_result"
    }
   ],
   "source": [
    "X"
   ]
  },
  {
   "cell_type": "code",
   "execution_count": 75,
   "id": "5c53ffac",
   "metadata": {},
   "outputs": [],
   "source": [
    "X_train, X_test, y_train, y_test = model_selection.train_test_split(X,y, random_state=123, test_size=0.2)"
   ]
  },
  {
   "cell_type": "code",
   "execution_count": 76,
   "id": "7dc5a931",
   "metadata": {},
   "outputs": [
    {
     "data": {
      "text/plain": [
       "array([[5.30e+01, 0.00e+00, 4.00e+00, 1.30e+02, 2.64e+02, 0.00e+00,\n",
       "        2.00e+00, 1.43e+02, 0.00e+00, 4.00e-01, 2.00e+00, 0.00e+00,\n",
       "        3.00e+00],\n",
       "       [5.60e+01, 0.00e+00, 4.00e+00, 2.00e+02, 2.88e+02, 1.00e+00,\n",
       "        2.00e+00, 1.33e+02, 1.00e+00, 4.00e+00, 3.00e+00, 2.00e+00,\n",
       "        7.00e+00],\n",
       "       [5.90e+01, 1.00e+00, 4.00e+00, 1.40e+02, 1.77e+02, 0.00e+00,\n",
       "        0.00e+00, 1.62e+02, 1.00e+00, 0.00e+00, 1.00e+00, 1.00e+00,\n",
       "        7.00e+00],\n",
       "       [5.80e+01, 0.00e+00, 4.00e+00, 1.30e+02, 1.97e+02, 0.00e+00,\n",
       "        0.00e+00, 1.31e+02, 0.00e+00, 6.00e-01, 2.00e+00, 0.00e+00,\n",
       "        3.00e+00],\n",
       "       [4.00e+01, 1.00e+00, 4.00e+00, 1.52e+02, 2.23e+02, 0.00e+00,\n",
       "        0.00e+00, 1.81e+02, 0.00e+00, 0.00e+00, 1.00e+00, 0.00e+00,\n",
       "        7.00e+00],\n",
       "       [4.60e+01, 1.00e+00, 4.00e+00, 1.20e+02, 2.49e+02, 0.00e+00,\n",
       "        2.00e+00, 1.44e+02, 0.00e+00, 8.00e-01, 1.00e+00, 0.00e+00,\n",
       "        7.00e+00],\n",
       "       [6.90e+01, 0.00e+00, 1.00e+00, 1.40e+02, 2.39e+02, 0.00e+00,\n",
       "        0.00e+00, 1.51e+02, 0.00e+00, 1.80e+00, 1.00e+00, 2.00e+00,\n",
       "        3.00e+00],\n",
       "       [5.40e+01, 0.00e+00, 3.00e+00, 1.10e+02, 2.14e+02, 0.00e+00,\n",
       "        0.00e+00, 1.58e+02, 0.00e+00, 1.60e+00, 2.00e+00, 0.00e+00,\n",
       "        3.00e+00],\n",
       "       [5.60e+01, 0.00e+00, 2.00e+00, 1.40e+02, 2.94e+02, 0.00e+00,\n",
       "        2.00e+00, 1.53e+02, 0.00e+00, 1.30e+00, 2.00e+00, 0.00e+00,\n",
       "        3.00e+00],\n",
       "       [4.10e+01, 1.00e+00, 2.00e+00, 1.10e+02, 2.35e+02, 0.00e+00,\n",
       "        0.00e+00, 1.53e+02, 0.00e+00, 0.00e+00, 1.00e+00, 0.00e+00,\n",
       "        3.00e+00],\n",
       "       [4.60e+01, 1.00e+00, 2.00e+00, 1.01e+02, 1.97e+02, 1.00e+00,\n",
       "        0.00e+00, 1.56e+02, 0.00e+00, 0.00e+00, 1.00e+00, 0.00e+00,\n",
       "        7.00e+00],\n",
       "       [6.00e+01, 1.00e+00, 4.00e+00, 1.17e+02, 2.30e+02, 1.00e+00,\n",
       "        0.00e+00, 1.60e+02, 1.00e+00, 1.40e+00, 1.00e+00, 2.00e+00,\n",
       "        7.00e+00],\n",
       "       [6.20e+01, 0.00e+00, 4.00e+00, 1.38e+02, 2.94e+02, 1.00e+00,\n",
       "        0.00e+00, 1.06e+02, 0.00e+00, 1.90e+00, 2.00e+00, 3.00e+00,\n",
       "        3.00e+00],\n",
       "       [4.50e+01, 1.00e+00, 2.00e+00, 1.28e+02, 3.08e+02, 0.00e+00,\n",
       "        2.00e+00, 1.70e+02, 0.00e+00, 0.00e+00, 1.00e+00, 0.00e+00,\n",
       "        3.00e+00],\n",
       "       [4.00e+01, 1.00e+00, 4.00e+00, 1.10e+02, 1.67e+02, 0.00e+00,\n",
       "        2.00e+00, 1.14e+02, 1.00e+00, 2.00e+00, 2.00e+00, 0.00e+00,\n",
       "        7.00e+00],\n",
       "       [6.70e+01, 1.00e+00, 4.00e+00, 1.25e+02, 2.54e+02, 1.00e+00,\n",
       "        0.00e+00, 1.63e+02, 0.00e+00, 2.00e-01, 2.00e+00, 2.00e+00,\n",
       "        7.00e+00],\n",
       "       [6.20e+01, 1.00e+00, 4.00e+00, 1.20e+02, 2.67e+02, 0.00e+00,\n",
       "        0.00e+00, 9.90e+01, 1.00e+00, 1.80e+00, 2.00e+00, 2.00e+00,\n",
       "        7.00e+00],\n",
       "       [4.20e+01, 0.00e+00, 4.00e+00, 1.02e+02, 2.65e+02, 0.00e+00,\n",
       "        2.00e+00, 1.22e+02, 0.00e+00, 6.00e-01, 2.00e+00, 0.00e+00,\n",
       "        3.00e+00],\n",
       "       [7.10e+01, 0.00e+00, 3.00e+00, 1.10e+02, 2.65e+02, 1.00e+00,\n",
       "        2.00e+00, 1.30e+02, 0.00e+00, 0.00e+00, 1.00e+00, 1.00e+00,\n",
       "        3.00e+00],\n",
       "       [6.00e+01, 0.00e+00, 1.00e+00, 1.50e+02, 2.40e+02, 0.00e+00,\n",
       "        0.00e+00, 1.71e+02, 0.00e+00, 9.00e-01, 1.00e+00, 0.00e+00,\n",
       "        3.00e+00],\n",
       "       [4.00e+01, 1.00e+00, 1.00e+00, 1.40e+02, 1.99e+02, 0.00e+00,\n",
       "        0.00e+00, 1.78e+02, 1.00e+00, 1.40e+00, 1.00e+00, 0.00e+00,\n",
       "        7.00e+00],\n",
       "       [4.50e+01, 1.00e+00, 4.00e+00, 1.42e+02, 3.09e+02, 0.00e+00,\n",
       "        2.00e+00, 1.47e+02, 1.00e+00, 0.00e+00, 2.00e+00, 3.00e+00,\n",
       "        7.00e+00],\n",
       "       [4.40e+01, 1.00e+00, 2.00e+00, 1.20e+02, 2.20e+02, 0.00e+00,\n",
       "        0.00e+00, 1.70e+02, 0.00e+00, 0.00e+00, 1.00e+00, 0.00e+00,\n",
       "        3.00e+00],\n",
       "       [4.50e+01, 1.00e+00, 1.00e+00, 1.10e+02, 2.64e+02, 0.00e+00,\n",
       "        0.00e+00, 1.32e+02, 0.00e+00, 1.20e+00, 2.00e+00, 0.00e+00,\n",
       "        7.00e+00],\n",
       "       [6.70e+01, 1.00e+00, 4.00e+00, 1.00e+02, 2.99e+02, 0.00e+00,\n",
       "        2.00e+00, 1.25e+02, 1.00e+00, 9.00e-01, 2.00e+00, 2.00e+00,\n",
       "        3.00e+00],\n",
       "       [5.20e+01, 1.00e+00, 4.00e+00, 1.25e+02, 2.12e+02, 0.00e+00,\n",
       "        0.00e+00, 1.68e+02, 0.00e+00, 1.00e+00, 1.00e+00, 2.00e+00,\n",
       "        7.00e+00],\n",
       "       [5.70e+01, 1.00e+00, 4.00e+00, 1.32e+02, 2.07e+02, 0.00e+00,\n",
       "        0.00e+00, 1.68e+02, 1.00e+00, 0.00e+00, 1.00e+00, 0.00e+00,\n",
       "        7.00e+00],\n",
       "       [4.90e+01, 1.00e+00, 2.00e+00, 1.30e+02, 2.66e+02, 0.00e+00,\n",
       "        0.00e+00, 1.71e+02, 0.00e+00, 6.00e-01, 1.00e+00, 0.00e+00,\n",
       "        3.00e+00],\n",
       "       [5.20e+01, 1.00e+00, 4.00e+00, 1.28e+02, 2.55e+02, 0.00e+00,\n",
       "        0.00e+00, 1.61e+02, 1.00e+00, 0.00e+00, 1.00e+00, 1.00e+00,\n",
       "        7.00e+00],\n",
       "       [5.50e+01, 0.00e+00, 4.00e+00, 1.28e+02, 2.05e+02, 0.00e+00,\n",
       "        1.00e+00, 1.30e+02, 1.00e+00, 2.00e+00, 2.00e+00, 1.00e+00,\n",
       "        7.00e+00],\n",
       "       [5.90e+01, 1.00e+00, 1.00e+00, 1.78e+02, 2.70e+02, 0.00e+00,\n",
       "        2.00e+00, 1.45e+02, 0.00e+00, 4.20e+00, 3.00e+00, 0.00e+00,\n",
       "        7.00e+00],\n",
       "       [5.20e+01, 1.00e+00, 4.00e+00, 1.08e+02, 2.33e+02, 1.00e+00,\n",
       "        0.00e+00, 1.47e+02, 0.00e+00, 1.00e-01, 1.00e+00, 3.00e+00,\n",
       "        7.00e+00],\n",
       "       [3.90e+01, 1.00e+00, 3.00e+00, 1.40e+02, 3.21e+02, 0.00e+00,\n",
       "        2.00e+00, 1.82e+02, 0.00e+00, 0.00e+00, 1.00e+00, 0.00e+00,\n",
       "        3.00e+00],\n",
       "       [4.50e+01, 1.00e+00, 4.00e+00, 1.04e+02, 2.08e+02, 0.00e+00,\n",
       "        2.00e+00, 1.48e+02, 1.00e+00, 3.00e+00, 2.00e+00, 0.00e+00,\n",
       "        3.00e+00],\n",
       "       [5.80e+01, 1.00e+00, 2.00e+00, 1.20e+02, 2.84e+02, 0.00e+00,\n",
       "        2.00e+00, 1.60e+02, 0.00e+00, 1.80e+00, 2.00e+00, 0.00e+00,\n",
       "        3.00e+00],\n",
       "       [4.30e+01, 1.00e+00, 4.00e+00, 1.10e+02, 2.11e+02, 0.00e+00,\n",
       "        0.00e+00, 1.61e+02, 0.00e+00, 0.00e+00, 1.00e+00, 0.00e+00,\n",
       "        7.00e+00],\n",
       "       [7.10e+01, 0.00e+00, 2.00e+00, 1.60e+02, 3.02e+02, 0.00e+00,\n",
       "        0.00e+00, 1.62e+02, 0.00e+00, 4.00e-01, 1.00e+00, 2.00e+00,\n",
       "        3.00e+00],\n",
       "       [4.20e+01, 1.00e+00, 4.00e+00, 1.40e+02, 2.26e+02, 0.00e+00,\n",
       "        0.00e+00, 1.78e+02, 0.00e+00, 0.00e+00, 1.00e+00, 0.00e+00,\n",
       "        3.00e+00],\n",
       "       [6.40e+01, 1.00e+00, 3.00e+00, 1.25e+02, 3.09e+02, 0.00e+00,\n",
       "        0.00e+00, 1.31e+02, 1.00e+00, 1.80e+00, 2.00e+00, 0.00e+00,\n",
       "        7.00e+00],\n",
       "       [6.00e+01, 1.00e+00, 4.00e+00, 1.30e+02, 2.53e+02, 0.00e+00,\n",
       "        0.00e+00, 1.44e+02, 1.00e+00, 1.40e+00, 1.00e+00, 1.00e+00,\n",
       "        7.00e+00],\n",
       "       [6.00e+01, 0.00e+00, 3.00e+00, 1.02e+02, 3.18e+02, 0.00e+00,\n",
       "        0.00e+00, 1.60e+02, 0.00e+00, 0.00e+00, 1.00e+00, 1.00e+00,\n",
       "        3.00e+00],\n",
       "       [5.10e+01, 1.00e+00, 4.00e+00, 1.40e+02, 2.61e+02, 0.00e+00,\n",
       "        2.00e+00, 1.86e+02, 1.00e+00, 0.00e+00, 1.00e+00, 0.00e+00,\n",
       "        3.00e+00],\n",
       "       [4.40e+01, 1.00e+00, 3.00e+00, 1.20e+02, 2.26e+02, 0.00e+00,\n",
       "        0.00e+00, 1.69e+02, 0.00e+00, 0.00e+00, 1.00e+00, 0.00e+00,\n",
       "        3.00e+00],\n",
       "       [6.50e+01, 0.00e+00, 3.00e+00, 1.60e+02, 3.60e+02, 0.00e+00,\n",
       "        2.00e+00, 1.51e+02, 0.00e+00, 8.00e-01, 1.00e+00, 0.00e+00,\n",
       "        3.00e+00],\n",
       "       [5.80e+01, 0.00e+00, 4.00e+00, 1.70e+02, 2.25e+02, 1.00e+00,\n",
       "        2.00e+00, 1.46e+02, 1.00e+00, 2.80e+00, 2.00e+00, 2.00e+00,\n",
       "        6.00e+00],\n",
       "       [6.80e+01, 0.00e+00, 3.00e+00, 1.20e+02, 2.11e+02, 0.00e+00,\n",
       "        2.00e+00, 1.15e+02, 0.00e+00, 1.50e+00, 2.00e+00, 0.00e+00,\n",
       "        3.00e+00],\n",
       "       [4.30e+01, 0.00e+00, 4.00e+00, 1.32e+02, 3.41e+02, 1.00e+00,\n",
       "        2.00e+00, 1.36e+02, 1.00e+00, 3.00e+00, 2.00e+00, 0.00e+00,\n",
       "        7.00e+00],\n",
       "       [5.80e+01, 0.00e+00, 3.00e+00, 1.20e+02, 3.40e+02, 0.00e+00,\n",
       "        0.00e+00, 1.72e+02, 0.00e+00, 0.00e+00, 1.00e+00, 0.00e+00,\n",
       "        3.00e+00],\n",
       "       [4.50e+01, 0.00e+00, 4.00e+00, 1.38e+02, 2.36e+02, 0.00e+00,\n",
       "        2.00e+00, 1.52e+02, 1.00e+00, 2.00e-01, 2.00e+00, 0.00e+00,\n",
       "        3.00e+00],\n",
       "       [5.80e+01, 1.00e+00, 4.00e+00, 1.00e+02, 2.34e+02, 0.00e+00,\n",
       "        0.00e+00, 1.56e+02, 0.00e+00, 1.00e-01, 1.00e+00, 1.00e+00,\n",
       "        7.00e+00],\n",
       "       [6.40e+01, 1.00e+00, 1.00e+00, 1.10e+02, 2.11e+02, 0.00e+00,\n",
       "        2.00e+00, 1.44e+02, 1.00e+00, 1.80e+00, 2.00e+00, 0.00e+00,\n",
       "        3.00e+00],\n",
       "       [4.40e+01, 1.00e+00, 4.00e+00, 1.12e+02, 2.90e+02, 0.00e+00,\n",
       "        2.00e+00, 1.53e+02, 0.00e+00, 0.00e+00, 1.00e+00, 1.00e+00,\n",
       "        3.00e+00],\n",
       "       [6.70e+01, 1.00e+00, 3.00e+00, 1.52e+02, 2.12e+02, 0.00e+00,\n",
       "        2.00e+00, 1.50e+02, 0.00e+00, 8.00e-01, 2.00e+00, 0.00e+00,\n",
       "        7.00e+00],\n",
       "       [6.70e+01, 0.00e+00, 3.00e+00, 1.15e+02, 5.64e+02, 0.00e+00,\n",
       "        2.00e+00, 1.60e+02, 0.00e+00, 1.60e+00, 2.00e+00, 0.00e+00,\n",
       "        7.00e+00],\n",
       "       [6.20e+01, 0.00e+00, 4.00e+00, 1.60e+02, 1.64e+02, 0.00e+00,\n",
       "        2.00e+00, 1.45e+02, 0.00e+00, 6.20e+00, 3.00e+00, 3.00e+00,\n",
       "        7.00e+00],\n",
       "       [6.90e+01, 1.00e+00, 3.00e+00, 1.40e+02, 2.54e+02, 0.00e+00,\n",
       "        2.00e+00, 1.46e+02, 0.00e+00, 2.00e+00, 2.00e+00, 3.00e+00,\n",
       "        7.00e+00],\n",
       "       [6.00e+01, 1.00e+00, 4.00e+00, 1.30e+02, 2.06e+02, 0.00e+00,\n",
       "        2.00e+00, 1.32e+02, 1.00e+00, 2.40e+00, 2.00e+00, 2.00e+00,\n",
       "        7.00e+00],\n",
       "       [3.50e+01, 1.00e+00, 4.00e+00, 1.20e+02, 1.98e+02, 0.00e+00,\n",
       "        0.00e+00, 1.30e+02, 1.00e+00, 1.60e+00, 2.00e+00, 0.00e+00,\n",
       "        7.00e+00],\n",
       "       [5.40e+01, 0.00e+00, 2.00e+00, 1.32e+02, 2.88e+02, 1.00e+00,\n",
       "        2.00e+00, 1.59e+02, 1.00e+00, 0.00e+00, 1.00e+00, 1.00e+00,\n",
       "        3.00e+00],\n",
       "       [5.00e+01, 0.00e+00, 2.00e+00, 1.20e+02, 2.44e+02, 0.00e+00,\n",
       "        0.00e+00, 1.62e+02, 0.00e+00, 1.10e+00, 1.00e+00, 0.00e+00,\n",
       "        3.00e+00]])"
      ]
     },
     "execution_count": 76,
     "metadata": {},
     "output_type": "execute_result"
    }
   ],
   "source": [
    "X_test"
   ]
  },
  {
   "cell_type": "code",
   "execution_count": 77,
   "id": "32d9da6b",
   "metadata": {},
   "outputs": [
    {
     "name": "stdout",
     "output_type": "stream",
     "text": [
      "[0. 3. 2. 0. 1. 1. 0. 0. 0. 0. 0. 2. 2. 0. 3. 3. 1. 0. 0. 0. 0. 3. 0. 1.\n",
      " 3. 3. 0. 0. 1. 3. 0. 0. 0. 0. 1. 0. 0. 0. 1. 1. 0. 0. 0. 0. 2. 0. 2. 0.\n",
      " 0. 2. 0. 2. 1. 0. 3. 2. 4. 1. 0. 0.]\n"
     ]
    }
   ],
   "source": [
    "print(y_test)"
   ]
  },
  {
   "cell_type": "markdown",
   "id": "4064738a",
   "metadata": {},
   "source": [
    "## Train the M0DEL"
   ]
  },
  {
   "cell_type": "code",
   "execution_count": 78,
   "id": "7fe9f76b",
   "metadata": {},
   "outputs": [],
   "source": [
    "param = {'max_depth': 5}"
   ]
  },
  {
   "cell_type": "code",
   "execution_count": 79,
   "id": "4b7358b3",
   "metadata": {},
   "outputs": [],
   "source": [
    "classifier = DecisionTreeClassifier(**param)"
   ]
  },
  {
   "cell_type": "code",
   "execution_count": 80,
   "id": "689bd665",
   "metadata": {},
   "outputs": [
    {
     "data": {
      "text/plain": [
       "DecisionTreeClassifier(max_depth=5)"
      ]
     },
     "execution_count": 80,
     "metadata": {},
     "output_type": "execute_result"
    }
   ],
   "source": [
    "classifier.fit(X_train, y_train)"
   ]
  },
  {
   "cell_type": "code",
   "execution_count": 81,
   "id": "e87f3ba2",
   "metadata": {},
   "outputs": [],
   "source": [
    "#visualize_classifier(classifier, X_train, y_train, 'Training')"
   ]
  },
  {
   "cell_type": "code",
   "execution_count": 82,
   "id": "d52ae9ae",
   "metadata": {},
   "outputs": [],
   "source": [
    "dot_data = tree.export_graphviz(classifier,\n",
    "                                out_file=None, \n",
    "                                feature_names=data.columns[:13], \n",
    "                                class_names = True, \n",
    "                                filled = True, \n",
    "                                rounded=True, \n",
    "                                proportion=False, \n",
    "                                special_characters=True)\n",
    "graph = graphviz.Source(dot_data)"
   ]
  },
  {
   "cell_type": "code",
   "execution_count": 83,
   "id": "1dc8100a",
   "metadata": {},
   "outputs": [],
   "source": [
    "y_predict=classifier.predict(X_test)"
   ]
  },
  {
   "cell_type": "code",
   "execution_count": 84,
   "id": "292391ec",
   "metadata": {},
   "outputs": [
    {
     "data": {
      "text/plain": [
       "array([0., 2., 2., 0., 0., 3., 0., 0., 0., 0., 0., 2., 1., 0., 3., 2., 1.,\n",
       "       0., 0., 0., 0., 4., 0., 0., 1., 2., 1., 0., 2., 2., 1., 4., 0., 2.,\n",
       "       0., 0., 0., 0., 0., 2., 0., 0., 0., 1., 3., 0., 2., 0., 0., 2., 0.,\n",
       "       1., 0., 0., 4., 3., 2., 3., 0., 0.])"
      ]
     },
     "execution_count": 84,
     "metadata": {},
     "output_type": "execute_result"
    }
   ],
   "source": [
    "y_predict"
   ]
  },
  {
   "cell_type": "code",
   "execution_count": 85,
   "id": "3b2614bf",
   "metadata": {},
   "outputs": [
    {
     "data": {
      "text/plain": [
       "0.5666666666666667"
      ]
     },
     "execution_count": 85,
     "metadata": {},
     "output_type": "execute_result"
    }
   ],
   "source": [
    "accuracy_score(y_test, y_predict)"
   ]
  },
  {
   "cell_type": "code",
   "execution_count": 86,
   "id": "c1e43081",
   "metadata": {},
   "outputs": [
    {
     "data": {
      "text/plain": [
       "array([[28,  3,  1,  0,  1],\n",
       "       [ 5,  1,  2,  2,  0],\n",
       "       [ 0,  2,  4,  2,  0],\n",
       "       [ 0,  1,  4,  1,  2],\n",
       "       [ 0,  0,  1,  0,  0]])"
      ]
     },
     "execution_count": 86,
     "metadata": {},
     "output_type": "execute_result"
    }
   ],
   "source": [
    "mat = confusion_matrix(y_test, y_predict)\n",
    "mat"
   ]
  },
  {
   "cell_type": "code",
   "execution_count": 88,
   "id": "d8e0539f",
   "metadata": {},
   "outputs": [
    {
     "data": {
      "text/html": [
       "<div>\n",
       "<style scoped>\n",
       "    .dataframe tbody tr th:only-of-type {\n",
       "        vertical-align: middle;\n",
       "    }\n",
       "\n",
       "    .dataframe tbody tr th {\n",
       "        vertical-align: top;\n",
       "    }\n",
       "\n",
       "    .dataframe thead th {\n",
       "        text-align: right;\n",
       "    }\n",
       "</style>\n",
       "<table border=\"1\" class=\"dataframe\">\n",
       "  <thead>\n",
       "    <tr style=\"text-align: right;\">\n",
       "      <th>col_0</th>\n",
       "      <th>0.0</th>\n",
       "      <th>1.0</th>\n",
       "      <th>2.0</th>\n",
       "      <th>3.0</th>\n",
       "      <th>4.0</th>\n",
       "    </tr>\n",
       "    <tr>\n",
       "      <th>row_0</th>\n",
       "      <th></th>\n",
       "      <th></th>\n",
       "      <th></th>\n",
       "      <th></th>\n",
       "      <th></th>\n",
       "    </tr>\n",
       "  </thead>\n",
       "  <tbody>\n",
       "    <tr>\n",
       "      <th>0.0</th>\n",
       "      <td>28</td>\n",
       "      <td>3</td>\n",
       "      <td>1</td>\n",
       "      <td>0</td>\n",
       "      <td>1</td>\n",
       "    </tr>\n",
       "    <tr>\n",
       "      <th>1.0</th>\n",
       "      <td>5</td>\n",
       "      <td>1</td>\n",
       "      <td>2</td>\n",
       "      <td>2</td>\n",
       "      <td>0</td>\n",
       "    </tr>\n",
       "    <tr>\n",
       "      <th>2.0</th>\n",
       "      <td>0</td>\n",
       "      <td>2</td>\n",
       "      <td>4</td>\n",
       "      <td>2</td>\n",
       "      <td>0</td>\n",
       "    </tr>\n",
       "    <tr>\n",
       "      <th>3.0</th>\n",
       "      <td>0</td>\n",
       "      <td>1</td>\n",
       "      <td>4</td>\n",
       "      <td>1</td>\n",
       "      <td>2</td>\n",
       "    </tr>\n",
       "    <tr>\n",
       "      <th>4.0</th>\n",
       "      <td>0</td>\n",
       "      <td>0</td>\n",
       "      <td>1</td>\n",
       "      <td>0</td>\n",
       "      <td>0</td>\n",
       "    </tr>\n",
       "  </tbody>\n",
       "</table>\n",
       "</div>"
      ],
      "text/plain": [
       "col_0  0.0  1.0  2.0  3.0  4.0\n",
       "row_0                         \n",
       "0.0     28    3    1    0    1\n",
       "1.0      5    1    2    2    0\n",
       "2.0      0    2    4    2    0\n",
       "3.0      0    1    4    1    2\n",
       "4.0      0    0    1    0    0"
      ]
     },
     "execution_count": 88,
     "metadata": {},
     "output_type": "execute_result"
    }
   ],
   "source": [
    "conf = pd.crosstab(y_test, y_predict)\n",
    "conf"
   ]
  },
  {
   "cell_type": "code",
   "execution_count": null,
   "id": "42d267a6",
   "metadata": {},
   "outputs": [],
   "source": []
  }
 ],
 "metadata": {
  "kernelspec": {
   "display_name": "Python 3 (ipykernel)",
   "language": "python",
   "name": "python3"
  },
  "language_info": {
   "codemirror_mode": {
    "name": "ipython",
    "version": 3
   },
   "file_extension": ".py",
   "mimetype": "text/x-python",
   "name": "python",
   "nbconvert_exporter": "python",
   "pygments_lexer": "ipython3",
   "version": "3.9.13"
  }
 },
 "nbformat": 4,
 "nbformat_minor": 5
}
