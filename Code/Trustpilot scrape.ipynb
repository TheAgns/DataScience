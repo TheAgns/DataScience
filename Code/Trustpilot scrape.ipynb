{
 "cells": [
  {
   "cell_type": "code",
   "execution_count": 1,
   "id": "906c611e",
   "metadata": {},
   "outputs": [],
   "source": [
    "import requests\n",
    "from bs4 import BeautifulSoup\n",
    "import pandas as pd\n",
    "import re\n",
    "from bertopic import BERTopic\n",
    "import matplotlib.pyplot as plt\n",
    "import seaborn as sns\n",
    "import nltk\n",
    "from nltk.corpus import stopwords\n",
    "from nltk.stem import WordNetLemmatizer\n",
    "from nltk.tokenize import word_tokenize"
   ]
  },
  {
   "cell_type": "code",
   "execution_count": 2,
   "id": "01612119",
   "metadata": {},
   "outputs": [],
   "source": [
    "def get_reviews(url):\n",
    "    response = requests.get(url)\n",
    "    soup = BeautifulSoup(response.content, \"html.parser\")\n",
    "\n",
    "    review_divs = soup.find_all(\"div\", {\"class\": \"styles_cardWrapper__LcCPA styles_show__HUXRb styles_reviewCard__9HxJJ\"})\n",
    "\n",
    "    texts = []\n",
    "    ratings = []\n",
    "\n",
    "    for div in review_divs:\n",
    "        review_title = div.find(\"h2\", {\"class\": \"review-title\"})\n",
    "        review_stars_div = div.find(\"div\", {\"class\": \"styles_reviewHeader__iU9Px\"})\n",
    "        \n",
    "        review_rating = review_stars_div['data-service-review-rating']\n",
    "    \n",
    "    \n",
    "        # Find the first p tag within the div\n",
    "        review_paragraph = div.find(\"p\")\n",
    "        texts.append(review_paragraph.text)\n",
    "        ratings.append(review_rating)\n",
    "        \n",
    "    reviews = dict(zip(texts, ratings))\n",
    "    \n",
    "    return(reviews)"
   ]
  },
  {
   "cell_type": "code",
   "execution_count": 3,
   "id": "09fe8009",
   "metadata": {},
   "outputs": [],
   "source": [
    "getdict = get_reviews(\"https://dk.trustpilot.com/review/www.matas.dk\")"
   ]
  },
  {
   "cell_type": "code",
   "execution_count": 4,
   "id": "04e4b2c8",
   "metadata": {},
   "outputs": [
    {
     "data": {
      "text/plain": [
       "{'Det er nemt at handle på Matas webshop. Specielt er jeg glad for muligheden for at opbygge personlig favoritliste - det gør det nemt ved genkøb.Desuden er jeg glad for det store udvalg.Og endelig er det dejligt, at varerne altid leveres hurtigt til nærmeste posthus eller nærmeste Nærboks.': '5',\n",
       " 'Fin oplevelse med at bestille pakke på matas og få det sendt -men meget trist oplevelse da pakken kom.Jeg skriver blot dette til Matas her fordi jeg ikke ved hvor jeg ellers skal rette henvendelse til. Og fordi jeg måske kan få andre til lige selv at smutte forbi Matas næste gang de er på tur alligevel 😅Der kom en 44x33 pose indeholdende en 30x22x4 pap boks hvori der lå to bløde poser af 22x16x2 (hair towel)Bevares der står 100% kompostbar på kassen, og jeg er godt klar over det er jeres pakkesysten, men kunne i ikke beholde den? Vippe tingene i posen, som så kan være væsentlig mindre når man trykker luften ud …. Og hvor ved i fra jeres kunder ikke bare smider alt i skraldespanden! Så nytter det jo intet.Ja, næste gang handler jeg selv i butikken ☺️': '4',\n",
       " 'Jeg afventede en pakke lørdag aften, som stadig ikke er blevet leveret endnu. Instabox bliver ved med at rykke leveringsdatoen. Fra lørdag til tirsdag, til onsdag, til torsdag, til fredag. Ender med at købe tingene et andet sted, da de skulle være brugt til gave.': '1',\n",
       " 'Hej MatasSynes at I skal tage kontakt til jeres leverandør af pakker til privatadresser.Pakkerne bliver ikke leveres i postkassen eller ved hoveddøren som der bliver reklameret med. Pakkerne på vores adresse bliver leveres ved at pakkebudet ruller sit vindue ned på sin bil og smider pakken på fliserne et godt stykke fra min hoveddør.Det er IKKE i orden og det SKAL der rettes op på!Vh Britt': '1',\n",
       " 'Altid en fornøjelse at handle i net butik. Ville bruge en gave men ikke tid, til at come forbi den fysiske butik. Fik varer dagen efter. ( købte fredag eftermiddag, og fik det lørdag) det er det man kalde for service.': '5',\n",
       " 'Altid masser af tilbud på nærsagt et utal af kvalitets varer, gode oplysninger på produkterne, nem bestilling og super hurtig 🚚! God rådgivning om ønsket.': '5',\n",
       " 'Har lige hentet min pakke i Bruuns, og modtager pakken åbent. Det meddeler jeg til én af medarbejderne, hvortil jeg får at vide at det åbenbart sker tit. Useriøst at man ikke lukker pakkerne ordentligt': '1',\n",
       " 'Jeg er som så mange andre altid lidt sent ude med gavekøb. Det store barn ønsker sig en ting fra Matas, og jeg tænker aftenen før, at jeg finder en Matas i morgen og køber det ønskede - indtil jeg ser, at det kun kan købes i netbutikken, og når herefter at tænke, at jeg må finde på noget andet at give. Jeg giver det alligevel en chance og vupti vupti blev varen leveret mellem 18-22 efterfølgende dag.': '5',\n",
       " 'Det er nemt, at finde rundt og finde det jeg skal bruge. Kun 4 stjerner, fordi der manglede en vare jeg ønskede, at købe mens der var tilbud.': '4',\n",
       " 'Dejligt nemt.Med en abonnementsordning fra Matas kan man få varer bragt lige til døren uden fragt og samtidig få 20 % rabat. Herligt 😁.': '5',\n",
       " 'På Matas hjemmeside er der -20% på alle varer fra 8-10 april. Det gælder også Prada Paradoxe parfume, bortset fra at den skal købes via butik. Men her i dag den 10 april 2. påskedag har alle butikker lukket, så det er dårlig markedsføring at reklamere med rabat på et produkt man ikke kan købe.': '1',\n",
       " 'Altså det her med netkøb med dag til dag levering, som jeg læser om i anmeldelserne her, må afhænge af, hvor og hvordan der leveres. Jeg har før handlet i Matas på nettet og fået pakken med DAO dagen efter. Denne gang har jeg bedt om levering til butik, og har stadig ikke modtaget besked om pakke. Jeg bestilte den 11. april. Nu er det sent, fredag den 14. april - vi går weekenden i møde, så nu regner jeg ikke med pakke før tidligst mandag. Det er altså en uge, så hurtig nethandel er det ikke. Matas bør oplyse deres kunder om, at nok er det gratis med levering til butik, men også MEGET langsommere. Så ved man, at hvis man skal bruge, hvad man køber til gave eller til feks i morgen lørdag, ja så skal man ikke købe på nettet eller også skal man betale hjemmelevering. Der er sendt til butik i dag, - Pengene er dags dato trukket fra min konto, men jeg ved ikke, hvornår jeg kan hente min pakke. Det er surt, for jeg kunne lige så vel have gået ned i byen og købt. Vi har 2 Matas i byen.': '1',\n",
       " 'Det er nemt, at bestille og samle points på online butikken, men jeg ærgrer mig altid over, at skulle betale porto, når jeg skal afhente det i min matas butik. Tit har de ikke selv den vare i butikken, som jeg bestiller på nettet.': '4',\n",
       " 'Varen var ikke hjemme i forretningen, så ekspedienten fortalte mig , at hun kunne bestille den, og at jeg kunne have varen dagen efter..Det sagde jeg ja tak til. Fin service': '5',\n",
       " 'Jeg er imponeret over Matas online. Nu har jeg flere gange prøvet at jeg bestiller online, og så er det ankommet allerede næste dag til butikken. Denne gang var det endda i påsken jeg bestilte. Respekt herfra!': '5',\n",
       " 'Bestilte mine vare om lørdagen og de lå ude foran min dør næste dag. Det kalder jeg hurtig service. Fantastisk. Og tak': '5',\n",
       " 'Altid hurtig levering og varer der lever op til beskrivelsen. Eneste ulempe er, at varerne bliver sendt i 2 pakker- hvis man køber varer fra forskellige lagre. Men er meget glad for også at kunne købe varer fra specialvarelageret i appen 👌': '4',\n",
       " 'Jeg bestilte en vare på Matas webshop om eftermiddagen skærtorsdag, og den er blevet leveret natten til langfredag - en leveringstid på lige knap 14 timer henover 2 helligdage! Det alligevel imponerende hurtigt👏🏼Tusinde tak for det.': '5',\n",
       " 'Nemt at bestille på hjemmesiden, havde de varer, jeg ønskede og blev hurtigt leveret.': '5',\n",
       " 'Nemt at søge og finde det jeg ønsker at købe, lynhurtig levering, som er gratis hvis du er Matas plus medlem. Jeg har handlet mange gange på nettet og har altid været tilfreds👍🏼👍🏼Lone': '5'}"
      ]
     },
     "execution_count": 4,
     "metadata": {},
     "output_type": "execute_result"
    }
   ],
   "source": [
    "getdict"
   ]
  }
 ],
 "metadata": {
  "kernelspec": {
   "display_name": "Python 3 (ipykernel)",
   "language": "python",
   "name": "python3"
  },
  "language_info": {
   "codemirror_mode": {
    "name": "ipython",
    "version": 3
   },
   "file_extension": ".py",
   "mimetype": "text/x-python",
   "name": "python",
   "nbconvert_exporter": "python",
   "pygments_lexer": "ipython3",
   "version": "3.10.9"
  }
 },
 "nbformat": 4,
 "nbformat_minor": 5
}
