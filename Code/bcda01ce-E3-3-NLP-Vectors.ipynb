{
 "cells": [
  {
   "cell_type": "markdown",
   "metadata": {},
   "source": [
    "# Exercise 3: Vectorisation of Text Data\n"
   ]
  },
  {
   "cell_type": "markdown",
   "metadata": {},
   "source": [
    "The process of converting or transforming a data set into a set of vectors is called __Vectorization__.<br>\n",
    "Using __word vectors__ is a relatively old approach of NLP. In it, the words of a sentence are processed without context, just lexically. <br>\n",
    "Modern algoriths, which we will apply later in the course consider the meaning, the semantical role of the word in a sentence, which gives posibility for \"undrstanding\" the inforation in the document (NLU). These algiriths implement __tokens, embedding techniques and deel learning__ ANN."
   ]
  },
  {
   "cell_type": "code",
   "execution_count": 1,
   "metadata": {},
   "outputs": [],
   "source": [
    "# import libraries\n",
    "import pandas as pd\n",
    "import sklearn as sk\n",
    "import math \n",
    "import pprint"
   ]
  },
  {
   "cell_type": "code",
   "execution_count": 2,
   "metadata": {},
   "outputs": [],
   "source": [
    "# enter two sentences for the test\n",
    "sent1 = \"Data Science is the sexiest job of the 21st century.\"\n",
    "sent2 = \"Machine learning is the key for data science.\""
   ]
  },
  {
   "cell_type": "code",
   "execution_count": 3,
   "metadata": {},
   "outputs": [],
   "source": [
    "# parse the sentences in words\n",
    "sent1 = sent1.split(\" \")\n",
    "sent2 = sent2.split(\" \")"
   ]
  },
  {
   "cell_type": "code",
   "execution_count": 4,
   "metadata": {},
   "outputs": [
    {
     "name": "stdout",
     "output_type": "stream",
     "text": [
      "['Data', 'Science', 'is', 'the', 'sexiest', 'job', 'of', 'the', '21st', 'century.']\n",
      "['Machine', 'learning', 'is', 'the', 'key', 'for', 'data', 'science.']\n"
     ]
    }
   ],
   "source": [
    "print(sent1)\n",
    "print(sent2)"
   ]
  },
  {
   "cell_type": "code",
   "execution_count": 3,
   "metadata": {},
   "outputs": [
    {
     "ename": "NameError",
     "evalue": "name 'sent1' is not defined",
     "output_type": "error",
     "traceback": [
      "\u001b[0;31m---------------------------------------------------------------------------\u001b[0m",
      "\u001b[0;31mNameError\u001b[0m                                 Traceback (most recent call last)",
      "\u001b[0;32m/var/folders/f4/g09hx1n5747dttb_p424s85w0000gn/T/ipykernel_1447/237937454.py\u001b[0m in \u001b[0;36m<module>\u001b[0;34m\u001b[0m\n\u001b[1;32m      1\u001b[0m \u001b[0;31m# join the sets of words to remove duplications\u001b[0m\u001b[0;34m\u001b[0m\u001b[0;34m\u001b[0m\u001b[0m\n\u001b[0;32m----> 2\u001b[0;31m \u001b[0mall\u001b[0m \u001b[0;34m=\u001b[0m \u001b[0mset\u001b[0m\u001b[0;34m(\u001b[0m\u001b[0msent1\u001b[0m\u001b[0;34m)\u001b[0m\u001b[0;34m.\u001b[0m\u001b[0munion\u001b[0m\u001b[0;34m(\u001b[0m\u001b[0mset\u001b[0m\u001b[0;34m(\u001b[0m\u001b[0msent2\u001b[0m\u001b[0;34m)\u001b[0m\u001b[0;34m)\u001b[0m\u001b[0;34m\u001b[0m\u001b[0;34m\u001b[0m\u001b[0m\n\u001b[0m\u001b[1;32m      3\u001b[0m \u001b[0mprint\u001b[0m\u001b[0;34m(\u001b[0m\u001b[0mall\u001b[0m\u001b[0;34m)\u001b[0m\u001b[0;34m\u001b[0m\u001b[0;34m\u001b[0m\u001b[0m\n\u001b[1;32m      4\u001b[0m \u001b[0mtype\u001b[0m\u001b[0;34m(\u001b[0m\u001b[0mall\u001b[0m\u001b[0;34m)\u001b[0m\u001b[0;34m\u001b[0m\u001b[0;34m\u001b[0m\u001b[0m\n",
      "\u001b[0;31mNameError\u001b[0m: name 'sent1' is not defined"
     ]
    }
   ],
   "source": [
    "# join the sets of words to remove duplications\n",
    "all = set(sent1).union(set(sent2))\n",
    "print(all)"
   ]
  },
  {
   "cell_type": "code",
   "execution_count": 6,
   "metadata": {},
   "outputs": [
    {
     "data": {
      "text/plain": [
       "15"
      ]
     },
     "execution_count": 6,
     "metadata": {},
     "output_type": "execute_result"
    }
   ],
   "source": [
    "# corpus size\n",
    "len(all)"
   ]
  },
  {
   "cell_type": "markdown",
   "metadata": {},
   "source": [
    "## 1. Binary Vectorisation of the Sentences"
   ]
  },
  {
   "cell_type": "markdown",
   "metadata": {},
   "source": [
    "Check and remember which words appear in each semntence (document).\n",
    "Create two empty dictionaries, one for each document. Each dictionaire will contain 15 positions - one per word. The word will be a key, and the appearance will be a value 1 (appear) or 0 (doesn't appear)."
   ]
  },
  {
   "cell_type": "code",
   "execution_count": 7,
   "metadata": {},
   "outputs": [],
   "source": [
    "# Binary Frequency Vector\n",
    "def vect(sent):\n",
    "    wvec = dict.fromkeys(all, 0) \n",
    "    for word in sent:\n",
    "        wvec[word]=1"
   ]
  },
  {
   "cell_type": "code",
   "execution_count": 8,
   "metadata": {},
   "outputs": [
    {
     "data": {
      "text/plain": [
       "{'of': 1,\n",
       " 'key': 0,\n",
       " 'job': 1,\n",
       " 'science.': 0,\n",
       " 'Data': 1,\n",
       " 'Machine': 0,\n",
       " 'learning': 0,\n",
       " 'for': 0,\n",
       " 'the': 1,\n",
       " 'century.': 1,\n",
       " 'data': 0,\n",
       " '21st': 1,\n",
       " 'sexiest': 1,\n",
       " 'is': 1,\n",
       " 'Science': 1}"
      ]
     },
     "execution_count": 8,
     "metadata": {},
     "output_type": "execute_result"
    }
   ],
   "source": [
    "dict1 = vect(sent1)\n",
    "dict1"
   ]
  },
  {
   "cell_type": "code",
   "execution_count": 9,
   "metadata": {},
   "outputs": [
    {
     "data": {
      "text/plain": [
       "{'of': 0,\n",
       " 'key': 1,\n",
       " 'job': 0,\n",
       " 'science.': 1,\n",
       " 'Data': 0,\n",
       " 'Machine': 1,\n",
       " 'learning': 1,\n",
       " 'for': 1,\n",
       " 'the': 1,\n",
       " 'century.': 0,\n",
       " 'data': 1,\n",
       " '21st': 0,\n",
       " 'sexiest': 0,\n",
       " 'is': 1,\n",
       " 'Science': 0}"
      ]
     },
     "execution_count": 9,
     "metadata": {},
     "output_type": "execute_result"
    }
   ],
   "source": [
    "dict2 = vect(sent2)\n",
    "dict2"
   ]
  },
  {
   "cell_type": "code",
   "execution_count": 10,
   "metadata": {},
   "outputs": [
    {
     "data": {
      "text/html": [
       "<div>\n",
       "<style scoped>\n",
       "    .dataframe tbody tr th:only-of-type {\n",
       "        vertical-align: middle;\n",
       "    }\n",
       "\n",
       "    .dataframe tbody tr th {\n",
       "        vertical-align: top;\n",
       "    }\n",
       "\n",
       "    .dataframe thead th {\n",
       "        text-align: right;\n",
       "    }\n",
       "</style>\n",
       "<table border=\"1\" class=\"dataframe\">\n",
       "  <thead>\n",
       "    <tr style=\"text-align: right;\">\n",
       "      <th></th>\n",
       "      <th>of</th>\n",
       "      <th>key</th>\n",
       "      <th>job</th>\n",
       "      <th>science.</th>\n",
       "      <th>Data</th>\n",
       "      <th>Machine</th>\n",
       "      <th>learning</th>\n",
       "      <th>for</th>\n",
       "      <th>the</th>\n",
       "      <th>century.</th>\n",
       "      <th>data</th>\n",
       "      <th>21st</th>\n",
       "      <th>sexiest</th>\n",
       "      <th>is</th>\n",
       "      <th>Science</th>\n",
       "    </tr>\n",
       "  </thead>\n",
       "  <tbody>\n",
       "    <tr>\n",
       "      <th>0</th>\n",
       "      <td>1</td>\n",
       "      <td>0</td>\n",
       "      <td>1</td>\n",
       "      <td>0</td>\n",
       "      <td>1</td>\n",
       "      <td>0</td>\n",
       "      <td>0</td>\n",
       "      <td>0</td>\n",
       "      <td>1</td>\n",
       "      <td>1</td>\n",
       "      <td>0</td>\n",
       "      <td>1</td>\n",
       "      <td>1</td>\n",
       "      <td>1</td>\n",
       "      <td>1</td>\n",
       "    </tr>\n",
       "    <tr>\n",
       "      <th>1</th>\n",
       "      <td>0</td>\n",
       "      <td>1</td>\n",
       "      <td>0</td>\n",
       "      <td>1</td>\n",
       "      <td>0</td>\n",
       "      <td>1</td>\n",
       "      <td>1</td>\n",
       "      <td>1</td>\n",
       "      <td>1</td>\n",
       "      <td>0</td>\n",
       "      <td>1</td>\n",
       "      <td>0</td>\n",
       "      <td>0</td>\n",
       "      <td>1</td>\n",
       "      <td>0</td>\n",
       "    </tr>\n",
       "  </tbody>\n",
       "</table>\n",
       "</div>"
      ],
      "text/plain": [
       "   of  key  job  science.  Data  Machine  learning  for  the  century.  data  \\\n",
       "0   1    0    1         0     1        0         0    0    1         1     0   \n",
       "1   0    1    0         1     0        1         1    1    1         0     1   \n",
       "\n",
       "   21st  sexiest  is  Science  \n",
       "0     1        1   1        1  \n",
       "1     0        0   1        0  "
      ]
     },
     "execution_count": 10,
     "metadata": {},
     "output_type": "execute_result"
    }
   ],
   "source": [
    "# collect the dictionaires in a data frame\n",
    "df = pd.DataFrame([dict1, dict2])\n",
    "df"
   ]
  },
  {
   "cell_type": "markdown",
   "metadata": {},
   "source": [
    "### Similarity of Two Vectors "
   ]
  },
  {
   "attachments": {
    "image.png": {
     "image/png": "[encoded data removed]"
    }
   },
   "cell_type": "markdown",
   "metadata": {},
   "source": [
    "![image.png](attachment:image.png)"
   ]
  },
  {
   "attachments": {
    "image-2.png": {
     "image/png": "[encoded data removed]"
    }
   },
   "cell_type": "markdown",
   "metadata": {},
   "source": [
    "![image-2.png](attachment:image-2.png) "
   ]
  },
  {
   "attachments": {
    "image-2.png": {
     "image/png": "[encoded data removed]"
    }
   },
   "cell_type": "markdown",
   "metadata": {},
   "source": [
    "![image-2.png](attachment:image-2.png)"
   ]
  },
  {
   "cell_type": "markdown",
   "metadata": {},
   "source": [
    "We are searching for the size of the angle: smaller angle - closer vectors - bigger similarity"
   ]
  },
  {
   "cell_type": "code",
   "execution_count": 11,
   "metadata": {},
   "outputs": [],
   "source": [
    "# Calculate dot product of two vectors, divide it by the magnitudes to find the cos(angle between them)\n",
    "# Use the result as a correlation coefficient \n",
    "from collections import Counter\n",
    "\n",
    "def cosine(vector1, vector2):\n",
    "    # calculate nominator as a dot product\n",
    "    numerator = sum(map(lambda pair:pair[0]*pair[1],zip(vector1, vector2)))\n",
    "    \n",
    "    # calculate the denominator, use Euclidean norm\n",
    "    sum1 = sum([vector1[i] ** 2 for i in list(vector1.keys())])\n",
    "    sum2 = sum([vector2[i] ** 2 for i in list(vector2.keys())])   \n",
    "    denominator = math.sqrt(sum1) * math.sqrt(sum2)\n",
    "    \n",
    "    if not denominator:\n",
    "         return 0.0\n",
    "    else:\n",
    "         return float(numerator)/denominator\n"
   ]
  },
  {
   "cell_type": "code",
   "execution_count": 12,
   "metadata": {},
   "outputs": [
    {
     "name": "stdout",
     "output_type": "stream",
     "text": [
      "Similarity:  0.2357022603955158\n"
     ]
    }
   ],
   "source": [
    "# calculate the correlation\n",
    "corr = cosine(df.iloc[0], df.iloc[1])\n",
    "print(\"Similarity: \", corr)"
   ]
  },
  {
   "cell_type": "markdown",
   "metadata": {},
   "source": [
    "## 2. Count Vectorisation\n",
    "Consider the number of ocurancies of a word in a document. The order doesn't matter - __bag-of-words__ model (BOW)"
   ]
  },
  {
   "cell_type": "code",
   "execution_count": 13,
   "metadata": {},
   "outputs": [],
   "source": [
    "# Count vector\n",
    "def cvect(sent):\n",
    "    wvec = dict.fromkeys(all, 0) \n",
    "    for word in sent:\n",
    "        wvec[word]+=1\n",
    "    return wvec    "
   ]
  },
  {
   "cell_type": "code",
   "execution_count": 14,
   "metadata": {},
   "outputs": [
    {
     "data": {
      "text/plain": [
       "{'of': 1,\n",
       " 'key': 0,\n",
       " 'job': 1,\n",
       " 'science.': 0,\n",
       " 'Data': 1,\n",
       " 'Machine': 0,\n",
       " 'learning': 0,\n",
       " 'for': 0,\n",
       " 'the': 2,\n",
       " 'century.': 1,\n",
       " 'data': 0,\n",
       " '21st': 1,\n",
       " 'sexiest': 1,\n",
       " 'is': 1,\n",
       " 'Science': 1}"
      ]
     },
     "execution_count": 14,
     "metadata": {},
     "output_type": "execute_result"
    }
   ],
   "source": [
    "dict1 = cvect(sent1)\n",
    "dict1"
   ]
  },
  {
   "cell_type": "code",
   "execution_count": 15,
   "metadata": {},
   "outputs": [
    {
     "data": {
      "text/plain": [
       "{'of': 0,\n",
       " 'key': 1,\n",
       " 'job': 0,\n",
       " 'science.': 1,\n",
       " 'Data': 0,\n",
       " 'Machine': 1,\n",
       " 'learning': 1,\n",
       " 'for': 1,\n",
       " 'the': 1,\n",
       " 'century.': 0,\n",
       " 'data': 1,\n",
       " '21st': 0,\n",
       " 'sexiest': 0,\n",
       " 'is': 1,\n",
       " 'Science': 0}"
      ]
     },
     "execution_count": 15,
     "metadata": {},
     "output_type": "execute_result"
    }
   ],
   "source": [
    "dict2 = cvect(sent2)\n",
    "dict2"
   ]
  },
  {
   "cell_type": "code",
   "execution_count": 16,
   "metadata": {},
   "outputs": [
    {
     "data": {
      "text/html": [
       "<div>\n",
       "<style scoped>\n",
       "    .dataframe tbody tr th:only-of-type {\n",
       "        vertical-align: middle;\n",
       "    }\n",
       "\n",
       "    .dataframe tbody tr th {\n",
       "        vertical-align: top;\n",
       "    }\n",
       "\n",
       "    .dataframe thead th {\n",
       "        text-align: right;\n",
       "    }\n",
       "</style>\n",
       "<table border=\"1\" class=\"dataframe\">\n",
       "  <thead>\n",
       "    <tr style=\"text-align: right;\">\n",
       "      <th></th>\n",
       "      <th>of</th>\n",
       "      <th>key</th>\n",
       "      <th>job</th>\n",
       "      <th>science.</th>\n",
       "      <th>Data</th>\n",
       "      <th>Machine</th>\n",
       "      <th>learning</th>\n",
       "      <th>for</th>\n",
       "      <th>the</th>\n",
       "      <th>century.</th>\n",
       "      <th>data</th>\n",
       "      <th>21st</th>\n",
       "      <th>sexiest</th>\n",
       "      <th>is</th>\n",
       "      <th>Science</th>\n",
       "    </tr>\n",
       "  </thead>\n",
       "  <tbody>\n",
       "    <tr>\n",
       "      <th>0</th>\n",
       "      <td>1</td>\n",
       "      <td>0</td>\n",
       "      <td>1</td>\n",
       "      <td>0</td>\n",
       "      <td>1</td>\n",
       "      <td>0</td>\n",
       "      <td>0</td>\n",
       "      <td>0</td>\n",
       "      <td>2</td>\n",
       "      <td>1</td>\n",
       "      <td>0</td>\n",
       "      <td>1</td>\n",
       "      <td>1</td>\n",
       "      <td>1</td>\n",
       "      <td>1</td>\n",
       "    </tr>\n",
       "    <tr>\n",
       "      <th>1</th>\n",
       "      <td>0</td>\n",
       "      <td>1</td>\n",
       "      <td>0</td>\n",
       "      <td>1</td>\n",
       "      <td>0</td>\n",
       "      <td>1</td>\n",
       "      <td>1</td>\n",
       "      <td>1</td>\n",
       "      <td>1</td>\n",
       "      <td>0</td>\n",
       "      <td>1</td>\n",
       "      <td>0</td>\n",
       "      <td>0</td>\n",
       "      <td>1</td>\n",
       "      <td>0</td>\n",
       "    </tr>\n",
       "  </tbody>\n",
       "</table>\n",
       "</div>"
      ],
      "text/plain": [
       "   of  key  job  science.  Data  Machine  learning  for  the  century.  data  \\\n",
       "0   1    0    1         0     1        0         0    0    2         1     0   \n",
       "1   0    1    0         1     0        1         1    1    1         0     1   \n",
       "\n",
       "   21st  sexiest  is  Science  \n",
       "0     1        1   1        1  \n",
       "1     0        0   1        0  "
      ]
     },
     "execution_count": 16,
     "metadata": {},
     "output_type": "execute_result"
    }
   ],
   "source": [
    "# collect the dictionaires in a data frame\n",
    "dfc = pd.DataFrame([dict1, dict2])\n",
    "dfc"
   ]
  },
  {
   "cell_type": "markdown",
   "metadata": {},
   "source": [
    "Re-calculate the similarity"
   ]
  },
  {
   "cell_type": "code",
   "execution_count": 17,
   "metadata": {},
   "outputs": [
    {
     "name": "stdout",
     "output_type": "stream",
     "text": [
      "Similarity:  0.30618621784789724\n"
     ]
    }
   ],
   "source": [
    "# calculate the correlation\n",
    "corr = cosine(dfc.iloc[0], dfc.iloc[1])\n",
    "print(\"Similarity: \", corr)"
   ]
  },
  {
   "cell_type": "markdown",
   "metadata": {},
   "source": [
    "BOW has many negatives - counts equaly \"John is older than Mary\" and \"Mary is older than John\"."
   ]
  },
  {
   "cell_type": "markdown",
   "metadata": {},
   "source": [
    "## 3. Importance of Each Word"
   ]
  },
  {
   "cell_type": "markdown",
   "metadata": {},
   "source": [
    "- __TF__ - term frequency -  determined by counting the number of occurrences of a term in a document.\n",
    "- __DF__ - document frequency - number of documents containing the term\n",
    "- __IDF__ - inverse term frequency - how big part of all docuents contain the term - calculated by dividing the total number of documents by the number of documents in the collection containing the term.\n",
    "- __TF-IDF__ - an integrated measure for the iportance of a term - multiply TF x IDF to find it."
   ]
  },
  {
   "cell_type": "markdown",
   "metadata": {},
   "source": [
    "### TF"
   ]
  },
  {
   "cell_type": "code",
   "execution_count": 18,
   "metadata": {},
   "outputs": [],
   "source": [
    "# a function to compute the TF frequency of appearance of a word in documents\n",
    "def computeTF(dict0, doc):\n",
    "    tfDict = {}\n",
    "    corpus = len(doc) # number of all words\n",
    "    for word, wcount in dict0.items():\n",
    "        tfDict[word] = wcount/float(corpus) # calculate the proportion\n",
    "    return(tfDict)"
   ]
  },
  {
   "cell_type": "code",
   "execution_count": 19,
   "metadata": {},
   "outputs": [],
   "source": [
    "# call the function for both sets\n",
    "tf1 = computeTF(dict1, sent1)\n",
    "tf2 = computeTF(dict2, sent2)"
   ]
  },
  {
   "cell_type": "code",
   "execution_count": 20,
   "metadata": {},
   "outputs": [
    {
     "name": "stdout",
     "output_type": "stream",
     "text": [
      "{'21st': 0.1,\n",
      " 'Data': 0.1,\n",
      " 'Machine': 0.0,\n",
      " 'Science': 0.1,\n",
      " 'century.': 0.1,\n",
      " 'data': 0.0,\n",
      " 'for': 0.0,\n",
      " 'is': 0.1,\n",
      " 'job': 0.1,\n",
      " 'key': 0.0,\n",
      " 'learning': 0.0,\n",
      " 'of': 0.1,\n",
      " 'science.': 0.0,\n",
      " 'sexiest': 0.1,\n",
      " 'the': 0.2}\n"
     ]
    }
   ],
   "source": [
    "pprint.pprint(tf1)"
   ]
  },
  {
   "cell_type": "code",
   "execution_count": 21,
   "metadata": {},
   "outputs": [
    {
     "name": "stdout",
     "output_type": "stream",
     "text": [
      "{'of': 0.1, 'key': 0.0, 'job': 0.1, 'science.': 0.0, 'Data': 0.1, 'Machine': 0.0, 'learning': 0.0, 'for': 0.0, 'the': 0.2, 'century.': 0.1, 'data': 0.0, '21st': 0.1, 'sexiest': 0.1, 'is': 0.1, 'Science': 0.1}\n"
     ]
    }
   ],
   "source": [
    "print(tf1)"
   ]
  },
  {
   "cell_type": "code",
   "execution_count": 22,
   "metadata": {},
   "outputs": [
    {
     "data": {
      "text/html": [
       "<div>\n",
       "<style scoped>\n",
       "    .dataframe tbody tr th:only-of-type {\n",
       "        vertical-align: middle;\n",
       "    }\n",
       "\n",
       "    .dataframe tbody tr th {\n",
       "        vertical-align: top;\n",
       "    }\n",
       "\n",
       "    .dataframe thead th {\n",
       "        text-align: right;\n",
       "    }\n",
       "</style>\n",
       "<table border=\"1\" class=\"dataframe\">\n",
       "  <thead>\n",
       "    <tr style=\"text-align: right;\">\n",
       "      <th></th>\n",
       "      <th>of</th>\n",
       "      <th>key</th>\n",
       "      <th>job</th>\n",
       "      <th>science.</th>\n",
       "      <th>Data</th>\n",
       "      <th>Machine</th>\n",
       "      <th>learning</th>\n",
       "      <th>for</th>\n",
       "      <th>the</th>\n",
       "      <th>century.</th>\n",
       "      <th>data</th>\n",
       "      <th>21st</th>\n",
       "      <th>sexiest</th>\n",
       "      <th>is</th>\n",
       "      <th>Science</th>\n",
       "    </tr>\n",
       "  </thead>\n",
       "  <tbody>\n",
       "    <tr>\n",
       "      <th>0</th>\n",
       "      <td>0.1</td>\n",
       "      <td>0.000</td>\n",
       "      <td>0.1</td>\n",
       "      <td>0.000</td>\n",
       "      <td>0.1</td>\n",
       "      <td>0.000</td>\n",
       "      <td>0.000</td>\n",
       "      <td>0.000</td>\n",
       "      <td>0.200</td>\n",
       "      <td>0.1</td>\n",
       "      <td>0.000</td>\n",
       "      <td>0.1</td>\n",
       "      <td>0.1</td>\n",
       "      <td>0.100</td>\n",
       "      <td>0.1</td>\n",
       "    </tr>\n",
       "    <tr>\n",
       "      <th>1</th>\n",
       "      <td>0.0</td>\n",
       "      <td>0.125</td>\n",
       "      <td>0.0</td>\n",
       "      <td>0.125</td>\n",
       "      <td>0.0</td>\n",
       "      <td>0.125</td>\n",
       "      <td>0.125</td>\n",
       "      <td>0.125</td>\n",
       "      <td>0.125</td>\n",
       "      <td>0.0</td>\n",
       "      <td>0.125</td>\n",
       "      <td>0.0</td>\n",
       "      <td>0.0</td>\n",
       "      <td>0.125</td>\n",
       "      <td>0.0</td>\n",
       "    </tr>\n",
       "  </tbody>\n",
       "</table>\n",
       "</div>"
      ],
      "text/plain": [
       "    of    key  job  science.  Data  Machine  learning    for    the  century.  \\\n",
       "0  0.1  0.000  0.1     0.000   0.1    0.000     0.000  0.000  0.200       0.1   \n",
       "1  0.0  0.125  0.0     0.125   0.0    0.125     0.125  0.125  0.125       0.0   \n",
       "\n",
       "    data  21st  sexiest     is  Science  \n",
       "0  0.000   0.1      0.1  0.100      0.1  \n",
       "1  0.125   0.0      0.0  0.125      0.0  "
      ]
     },
     "execution_count": 22,
     "metadata": {},
     "output_type": "execute_result"
    }
   ],
   "source": [
    "# store into dataframe\n",
    "tff = pd.DataFrame([tf1, tf2])\n",
    "tff"
   ]
  },
  {
   "cell_type": "markdown",
   "metadata": {},
   "source": [
    "TF doen't mean much. 10 times higher frequency doesn't mean 10 times more important term."
   ]
  },
  {
   "cell_type": "markdown",
   "metadata": {},
   "source": [
    "### DF and IDF"
   ]
  },
  {
   "cell_type": "code",
   "execution_count": 23,
   "metadata": {},
   "outputs": [],
   "source": [
    "# IDF -  inverse of the document frequency which measures the informativeness of term t\n",
    "# lower occurance - higher importance of the word\n",
    "# idf(t) = N/df\n",
    "# to noralise and avoid div by zero: idf(t) = log10(N/(df + 1))\n",
    "\n",
    "def computeIDF(docList):\n",
    "    idf = {}\n",
    "    N = len(docList)\n",
    "    idf = dict.fromkeys(docList[0].keys(), 0)\n",
    "    # print(idf)\n",
    "    for doc in docList:\n",
    "        for word, wcount in doc.items():\n",
    "            # print(wcount)\n",
    "            if wcount>0:\n",
    "                idf[word] += 1\n",
    "    for word, wcount in idf.items():\n",
    "        idf[word] = math.log10(N/(float(wcount)))\n",
    "    return(idf)"
   ]
  },
  {
   "cell_type": "code",
   "execution_count": 24,
   "metadata": {},
   "outputs": [],
   "source": [
    "# test\n",
    "idfs = computeIDF([dict1, dict2])"
   ]
  },
  {
   "cell_type": "code",
   "execution_count": 25,
   "metadata": {},
   "outputs": [
    {
     "name": "stdout",
     "output_type": "stream",
     "text": [
      "{'21st': 0.3010299956639812,\n",
      " 'Data': 0.3010299956639812,\n",
      " 'Machine': 0.3010299956639812,\n",
      " 'Science': 0.3010299956639812,\n",
      " 'century.': 0.3010299956639812,\n",
      " 'data': 0.3010299956639812,\n",
      " 'for': 0.3010299956639812,\n",
      " 'is': 0.0,\n",
      " 'job': 0.3010299956639812,\n",
      " 'key': 0.3010299956639812,\n",
      " 'learning': 0.3010299956639812,\n",
      " 'of': 0.3010299956639812,\n",
      " 'science.': 0.3010299956639812,\n",
      " 'sexiest': 0.3010299956639812,\n",
      " 'the': 0.0}\n"
     ]
    }
   ],
   "source": [
    "pprint.pprint(idfs)"
   ]
  },
  {
   "cell_type": "markdown",
   "metadata": {},
   "source": [
    "### TF-IDF"
   ]
  },
  {
   "cell_type": "code",
   "execution_count": 26,
   "metadata": {},
   "outputs": [],
   "source": [
    "# calculate tf-idf as a measure for the importance of a word\n",
    "# tf-idf(t, d) = tf(t, d) * log(N/(df + 1))\n",
    "def computeTFIDF(tf, idfs):\n",
    "    tfidf = {}\n",
    "    for word, wcount in tf.items():\n",
    "        tfidf[word] = wcount*idfs[word]\n",
    "    return(tfidf)\n"
   ]
  },
  {
   "cell_type": "code",
   "execution_count": 27,
   "metadata": {},
   "outputs": [],
   "source": [
    "#running our two sentences through the IDF:\n",
    "idf1 = computeTFIDF(tf1, idfs)\n",
    "idf2 = computeTFIDF(tf2, idfs)\n"
   ]
  },
  {
   "cell_type": "code",
   "execution_count": 28,
   "metadata": {
    "scrolled": true
   },
   "outputs": [
    {
     "data": {
      "text/html": [
       "<div>\n",
       "<style scoped>\n",
       "    .dataframe tbody tr th:only-of-type {\n",
       "        vertical-align: middle;\n",
       "    }\n",
       "\n",
       "    .dataframe tbody tr th {\n",
       "        vertical-align: top;\n",
       "    }\n",
       "\n",
       "    .dataframe thead th {\n",
       "        text-align: right;\n",
       "    }\n",
       "</style>\n",
       "<table border=\"1\" class=\"dataframe\">\n",
       "  <thead>\n",
       "    <tr style=\"text-align: right;\">\n",
       "      <th></th>\n",
       "      <th>of</th>\n",
       "      <th>key</th>\n",
       "      <th>job</th>\n",
       "      <th>science.</th>\n",
       "      <th>Data</th>\n",
       "      <th>Machine</th>\n",
       "      <th>learning</th>\n",
       "      <th>for</th>\n",
       "      <th>the</th>\n",
       "      <th>century.</th>\n",
       "      <th>data</th>\n",
       "      <th>21st</th>\n",
       "      <th>sexiest</th>\n",
       "      <th>is</th>\n",
       "      <th>Science</th>\n",
       "    </tr>\n",
       "  </thead>\n",
       "  <tbody>\n",
       "    <tr>\n",
       "      <th>0</th>\n",
       "      <td>0.030103</td>\n",
       "      <td>0.000000</td>\n",
       "      <td>0.030103</td>\n",
       "      <td>0.000000</td>\n",
       "      <td>0.030103</td>\n",
       "      <td>0.000000</td>\n",
       "      <td>0.000000</td>\n",
       "      <td>0.000000</td>\n",
       "      <td>0.0</td>\n",
       "      <td>0.030103</td>\n",
       "      <td>0.000000</td>\n",
       "      <td>0.030103</td>\n",
       "      <td>0.030103</td>\n",
       "      <td>0.0</td>\n",
       "      <td>0.030103</td>\n",
       "    </tr>\n",
       "    <tr>\n",
       "      <th>1</th>\n",
       "      <td>0.000000</td>\n",
       "      <td>0.037629</td>\n",
       "      <td>0.000000</td>\n",
       "      <td>0.037629</td>\n",
       "      <td>0.000000</td>\n",
       "      <td>0.037629</td>\n",
       "      <td>0.037629</td>\n",
       "      <td>0.037629</td>\n",
       "      <td>0.0</td>\n",
       "      <td>0.000000</td>\n",
       "      <td>0.037629</td>\n",
       "      <td>0.000000</td>\n",
       "      <td>0.000000</td>\n",
       "      <td>0.0</td>\n",
       "      <td>0.000000</td>\n",
       "    </tr>\n",
       "  </tbody>\n",
       "</table>\n",
       "</div>"
      ],
      "text/plain": [
       "         of       key       job  science.      Data   Machine  learning  \\\n",
       "0  0.030103  0.000000  0.030103  0.000000  0.030103  0.000000  0.000000   \n",
       "1  0.000000  0.037629  0.000000  0.037629  0.000000  0.037629  0.037629   \n",
       "\n",
       "        for  the  century.      data      21st   sexiest   is   Science  \n",
       "0  0.000000  0.0  0.030103  0.000000  0.030103  0.030103  0.0  0.030103  \n",
       "1  0.037629  0.0  0.000000  0.037629  0.000000  0.000000  0.0  0.000000  "
      ]
     },
     "execution_count": 28,
     "metadata": {},
     "output_type": "execute_result"
    }
   ],
   "source": [
    "# store in a dataframe\n",
    "idf= pd.DataFrame([idf1, idf2])\n",
    "idf"
   ]
  },
  {
   "cell_type": "markdown",
   "metadata": {},
   "source": [
    "## Using Libraries"
   ]
  },
  {
   "cell_type": "markdown",
   "metadata": {},
   "source": [
    "### sklearn"
   ]
  },
  {
   "cell_type": "markdown",
   "metadata": {},
   "source": [
    "_sklearn.feature_extraction.text.TfidfVectorizer(input)_\n",
    "\n",
    "Parameters:\n",
    "\n",
    "- input: It refers to parameter document passed, it can be a filename, file or content itself.\n",
    "\n",
    "Attributes:\n",
    "- vocabulary_: It returns a dictionary of terms as keys and values as feature indices.\n",
    "- idf_: It returns the inverse document frequency vector of the document passed as a parameter.\n",
    "\n",
    "Returns:\n",
    "- fit_transform(): It returns an array of terms along with tf-idf values.\n",
    "- get_feature_names(): It returns a list of feature names."
   ]
  },
  {
   "cell_type": "code",
   "execution_count": null,
   "metadata": {},
   "outputs": [],
   "source": [
    "from sklearn.feature_extraction.text import TfidfVectorizer "
   ]
  },
  {
   "cell_type": "code",
   "execution_count": null,
   "metadata": {},
   "outputs": [],
   "source": [
    "tfidf = TfidfVectorizer()"
   ]
  },
  {
   "cell_type": "code",
   "execution_count": null,
   "metadata": {},
   "outputs": [],
   "source": [
    "sent1 = \"Data Science is the sexiest job of the 21st century.\"\n",
    "sent2 = \"Machine learning is the key for data science.\""
   ]
  },
  {
   "cell_type": "code",
   "execution_count": null,
   "metadata": {},
   "outputs": [],
   "source": [
    "result = tfidf.fit_transform([sent1, sent2])"
   ]
  },
  {
   "cell_type": "code",
   "execution_count": null,
   "metadata": {},
   "outputs": [],
   "source": [
    "print(tfidf.vocabulary_)"
   ]
  },
  {
   "cell_type": "code",
   "execution_count": null,
   "metadata": {},
   "outputs": [],
   "source": [
    "# get idf values\n",
    "for e1, e2 in zip(tfidf.get_feature_names_out(), tfidf.idf_):\n",
    "    print(e1, '\\t:', e2)"
   ]
  },
  {
   "cell_type": "code",
   "execution_count": null,
   "metadata": {},
   "outputs": [],
   "source": [
    "# tf-idf values (doc, word)\n",
    "print(result)"
   ]
  },
  {
   "cell_type": "markdown",
   "metadata": {},
   "source": [
    "## Sentence Transformers and Utilities"
   ]
  },
  {
   "cell_type": "markdown",
   "metadata": {},
   "source": [
    "#### Cosine Similarity\n",
    "_util.cos_sim_"
   ]
  },
  {
   "cell_type": "code",
   "execution_count": 8,
   "metadata": {
    "scrolled": true
   },
   "outputs": [
    {
     "name": "stdout",
     "output_type": "stream",
     "text": [
      "Found existing installation: tensorflow 2.11.0\n",
      "Uninstalling tensorflow-2.11.0:\n",
      "  Successfully uninstalled tensorflow-2.11.0\n"
     ]
    }
   ],
   "source": [
    "#!pip install sentence-transformers\n",
    "#!pip install -U sentence-transformers\n",
    "#!pip install tensorflow\n",
    "#!pip uninstall tensorflow --y"
   ]
  },
  {
   "cell_type": "code",
   "execution_count": 11,
   "id": "c2623939",
   "metadata": {},
   "outputs": [],
   "source": [
    "import requests\n",
    "from bs4 import BeautifulSoup\n",
    "import pandas as pd\n",
    "import scipy.spatial\n"
   ]
  },
  {
   "cell_type": "code",
   "execution_count": 12,
   "id": "951638ad",
   "metadata": {},
   "outputs": [],
   "source": [
    "url = \"https://cphbusiness.dk\"\n",
    "# url = \"https://en.wikipedia.org/wiki/Mette_Frederiksen\""
   ]
  },
  {
   "cell_type": "code",
   "execution_count": 13,
   "metadata": {},
   "outputs": [],
   "source": [
    "response = requests.get(url)"
   ]
  },
  {
   "cell_type": "code",
   "execution_count": 14,
   "id": "2384fbff",
   "metadata": {},
   "outputs": [],
   "source": [
    "web = response.text\n",
    "# web"
   ]
  },
  {
   "cell_type": "code",
   "execution_count": 15,
   "metadata": {},
   "outputs": [],
   "source": [
    "soup = BeautifulSoup(web,'html.parser')"
   ]
  },
  {
   "cell_type": "code",
   "execution_count": 21,
   "metadata": {},
   "outputs": [
    {
     "name": "stdout",
     "output_type": "stream",
     "text": [
      "['Din karriere i erhvervslivet starter her.', 'Styrk dine kompetencer sideløbende med jobbet.', 'Skal du studere på fuldtid eller deltid?Erhvervsakademi- eller diplomuddannelse?', 'Prøv uddannelsestesten, og find den uddannelse, der passer til dig og dine drømme.', 'Cphbusiness udbyder uddannelser inden for flere forskellige områder.Klik ind under dit interesseområde og se en oversigt over uddannelserne.', 'Cphbusiness har afdelinger i København, Nordsjælland og på Bornholm tæt på offentlig transport og med gode tilkørselsmuligheder:']\n"
     ]
    },
    {
     "data": {
      "text/plain": [
       "list"
      ]
     },
     "execution_count": 21,
     "metadata": {},
     "output_type": "execute_result"
    }
   ],
   "source": [
    "corpus = soup.find_all('p')\n",
    "texts = [p.text for p in corpus]\n",
    "print(texts)"
   ]
  },
  {
   "cell_type": "code",
   "execution_count": 17,
   "id": "021b200c",
   "metadata": {},
   "outputs": [],
   "source": [
    "from sentence_transformers import SentenceTransformer, util"
   ]
  },
  {
   "cell_type": "code",
   "execution_count": 18,
   "id": "cd78fe35",
   "metadata": {},
   "outputs": [],
   "source": [
    "embedder = SentenceTransformer('all-MiniLM-L6-v2')\n",
    "#model = SentenceTransformer('paraphrase-multilingual-mpnet-base-v2')"
   ]
  },
  {
   "cell_type": "code",
   "execution_count": 19,
   "id": "99770c3e",
   "metadata": {},
   "outputs": [
    {
     "data": {
      "text/plain": [
       "array([[-0.07378687, -0.0401675 , -0.0001268 , ...,  0.02722645,\n",
       "         0.05788628, -0.01446014],\n",
       "       [-0.06307311,  0.12562357, -0.05322588, ...,  0.00143427,\n",
       "        -0.02813822,  0.01223449],\n",
       "       [-0.02313923,  0.0528141 ,  0.00068523, ...,  0.05447569,\n",
       "         0.0136548 , -0.00677787],\n",
       "       [-0.11854056,  0.06098227,  0.01521505, ...,  0.09186395,\n",
       "         0.03096521,  0.01070757],\n",
       "       [-0.06925011,  0.05787694,  0.00696276, ...,  0.06448255,\n",
       "         0.06893095,  0.00205086],\n",
       "       [ 0.03424936,  0.06645389, -0.01658059, ..., -0.02082274,\n",
       "         0.07715243,  0.00605697]], dtype=float32)"
      ]
     },
     "execution_count": 19,
     "metadata": {},
     "output_type": "execute_result"
    }
   ],
   "source": [
    "# Create embeddings from texts\n",
    "corpus_embeddings = embedder.encode(texts)\n",
    "corpus_embeddings"
   ]
  },
  {
   "cell_type": "code",
   "execution_count": null,
   "metadata": {},
   "outputs": [],
   "source": [
    "query = [\"Cphbusiness afdelinger?\"]\n",
    "# query = [\"Hvem er Mette Frederiksen?\"]"
   ]
  },
  {
   "cell_type": "code",
   "execution_count": null,
   "metadata": {},
   "outputs": [],
   "source": [
    "query_embedding = embedder.encode(query)\n",
    "query_embedding"
   ]
  },
  {
   "cell_type": "code",
   "execution_count": null,
   "metadata": {},
   "outputs": [],
   "source": [
    "# Test\n",
    "# Compute similarities\n",
    "for embedding in corpus_embeddings:\n",
    "    sim = util.cos_sim(query_embedding, embedding)\n",
    "    print(\"{0:.4f}\".format(sim.tolist()[0][0]))"
   ]
  },
  {
   "cell_type": "markdown",
   "metadata": {},
   "source": [
    "#### Another Example\n",
    "_scipy.spatial.distance.cdist()_"
   ]
  },
  {
   "cell_type": "code",
   "execution_count": 23,
   "metadata": {},
   "outputs": [],
   "source": [
    "queries = [\"Cphbusiness er erhvervsakademi\", \"En mand spiser mad\", \"Cphbusiness afdelinger\",]"
   ]
  },
  {
   "cell_type": "code",
   "execution_count": 24,
   "metadata": {},
   "outputs": [
    {
     "data": {
      "text/plain": [
       "array([[ 0.01648569,  0.07701147, -0.01417316, ...,  0.03290087,\n",
       "         0.12781133, -0.06628116],\n",
       "       [-0.0666736 , -0.03595314, -0.02650487, ...,  0.02057187,\n",
       "        -0.08899548,  0.03224996],\n",
       "       [ 0.01269539, -0.02785775,  0.01451258, ..., -0.06075071,\n",
       "         0.1645968 , -0.02559079]], dtype=float32)"
      ]
     },
     "execution_count": 24,
     "metadata": {},
     "output_type": "execute_result"
    }
   ],
   "source": [
    "query_embedding = embedder.encode(queries)\n",
    "query_embedding"
   ]
  },
  {
   "cell_type": "code",
   "execution_count": 25,
   "metadata": {},
   "outputs": [
    {
     "name": "stdout",
     "output_type": "stream",
     "text": [
      "\n",
      "======================\n",
      "\n",
      "Query: Cphbusiness er erhvervsakademi\n",
      "\n",
      "Top 3 most similar sentences in corpus:\n",
      "\n",
      "Cphbusiness har afdelinger i København, Nordsjælland og på Bornholm tæt på offentlig transport og med gode tilkørselsmuligheder: (Score: 0.6651)\n",
      "Cphbusiness udbyder uddannelser inden for flere forskellige områder.Klik ind under dit interesseområde og se en oversigt over uddannelserne. (Score: 0.5558)\n",
      "Styrk dine kompetencer sideløbende med jobbet. (Score: 0.4533)\n",
      "\n",
      "======================\n",
      "\n",
      "Query: En mand spiser mad\n",
      "\n",
      "Top 3 most similar sentences in corpus:\n",
      "\n",
      "Din karriere i erhvervslivet starter her. (Score: 0.3460)\n",
      "Styrk dine kompetencer sideløbende med jobbet. (Score: 0.3236)\n",
      "Skal du studere på fuldtid eller deltid?Erhvervsakademi- eller diplomuddannelse? (Score: 0.2768)\n",
      "\n",
      "======================\n",
      "\n",
      "Query: Cphbusiness afdelinger\n",
      "\n",
      "Top 3 most similar sentences in corpus:\n",
      "\n",
      "Cphbusiness har afdelinger i København, Nordsjælland og på Bornholm tæt på offentlig transport og med gode tilkørselsmuligheder: (Score: 0.5107)\n",
      "Cphbusiness udbyder uddannelser inden for flere forskellige områder.Klik ind under dit interesseområde og se en oversigt over uddannelserne. (Score: 0.2909)\n",
      "Skal du studere på fuldtid eller deltid?Erhvervsakademi- eller diplomuddannelse? (Score: 0.1479)\n"
     ]
    }
   ],
   "source": [
    "# Find the closest 3 sentences of the corpus for each query sentence based on cosine similarity\n",
    "closest_n = 3\n",
    "for query, query_embedding in zip(queries, query_embedding):\n",
    "    distances = scipy.spatial.distance.cdist([query_embedding], corpus_embeddings, \"cosine\")[0]\n",
    "\n",
    "    results = zip(range(len(distances)), distances)\n",
    "    results = sorted(results, key=lambda x: x[1])\n",
    "\n",
    "    print(\"\\n======================\\n\")\n",
    "    print(\"Query:\", query)\n",
    "    print(\"\\nTop 3 most similar sentences in corpus:\\n\")\n",
    "\n",
    "    for idx, distance in results[0:closest_n]:\n",
    "        print(texts[idx].strip(), \"(Score: %.4f)\" % (1-distance))"
   ]
  },
  {
   "cell_type": "markdown",
   "metadata": {},
   "source": [
    "#### Another Method\n",
    "_util.dot_score()_"
   ]
  },
  {
   "cell_type": "code",
   "execution_count": null,
   "metadata": {},
   "outputs": [],
   "source": [
    "similarity = util.dot_score(query_embedding, corpus_embeddings)\n",
    "similarity"
   ]
  },
  {
   "cell_type": "code",
   "execution_count": null,
   "metadata": {},
   "outputs": [],
   "source": []
  }
 ],
 "metadata": {
  "kernelspec": {
   "display_name": "Python 3 (ipykernel)",
   "language": "python",
   "name": "python3"
  },
  "language_info": {
   "codemirror_mode": {
    "name": "ipython",
    "version": 3
   },
   "file_extension": ".py",
   "mimetype": "text/x-python",
   "name": "python",
   "nbconvert_exporter": "python",
   "pygments_lexer": "ipython3",
   "version": "3.9.13"
  }
 },
 "nbformat": 4,
 "nbformat_minor": 4
}
