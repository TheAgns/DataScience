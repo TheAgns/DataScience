{
 "cells": [
  {
   "cell_type": "markdown",
   "id": "56c01608",
   "metadata": {},
   "source": [
    "## ArXivNLP"
   ]
  },
  {
   "cell_type": "code",
   "execution_count": 1,
   "id": "a9909a34",
   "metadata": {},
   "outputs": [
    {
     "name": "stdout",
     "output_type": "stream",
     "text": [
      "Requirement already satisfied: arxiv in /Users/markusagnsgaard/opt/anaconda3/lib/python3.9/site-packages (1.4.3)\r\n",
      "Requirement already satisfied: feedparser in /Users/markusagnsgaard/opt/anaconda3/lib/python3.9/site-packages (from arxiv) (6.0.10)\r\n",
      "Requirement already satisfied: sgmllib3k in /Users/markusagnsgaard/opt/anaconda3/lib/python3.9/site-packages (from feedparser->arxiv) (1.0.0)\r\n"
     ]
    }
   ],
   "source": [
    "#!pip install arxiv"
   ]
  },
  {
   "cell_type": "code",
   "execution_count": 3,
   "id": "b93698df",
   "metadata": {},
   "outputs": [],
   "source": [
    "#!pip install neo4j"
   ]
  },
  {
   "cell_type": "code",
   "execution_count": null,
   "id": "5dba715b",
   "metadata": {},
   "outputs": [],
   "source": [
    "#!pip install feedparser"
   ]
  },
  {
   "cell_type": "code",
   "execution_count": null,
   "id": "4debb444",
   "metadata": {},
   "outputs": [],
   "source": [
    "# tqdm is for visualising the progress\n",
    "#!pip install tqdm"
   ]
  },
  {
   "cell_type": "code",
   "execution_count": 1,
   "id": "97bee371",
   "metadata": {},
   "outputs": [],
   "source": [
    "#import tqdm"
   ]
  },
  {
   "cell_type": "code",
   "execution_count": 27,
   "id": "88b71f81",
   "metadata": {},
   "outputs": [],
   "source": [
    "import arxiv"
   ]
  },
  {
   "cell_type": "code",
   "execution_count": 28,
   "id": "864a7d63",
   "metadata": {},
   "outputs": [],
   "source": [
    "import urllib"
   ]
  },
  {
   "cell_type": "code",
   "execution_count": 29,
   "id": "ad0afba6",
   "metadata": {},
   "outputs": [],
   "source": [
    "# Base api query url\n",
    "base_url = 'http://export.arxiv.org/api/query?'"
   ]
  },
  {
   "cell_type": "code",
   "execution_count": 30,
   "id": "56ac8191",
   "metadata": {},
   "outputs": [],
   "source": [
    "search = arxiv.Search(\n",
    "  # query = urllib.parse.quote(\"all:artificial intelligence\"),\n",
    "  query = urllib.parse.quote(\"Artificial Intelligence\"),\n",
    "  id_list = [],\n",
    "  max_results = 10,  \n",
    "  sort_by = arxiv.SortCriterion.SubmittedDate,\n",
    "  sort_order = arxiv.SortOrder.Descending\n",
    ")\n"
   ]
  },
  {
   "cell_type": "code",
   "execution_count": 31,
   "id": "d9f8c26a",
   "metadata": {},
   "outputs": [],
   "source": [
    "# read ArXiv\n",
    "articles = []\n",
    "author_list = []\n",
    "cat_list = []\n",
    "link_list = []\n",
    "article_to_author_list = []\n",
    "article_to_link_list = []\n",
    "article_to_cat_list = []\n",
    "aut_id = cat_id = lin_id = 0\n",
    "\n",
    "for result in search.results():\n",
    "    art_id = result.entry_id\n",
    "    articles.append(\n",
    "    {\n",
    "        \"artId\": art_id,\n",
    "        \"title\": result.title,\n",
    "        # \"published\": result.published,\n",
    "        \"summary\": result.summary,\n",
    "        \"prim_cat\": result.primary_category,\n",
    "        \"pdf\": result.pdf_url\n",
    "\n",
    "    })\n",
    "    \n",
    "    for a in range(len(result.authors)):\n",
    "        aut_name = str(result.authors[a])\n",
    "        author_list.append(\n",
    "        {\n",
    "            \"authorId\": aut_id, \n",
    "            \"authorName\": aut_name\n",
    "        })\n",
    "        \n",
    "        article_to_author_list.append(\n",
    "        {\n",
    "            \"articleId\": art_id, \n",
    "            \"authorName\": aut_name\n",
    "        })\n",
    "        aut_id = aut_id + 1\n",
    "        \n",
    "    for l in range(len(result.links)):\n",
    "        lin_name = str(result.links[l])\n",
    "        link_list.append(\n",
    "        {\n",
    "            \"linkId\": lin_id, \n",
    "            \"linkName\": lin_name\n",
    "        }) \n",
    "        \n",
    "        article_to_link_list.append(\n",
    "        {\n",
    "            \"articleId\": art_id, \n",
    "            \"linkName\": lin_name\n",
    "        })\n",
    "        lin_id = lin_id + 1\n",
    "        \n",
    "    for c in range(len(result.categories)):\n",
    "        cat_name = str(result.categories[c])\n",
    "        cat_list.append(\n",
    "        {\n",
    "            \"catId\": cat_id, \n",
    "            \"catName\":  cat_name\n",
    "        }) \n",
    "    \n",
    "        article_to_cat_list.append(\n",
    "        {\n",
    "            \"articleId\": art_id, \n",
    "            \"catName\": cat_name\n",
    "            \n",
    "        })\n",
    "        cat_id= cat_id + 1\n",
    "    \n"
   ]
  },
  {
   "cell_type": "code",
   "execution_count": 32,
   "id": "a347b20e",
   "metadata": {},
   "outputs": [
    {
     "data": {
      "text/plain": [
       "[{'articleId': 'http://arxiv.org/abs/2303.16203v1', 'catName': 'cs.LG'},\n",
       " {'articleId': 'http://arxiv.org/abs/2303.16203v1', 'catName': 'cs.AI'},\n",
       " {'articleId': 'http://arxiv.org/abs/2303.16203v1', 'catName': 'cs.CV'},\n",
       " {'articleId': 'http://arxiv.org/abs/2303.16203v1', 'catName': 'cs.NE'},\n",
       " {'articleId': 'http://arxiv.org/abs/2303.16203v1', 'catName': 'cs.RO'},\n",
       " {'articleId': 'http://arxiv.org/abs/2303.16201v1', 'catName': 'cs.CV'},\n",
       " {'articleId': 'http://arxiv.org/abs/2303.16201v1', 'catName': 'cs.AI'},\n",
       " {'articleId': 'http://arxiv.org/abs/2303.16201v1', 'catName': 'cs.LG'},\n",
       " {'articleId': 'http://arxiv.org/abs/2303.16199v1', 'catName': 'cs.CV'},\n",
       " {'articleId': 'http://arxiv.org/abs/2303.16199v1', 'catName': 'cs.AI'},\n",
       " {'articleId': 'http://arxiv.org/abs/2303.16199v1', 'catName': 'cs.CL'},\n",
       " {'articleId': 'http://arxiv.org/abs/2303.16199v1', 'catName': 'cs.LG'},\n",
       " {'articleId': 'http://arxiv.org/abs/2303.16199v1', 'catName': 'cs.MM'},\n",
       " {'articleId': 'http://arxiv.org/abs/2303.16200v1', 'catName': 'cs.CY'},\n",
       " {'articleId': 'http://arxiv.org/abs/2303.16200v1', 'catName': 'cs.AI'},\n",
       " {'articleId': 'http://arxiv.org/abs/2303.16200v1', 'catName': 'cs.LG'},\n",
       " {'articleId': 'http://arxiv.org/abs/2303.16200v1', 'catName': 'cs.NE'},\n",
       " {'articleId': 'http://arxiv.org/abs/2303.16195v1', 'catName': 'cs.NE'},\n",
       " {'articleId': 'http://arxiv.org/abs/2303.16189v1', 'catName': 'cs.LG'},\n",
       " {'articleId': 'http://arxiv.org/abs/2303.16189v1', 'catName': 'cs.AI'},\n",
       " {'articleId': 'http://arxiv.org/abs/2303.16189v1', 'catName': 'cs.CV'},\n",
       " {'articleId': 'http://arxiv.org/abs/2303.16189v1', 'catName': 'cs.RO'},\n",
       " {'articleId': 'http://arxiv.org/abs/2303.16186v1', 'catName': 'cs.CV'},\n",
       " {'articleId': 'http://arxiv.org/abs/2303.16186v1', 'catName': 'cs.AI'},\n",
       " {'articleId': 'http://arxiv.org/abs/2303.16175v1', 'catName': 'cs.SE'},\n",
       " {'articleId': 'http://arxiv.org/abs/2303.16175v1', 'catName': 'cs.HC'},\n",
       " {'articleId': 'http://arxiv.org/abs/2303.16166v1', 'catName': 'cs.CL'},\n",
       " {'articleId': 'http://arxiv.org/abs/2303.16166v1', 'catName': 'cs.AI'},\n",
       " {'articleId': 'http://arxiv.org/abs/2303.16133v1', 'catName': 'cs.CV'},\n",
       " {'articleId': 'http://arxiv.org/abs/2303.16133v1', 'catName': 'cs.AI'},\n",
       " {'articleId': 'http://arxiv.org/abs/2303.16133v1', 'catName': 'cs.CL'},\n",
       " {'articleId': 'http://arxiv.org/abs/2303.16133v1', 'catName': 'cs.LG'}]"
      ]
     },
     "execution_count": 32,
     "metadata": {},
     "output_type": "execute_result"
    }
   ],
   "source": [
    "article_to_cat_list\n"
   ]
  },
  {
   "cell_type": "code",
   "execution_count": 33,
   "id": "ddb065c8",
   "metadata": {},
   "outputs": [
    {
     "data": {
      "text/html": [
       "<div>\n",
       "<style scoped>\n",
       "    .dataframe tbody tr th:only-of-type {\n",
       "        vertical-align: middle;\n",
       "    }\n",
       "\n",
       "    .dataframe tbody tr th {\n",
       "        vertical-align: top;\n",
       "    }\n",
       "\n",
       "    .dataframe thead th {\n",
       "        text-align: right;\n",
       "    }\n",
       "</style>\n",
       "<table border=\"1\" class=\"dataframe\">\n",
       "  <thead>\n",
       "    <tr style=\"text-align: right;\">\n",
       "      <th></th>\n",
       "      <th>artId</th>\n",
       "      <th>title</th>\n",
       "      <th>summary</th>\n",
       "      <th>prim_cat</th>\n",
       "      <th>pdf</th>\n",
       "    </tr>\n",
       "  </thead>\n",
       "  <tbody>\n",
       "    <tr>\n",
       "      <th>0</th>\n",
       "      <td>http://arxiv.org/abs/2303.16203v1</td>\n",
       "      <td>Your Diffusion Model is Secretly a Zero-Shot C...</td>\n",
       "      <td>The recent wave of large-scale text-to-image d...</td>\n",
       "      <td>cs.LG</td>\n",
       "      <td>http://arxiv.org/pdf/2303.16203v1</td>\n",
       "    </tr>\n",
       "    <tr>\n",
       "      <th>1</th>\n",
       "      <td>http://arxiv.org/abs/2303.16201v1</td>\n",
       "      <td>ASIC: Aligning Sparse in-the-wild Image Collec...</td>\n",
       "      <td>We present a method for joint alignment of spa...</td>\n",
       "      <td>cs.CV</td>\n",
       "      <td>http://arxiv.org/pdf/2303.16201v1</td>\n",
       "    </tr>\n",
       "    <tr>\n",
       "      <th>2</th>\n",
       "      <td>http://arxiv.org/abs/2303.16199v1</td>\n",
       "      <td>LLaMA-Adapter: Efficient Fine-tuning of Langua...</td>\n",
       "      <td>We present LLaMA-Adapter, a lightweight adapti...</td>\n",
       "      <td>cs.CV</td>\n",
       "      <td>http://arxiv.org/pdf/2303.16199v1</td>\n",
       "    </tr>\n",
       "  </tbody>\n",
       "</table>\n",
       "</div>"
      ],
      "text/plain": [
       "                               artId  \\\n",
       "0  http://arxiv.org/abs/2303.16203v1   \n",
       "1  http://arxiv.org/abs/2303.16201v1   \n",
       "2  http://arxiv.org/abs/2303.16199v1   \n",
       "\n",
       "                                               title  \\\n",
       "0  Your Diffusion Model is Secretly a Zero-Shot C...   \n",
       "1  ASIC: Aligning Sparse in-the-wild Image Collec...   \n",
       "2  LLaMA-Adapter: Efficient Fine-tuning of Langua...   \n",
       "\n",
       "                                             summary prim_cat  \\\n",
       "0  The recent wave of large-scale text-to-image d...    cs.LG   \n",
       "1  We present a method for joint alignment of spa...    cs.CV   \n",
       "2  We present LLaMA-Adapter, a lightweight adapti...    cs.CV   \n",
       "\n",
       "                                 pdf  \n",
       "0  http://arxiv.org/pdf/2303.16203v1  \n",
       "1  http://arxiv.org/pdf/2303.16201v1  \n",
       "2  http://arxiv.org/pdf/2303.16199v1  "
      ]
     },
     "execution_count": 33,
     "metadata": {},
     "output_type": "execute_result"
    }
   ],
   "source": [
    "import pandas as pd\n",
    "\n",
    "dfa = pd.DataFrame(articles)\n",
    "# dfa.columns = ['id','title', 'auths','published', 'summary', 'prim cat', 'cats', 'lins', 'pdf_url']\n",
    "dfa.columns = ['artId','title', 'summary', 'prim_cat', 'pdf']\n",
    "\n",
    "\n",
    "dfa.head(3)"
   ]
  },
  {
   "cell_type": "code",
   "execution_count": 34,
   "id": "e7d2b204",
   "metadata": {},
   "outputs": [
    {
     "data": {
      "text/plain": [
       "10"
      ]
     },
     "execution_count": 34,
     "metadata": {},
     "output_type": "execute_result"
    }
   ],
   "source": [
    "len(dfa)"
   ]
  },
  {
   "cell_type": "markdown",
   "id": "c6ee7c16",
   "metadata": {},
   "source": [
    "## Data Clean"
   ]
  },
  {
   "cell_type": "code",
   "execution_count": 35,
   "id": "82455310",
   "metadata": {},
   "outputs": [
    {
     "data": {
      "text/html": [
       "<div>\n",
       "<style scoped>\n",
       "    .dataframe tbody tr th:only-of-type {\n",
       "        vertical-align: middle;\n",
       "    }\n",
       "\n",
       "    .dataframe tbody tr th {\n",
       "        vertical-align: top;\n",
       "    }\n",
       "\n",
       "    .dataframe thead th {\n",
       "        text-align: right;\n",
       "    }\n",
       "</style>\n",
       "<table border=\"1\" class=\"dataframe\">\n",
       "  <thead>\n",
       "    <tr style=\"text-align: right;\">\n",
       "      <th></th>\n",
       "      <th>catId</th>\n",
       "      <th>category</th>\n",
       "    </tr>\n",
       "  </thead>\n",
       "  <tbody>\n",
       "    <tr>\n",
       "      <th>0</th>\n",
       "      <td>0</td>\n",
       "      <td>cs.LG</td>\n",
       "    </tr>\n",
       "    <tr>\n",
       "      <th>1</th>\n",
       "      <td>1</td>\n",
       "      <td>cs.AI</td>\n",
       "    </tr>\n",
       "    <tr>\n",
       "      <th>2</th>\n",
       "      <td>2</td>\n",
       "      <td>cs.CV</td>\n",
       "    </tr>\n",
       "    <tr>\n",
       "      <th>3</th>\n",
       "      <td>3</td>\n",
       "      <td>cs.NE</td>\n",
       "    </tr>\n",
       "    <tr>\n",
       "      <th>4</th>\n",
       "      <td>4</td>\n",
       "      <td>cs.RO</td>\n",
       "    </tr>\n",
       "    <tr>\n",
       "      <th>10</th>\n",
       "      <td>10</td>\n",
       "      <td>cs.CL</td>\n",
       "    </tr>\n",
       "    <tr>\n",
       "      <th>12</th>\n",
       "      <td>12</td>\n",
       "      <td>cs.MM</td>\n",
       "    </tr>\n",
       "    <tr>\n",
       "      <th>13</th>\n",
       "      <td>13</td>\n",
       "      <td>cs.CY</td>\n",
       "    </tr>\n",
       "    <tr>\n",
       "      <th>24</th>\n",
       "      <td>24</td>\n",
       "      <td>cs.SE</td>\n",
       "    </tr>\n",
       "    <tr>\n",
       "      <th>25</th>\n",
       "      <td>25</td>\n",
       "      <td>cs.HC</td>\n",
       "    </tr>\n",
       "  </tbody>\n",
       "</table>\n",
       "</div>"
      ],
      "text/plain": [
       "    catId category\n",
       "0       0    cs.LG\n",
       "1       1    cs.AI\n",
       "2       2    cs.CV\n",
       "3       3    cs.NE\n",
       "4       4    cs.RO\n",
       "10     10    cs.CL\n",
       "12     12    cs.MM\n",
       "13     13    cs.CY\n",
       "24     24    cs.SE\n",
       "25     25    cs.HC"
      ]
     },
     "execution_count": 35,
     "metadata": {},
     "output_type": "execute_result"
    }
   ],
   "source": [
    "categories = pd.DataFrame(cat_list)\n",
    "categories.rename(columns={'catName':'category'}, inplace=True)\n",
    "categories = categories.drop_duplicates(subset=['category'])\n",
    "categories"
   ]
  },
  {
   "cell_type": "code",
   "execution_count": 36,
   "id": "6fbe684b",
   "metadata": {},
   "outputs": [],
   "source": [
    "# Parse links\n",
    "links = pd.DataFrame(link_list)\n",
    "links.rename(columns={'linkName':'link'}, inplace=True)\n",
    "links = links.drop_duplicates(subset=['link'])\n"
   ]
  },
  {
   "cell_type": "code",
   "execution_count": 37,
   "id": "dd146673",
   "metadata": {},
   "outputs": [],
   "source": [
    "authors = pd.DataFrame(author_list)\n",
    "authors.rename(columns={'authorName':'author'}, inplace=True)\n",
    "authors = authors.drop_duplicates(subset=['author'])"
   ]
  },
  {
   "cell_type": "code",
   "execution_count": 38,
   "id": "a9a9398a",
   "metadata": {},
   "outputs": [
    {
     "data": {
      "text/plain": [
       "47"
      ]
     },
     "execution_count": 38,
     "metadata": {},
     "output_type": "execute_result"
    }
   ],
   "source": [
    "len(authors)"
   ]
  },
  {
   "cell_type": "markdown",
   "id": "c6d67163",
   "metadata": {},
   "source": [
    "## Connect to Neo4j"
   ]
  },
  {
   "cell_type": "code",
   "execution_count": 39,
   "id": "fadb74ad",
   "metadata": {},
   "outputs": [],
   "source": [
    "from neo4j import GraphDatabase"
   ]
  },
  {
   "cell_type": "code",
   "execution_count": 40,
   "id": "723aa312",
   "metadata": {},
   "outputs": [],
   "source": [
    "import time"
   ]
  },
  {
   "cell_type": "markdown",
   "id": "3b4eca67",
   "metadata": {},
   "source": [
    "### Connection Class"
   ]
  },
  {
   "cell_type": "code",
   "execution_count": 41,
   "id": "b6709f5b",
   "metadata": {},
   "outputs": [],
   "source": [
    "class Neo4jConnection:\n",
    "    \n",
    "    def __init__(self, uri, user, pwd):\n",
    "        self.__uri = uri\n",
    "        self.__user = user\n",
    "        self.__pwd = pwd\n",
    "        self.__driver = None\n",
    "        try:\n",
    "            self.__driver = GraphDatabase.driver(self.__uri, auth=(self.__user, self.__pwd))\n",
    "        except Exception as e:\n",
    "            print(\"Failed to create the driver:\", e)\n",
    "        \n",
    "        \n",
    "    def query(self, query, parameters=None, db=None):\n",
    "        assert self.__driver is not None, \"Driver not initialized!\"\n",
    "        session = None\n",
    "        response = None\n",
    "        try: \n",
    "            session = self.__driver.session(database=db) if db is not None else self.__driver.session() \n",
    "            response = list(session.run(query, parameters))\n",
    "        except Exception as e:\n",
    "            print(\"Query failed:\", e)\n",
    "        finally: \n",
    "            if session is not None:\n",
    "                session.close()\n",
    "        return response\n",
    "    \n",
    "    def close(self):\n",
    "        if self.__driver is not None:\n",
    "            self.__driver.close()\n",
    "            "
   ]
  },
  {
   "cell_type": "code",
   "execution_count": 42,
   "id": "92b749c1",
   "metadata": {},
   "outputs": [],
   "source": [
    "# Connect to Neo4j\n",
    "conn = Neo4jConnection(uri=\"bolt://localhost:7687\", user=\"neo4j\", pwd=\"arxivtest\")"
   ]
  },
  {
   "cell_type": "code",
   "execution_count": 43,
   "id": "4d73241e",
   "metadata": {},
   "outputs": [
    {
     "data": {
      "text/plain": [
       "[]"
      ]
     },
     "execution_count": 43,
     "metadata": {},
     "output_type": "execute_result"
    }
   ],
   "source": [
    "# Send query: create DB if not exists\n",
    "conn.query(\"CREATE OR REPLACE DATABASE ArxivTest\")"
   ]
  },
  {
   "cell_type": "markdown",
   "id": "b934698b",
   "metadata": {},
   "source": [
    "### Helper Functions"
   ]
  },
  {
   "cell_type": "markdown",
   "id": "b3acdbc2",
   "metadata": {},
   "source": [
    "Add nodes from data in the relevant columns, given as $rows parameter <br>\n",
    "UNWIND takes every list entity and places it into the Neo4j DB"
   ]
  },
  {
   "cell_type": "markdown",
   "id": "dedf9e18",
   "metadata": {},
   "source": [
    "### No Batch"
   ]
  },
  {
   "cell_type": "code",
   "execution_count": 44,
   "id": "1076e179",
   "metadata": {},
   "outputs": [],
   "source": [
    "# Adds Category nodes to the Neo4j, category name is an attribute\n",
    "# categories are converted to a dict of string records\n",
    "def add_categories(categories):\n",
    "        query = '''UNWIND $rows AS row\n",
    "                   MERGE (c:Category {id: row.catId, category: row.category}) \n",
    "                   RETURN count(*) as total\n",
    "        '''\n",
    "        return conn.query(query, parameters={'rows': categories.to_dict('records')})  \n",
    "        # return conn.query(query, parameters={'rows': categories}) "
   ]
  },
  {
   "cell_type": "code",
   "execution_count": 45,
   "id": "722af54b",
   "metadata": {},
   "outputs": [],
   "source": [
    "# Adds Author nodes to the Neo4j, name is an attribute\n",
    "# categories are converted to a dict of string records\n",
    "def add_authors(authors):\n",
    "        query = '''UNWIND $rows AS row\n",
    "            MERGE (:Author {id: row.authorId, name: row.author}) \n",
    "            RETURN count(*) as total\n",
    "        '''\n",
    "        # return conn.query(query, parameters={'rows': authors.to_dict('records')})  \n",
    "        return conn.query(query, parameters={'rows': authors.to_dict('records')}) "
   ]
  },
  {
   "cell_type": "code",
   "execution_count": 48,
   "id": "0749e8d2",
   "metadata": {},
   "outputs": [],
   "source": [
    "# Adds Category nodes to the Neo4j, category name is an attribute, categories are converted to a dict of string records\n",
    "def add_links(links):\n",
    "        query = '''UNWIND $rows AS row\n",
    "                   MERGE (l:Link {id: row.linkId, link: row.link}) \n",
    "                   RETURN count(*) as total\n",
    "        '''\n",
    "        return conn.query(query, parameters={'rows': links.to_dict('records')})  "
   ]
  },
  {
   "cell_type": "code",
   "execution_count": 49,
   "id": "afecc64e",
   "metadata": {},
   "outputs": [],
   "source": [
    "# Add Paper nodes    \n",
    "def add_papers(rows):\n",
    "        query = '''\n",
    "                UNWIND $rows as row\n",
    "                MERGE (p:Article {id: row.artId, title:row.title, summary:row.summary, prim_cat:row.prim_cat, pdf:row.pdf})\n",
    "                RETURN count(*) as total\n",
    "        '''\n",
    "        return conn.query(query, parameters={'rows': rows.to_dict('records')})  \n",
    "        "
   ]
  },
  {
   "cell_type": "code",
   "execution_count": 50,
   "id": "c71df0b8",
   "metadata": {},
   "outputs": [],
   "source": [
    "# Add relationships\n",
    "def add_rels_auth(rows, batch_size=500):\n",
    "        query = '''\n",
    "           UNWIND $rows as row     \n",
    "           MATCH (a:Author)\n",
    "           MATCH (p:Article)\n",
    "           WHERE p.id = row.articleId AND a.name = row.authorName\n",
    "           MERGE (a)-[:CREATED]->(p)\n",
    "           RETURN count(distinct p) as total\n",
    "        '''\n",
    "        # return conn.query(query, parameters={'rows': rows})  \n",
    "        return insert_data(query, rows, batch_size)"
   ]
  },
  {
   "cell_type": "code",
   "execution_count": 51,
   "id": "52ed0d06",
   "metadata": {},
   "outputs": [],
   "source": [
    "# Add relationships\n",
    "def add_rels_links(rows, batch_size=500):\n",
    "        query = '''\n",
    "           UNWIND $rows as row     \n",
    "           MATCH (l:Link)\n",
    "           MATCH (p:Article)\n",
    "           WHERE p.id = row.articleId AND l.link = row.linkName\n",
    "           MERGE (p)-[:REFERED]->(l)\n",
    "           RETURN count (*) as total\n",
    "        '''\n",
    "        # return conn.query(query, parameters={'rows': rows})  \n",
    "        return insert_data(query, rows, batch_size)"
   ]
  },
  {
   "cell_type": "code",
   "execution_count": 52,
   "id": "56b7a621",
   "metadata": {},
   "outputs": [],
   "source": [
    "# Add relationships\n",
    "def add_rels_cats(rows, batch_size=500):\n",
    "        query = '''\n",
    "           UNWIND $rows as row \n",
    "           MATCH (p:Article)\n",
    "           MATCH (c:Category)\n",
    "           WHERE p.id = row.articleId AND c.category = row.catName\n",
    "           MERGE (p)-[:BELONGS]->(c)\n",
    "           RETURN count(*) as total\n",
    "        '''\n",
    "        # return conn.query(query, parameters={'rows': rows})  \n",
    "        return insert_data(query, rows, batch_size)\n",
    "    \n"
   ]
  },
  {
   "cell_type": "code",
   "execution_count": 53,
   "id": "2c28be28",
   "metadata": {},
   "outputs": [],
   "source": [
    "# Function for updating a Neo4j database in batch mode\n",
    "def insert_data(query, rows, batch_size = 500):\n",
    "        total = 0\n",
    "        batch = 0\n",
    "        start = time.time()\n",
    "        result = None\n",
    "\n",
    "        while batch * batch_size < len(rows):\n",
    "            res = conn.query(query, parameters={'rows': rows[batch*batch_size:(batch+1)*batch_size].to_dict('records')})\n",
    "            total += res[0]['total']\n",
    "            batch += 1\n",
    "            result = {\"total\":total, \"batches\":batch, \"time\":time.time()-start}\n",
    "            print(result)\n",
    "\n",
    "        return result"
   ]
  },
  {
   "cell_type": "code",
   "execution_count": 54,
   "id": "c822c761",
   "metadata": {},
   "outputs": [
    {
     "data": {
      "text/plain": [
       "[]"
      ]
     },
     "execution_count": 54,
     "metadata": {},
     "output_type": "execute_result"
    }
   ],
   "source": [
    "# Create constraints guaranteeing the uniqueness of each node\n",
    "conn.query('CREATE CONSTRAINT papers IF NOT EXISTS FOR (p:Paper) REQUIRE p.id IS UNIQUE')\n",
    "conn.query('CREATE CONSTRAINT authors IF NOT EXISTS FOR (a:Author) REQUIRE a.name IS UNIQUE')\n",
    "conn.query('CREATE CONSTRAINT categories IF NOT EXISTS FOR (c:Category) REQUIRE c.category IS UNIQUE')\n",
    "conn.query('CREATE CONSTRAINT links IF NOT EXISTS FOR (l:Link) REQUIRE l.link IS UNIQUE')"
   ]
  },
  {
   "cell_type": "markdown",
   "id": "13cd87ae",
   "metadata": {},
   "source": [
    "## Insert in Neo4j"
   ]
  },
  {
   "cell_type": "markdown",
   "id": "67297fe3",
   "metadata": {},
   "source": [
    "### Add Articles and Categories"
   ]
  },
  {
   "cell_type": "code",
   "execution_count": 55,
   "id": "00d7147f",
   "metadata": {},
   "outputs": [
    {
     "data": {
      "text/plain": [
       "[<Record total=10>]"
      ]
     },
     "execution_count": 55,
     "metadata": {},
     "output_type": "execute_result"
    }
   ],
   "source": [
    "# Create articles\n",
    "add_papers(dfa)"
   ]
  },
  {
   "cell_type": "code",
   "execution_count": 56,
   "id": "ba71e536",
   "metadata": {},
   "outputs": [
    {
     "data": {
      "text/plain": [
       "[<Record total=10>]"
      ]
     },
     "execution_count": 56,
     "metadata": {},
     "output_type": "execute_result"
    }
   ],
   "source": [
    "# Create each of the nodes\n",
    "add_categories(categories)"
   ]
  },
  {
   "cell_type": "code",
   "execution_count": 57,
   "id": "b3e96e2b",
   "metadata": {},
   "outputs": [],
   "source": [
    "atoc = pd.DataFrame(article_to_cat_list)\n"
   ]
  },
  {
   "cell_type": "code",
   "execution_count": 58,
   "id": "84e4673d",
   "metadata": {},
   "outputs": [
    {
     "name": "stdout",
     "output_type": "stream",
     "text": [
      "{'total': 32, 'batches': 1, 'time': 0.2026968002319336}\n"
     ]
    },
    {
     "data": {
      "text/plain": [
       "{'total': 32, 'batches': 1, 'time': 0.2026968002319336}"
      ]
     },
     "execution_count": 58,
     "metadata": {},
     "output_type": "execute_result"
    }
   ],
   "source": [
    "add_rels_cats(atoc)"
   ]
  },
  {
   "cell_type": "code",
   "execution_count": 38,
   "id": "561fb3e8",
   "metadata": {},
   "outputs": [],
   "source": [
    "# atoc"
   ]
  },
  {
   "cell_type": "markdown",
   "id": "27a5a913",
   "metadata": {},
   "source": [
    "### Add Authors"
   ]
  },
  {
   "cell_type": "code",
   "execution_count": 39,
   "id": "c6e5cccd",
   "metadata": {},
   "outputs": [
    {
     "data": {
      "text/plain": [
       "[<Record total=47>]"
      ]
     },
     "execution_count": 39,
     "metadata": {},
     "output_type": "execute_result"
    }
   ],
   "source": [
    "add_authors(authors)"
   ]
  },
  {
   "cell_type": "code",
   "execution_count": 40,
   "id": "196ecf2b",
   "metadata": {},
   "outputs": [],
   "source": [
    "atoa = pd.DataFrame(article_to_author_list)"
   ]
  },
  {
   "cell_type": "code",
   "execution_count": 41,
   "id": "eb50c05d",
   "metadata": {},
   "outputs": [
    {
     "name": "stdout",
     "output_type": "stream",
     "text": [
      "{'total': 10, 'batches': 1, 'time': 0.160736083984375}\n"
     ]
    },
    {
     "data": {
      "text/plain": [
       "{'total': 10, 'batches': 1, 'time': 0.160736083984375}"
      ]
     },
     "execution_count": 41,
     "metadata": {},
     "output_type": "execute_result"
    }
   ],
   "source": [
    "add_rels_auth(atoa)"
   ]
  },
  {
   "cell_type": "markdown",
   "id": "65b282b0",
   "metadata": {},
   "source": [
    "### Add Links"
   ]
  },
  {
   "cell_type": "code",
   "execution_count": 42,
   "id": "7c483a6e",
   "metadata": {},
   "outputs": [
    {
     "data": {
      "text/plain": [
       "[<Record total=21>]"
      ]
     },
     "execution_count": 42,
     "metadata": {},
     "output_type": "execute_result"
    }
   ],
   "source": [
    "add_links(links)"
   ]
  },
  {
   "cell_type": "code",
   "execution_count": 43,
   "id": "b37047ee",
   "metadata": {},
   "outputs": [],
   "source": [
    "atol = pd.DataFrame(article_to_link_list)"
   ]
  },
  {
   "cell_type": "code",
   "execution_count": 44,
   "id": "05231d76",
   "metadata": {},
   "outputs": [
    {
     "name": "stdout",
     "output_type": "stream",
     "text": [
      "{'total': 21, 'batches': 1, 'time': 0.12908601760864258}\n"
     ]
    },
    {
     "data": {
      "text/plain": [
       "{'total': 21, 'batches': 1, 'time': 0.12908601760864258}"
      ]
     },
     "execution_count": 44,
     "metadata": {},
     "output_type": "execute_result"
    }
   ],
   "source": [
    "add_rels_links(atol)"
   ]
  },
  {
   "cell_type": "code",
   "execution_count": 45,
   "id": "8008df0d",
   "metadata": {},
   "outputs": [],
   "source": [
    "# Test it\n",
    "query_string = '''\n",
    "    MATCH (c:Category) \n",
    "    RETURN c.category, SIZE(()-[:BELONGS]->(c)) AS inDegree \n",
    "    ORDER BY inDegree DESC LIMIT 20\n",
    "'''"
   ]
  },
  {
   "cell_type": "markdown",
   "id": "9d96ff67",
   "metadata": {},
   "source": [
    "... to be continued ..."
   ]
  }
 ],
 "metadata": {
  "kernelspec": {
   "display_name": "Python 3 (ipykernel)",
   "language": "python",
   "name": "python3"
  },
  "language_info": {
   "codemirror_mode": {
    "name": "ipython",
    "version": 3
   },
   "file_extension": ".py",
   "mimetype": "text/x-python",
   "name": "python",
   "nbconvert_exporter": "python",
   "pygments_lexer": "ipython3",
   "version": "3.9.13"
  }
 },
 "nbformat": 4,
 "nbformat_minor": 5
}
