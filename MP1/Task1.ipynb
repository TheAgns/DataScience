{
 "cells": [
  {
   "cell_type": "code",
   "execution_count": 49,
   "id": "8af62ade",
   "metadata": {},
   "outputs": [],
   "source": [
    "import pandas as pd\n",
    "import numpy as np\n",
    "import matplotlib.pyplot as plt\n",
    "%matplotlib inline\n",
    "import seaborn as sns\n",
    "\n",
    "# other utilities\n",
    "from sklearn import datasets, preprocessing, metrics"
   ]
  },
  {
   "cell_type": "code",
   "execution_count": 50,
   "id": "030892e3",
   "metadata": {},
   "outputs": [],
   "source": [
    "# read the Excel file from your data folder into a data frame\n",
    "df = pd.read_excel('../data/SOFT-3.xlsx', index_col=None, na_values=['NA'])"
   ]
  },
  {
   "cell_type": "code",
   "execution_count": 51,
   "id": "6a9fb2bc",
   "metadata": {},
   "outputs": [
    {
     "data": {
      "text/plain": [
       "(20, 3)"
      ]
     },
     "execution_count": 51,
     "metadata": {},
     "output_type": "execute_result"
    }
   ],
   "source": [
    "# see the size\n",
    "df.shape"
   ]
  },
  {
   "cell_type": "code",
   "execution_count": 4,
   "id": "23316f02",
   "metadata": {},
   "outputs": [
    {
     "data": {
      "text/plain": [
       "Index(['SOFT Internship 2023', 'Unnamed: 1', 'Unnamed: 2'], dtype='object')"
      ]
     },
     "execution_count": 4,
     "metadata": {},
     "output_type": "execute_result"
    }
   ],
   "source": [
    "df.columns"
   ]
  },
  {
   "cell_type": "code",
   "execution_count": 5,
   "id": "28be5899",
   "metadata": {},
   "outputs": [
    {
     "data": {
      "text/plain": [
       "['SOFT Internship 2023', 'Unnamed: 1', 'Unnamed: 2']"
      ]
     },
     "execution_count": 5,
     "metadata": {},
     "output_type": "execute_result"
    }
   ],
   "source": [
    "# see which are the attribute labels\n",
    "list(df)"
   ]
  },
  {
   "cell_type": "code",
   "execution_count": 6,
   "id": "ad9e5fdb",
   "metadata": {},
   "outputs": [
    {
     "data": {
      "text/html": [
       "<div>\n",
       "<style scoped>\n",
       "    .dataframe tbody tr th:only-of-type {\n",
       "        vertical-align: middle;\n",
       "    }\n",
       "\n",
       "    .dataframe tbody tr th {\n",
       "        vertical-align: top;\n",
       "    }\n",
       "\n",
       "    .dataframe thead th {\n",
       "        text-align: right;\n",
       "    }\n",
       "</style>\n",
       "<table border=\"1\" class=\"dataframe\">\n",
       "  <thead>\n",
       "    <tr style=\"text-align: right;\">\n",
       "      <th></th>\n",
       "      <th>SOFT Internship 2023</th>\n",
       "      <th>Unnamed: 1</th>\n",
       "      <th>Unnamed: 2</th>\n",
       "    </tr>\n",
       "  </thead>\n",
       "  <tbody>\n",
       "    <tr>\n",
       "      <th>0</th>\n",
       "      <td>NaN</td>\n",
       "      <td>student</td>\n",
       "      <td>company</td>\n",
       "    </tr>\n",
       "    <tr>\n",
       "      <th>1</th>\n",
       "      <td>NaN</td>\n",
       "      <td>Benjamin Curovic</td>\n",
       "      <td>Dynatest A/S</td>\n",
       "    </tr>\n",
       "    <tr>\n",
       "      <th>2</th>\n",
       "      <td>NaN</td>\n",
       "      <td>Jacob Simonsen</td>\n",
       "      <td>Eriksholm Research Centre, Oticon</td>\n",
       "    </tr>\n",
       "    <tr>\n",
       "      <th>3</th>\n",
       "      <td>NaN</td>\n",
       "      <td>Sebastian Godsk Hansen</td>\n",
       "      <td>Formpipe</td>\n",
       "    </tr>\n",
       "    <tr>\n",
       "      <th>4</th>\n",
       "      <td>NaN</td>\n",
       "      <td>Lukas Bang Stoltz-Andersen</td>\n",
       "      <td>Formpipe</td>\n",
       "    </tr>\n",
       "  </tbody>\n",
       "</table>\n",
       "</div>"
      ],
      "text/plain": [
       "   SOFT Internship 2023                  Unnamed: 1  \\\n",
       "0                   NaN                     student   \n",
       "1                   NaN            Benjamin Curovic   \n",
       "2                   NaN              Jacob Simonsen   \n",
       "3                   NaN      Sebastian Godsk Hansen   \n",
       "4                   NaN  Lukas Bang Stoltz-Andersen   \n",
       "\n",
       "                          Unnamed: 2  \n",
       "0                            company  \n",
       "1                       Dynatest A/S  \n",
       "2  Eriksholm Research Centre, Oticon  \n",
       "3                           Formpipe  \n",
       "4                           Formpipe  "
      ]
     },
     "execution_count": 6,
     "metadata": {},
     "output_type": "execute_result"
    }
   ],
   "source": [
    "# see the first five records\n",
    "df.head()"
   ]
  },
  {
   "cell_type": "code",
   "execution_count": 7,
   "id": "d8832682",
   "metadata": {},
   "outputs": [
    {
     "data": {
      "text/html": [
       "<div>\n",
       "<style scoped>\n",
       "    .dataframe tbody tr th:only-of-type {\n",
       "        vertical-align: middle;\n",
       "    }\n",
       "\n",
       "    .dataframe tbody tr th {\n",
       "        vertical-align: top;\n",
       "    }\n",
       "\n",
       "    .dataframe thead th {\n",
       "        text-align: right;\n",
       "    }\n",
       "</style>\n",
       "<table border=\"1\" class=\"dataframe\">\n",
       "  <thead>\n",
       "    <tr style=\"text-align: right;\">\n",
       "      <th></th>\n",
       "      <th>student</th>\n",
       "      <th>company</th>\n",
       "    </tr>\n",
       "  </thead>\n",
       "  <tbody>\n",
       "    <tr>\n",
       "      <th>1</th>\n",
       "      <td>Benjamin Curovic</td>\n",
       "      <td>Dynatest A/S</td>\n",
       "    </tr>\n",
       "    <tr>\n",
       "      <th>2</th>\n",
       "      <td>Jacob Simonsen</td>\n",
       "      <td>Eriksholm Research Centre, Oticon</td>\n",
       "    </tr>\n",
       "    <tr>\n",
       "      <th>3</th>\n",
       "      <td>Sebastian Godsk Hansen</td>\n",
       "      <td>Formpipe</td>\n",
       "    </tr>\n",
       "    <tr>\n",
       "      <th>4</th>\n",
       "      <td>Lukas Bang Stoltz-Andersen</td>\n",
       "      <td>Formpipe</td>\n",
       "    </tr>\n",
       "    <tr>\n",
       "      <th>5</th>\n",
       "      <td>Christoffer Ikizek Wegner</td>\n",
       "      <td>Formpipe</td>\n",
       "    </tr>\n",
       "  </tbody>\n",
       "</table>\n",
       "</div>"
      ],
      "text/plain": [
       "                      student                            company\n",
       "1            Benjamin Curovic                       Dynatest A/S\n",
       "2              Jacob Simonsen  Eriksholm Research Centre, Oticon\n",
       "3      Sebastian Godsk Hansen                           Formpipe\n",
       "4  Lukas Bang Stoltz-Andersen                           Formpipe\n",
       "5   Christoffer Ikizek Wegner                           Formpipe"
      ]
     },
     "execution_count": 7,
     "metadata": {},
     "output_type": "execute_result"
    }
   ],
   "source": [
    "del df['SOFT Internship 2023']\n",
    "df = df.iloc[1:]\n",
    "df.rename(columns = {'Unnamed: 1':'student', 'Unnamed: 2':'company'}, inplace = True)\n",
    "df.head()"
   ]
  },
  {
   "cell_type": "code",
   "execution_count": 10,
   "id": "bc48ffb9",
   "metadata": {
    "scrolled": true
   },
   "outputs": [
    {
     "name": "stdout",
     "output_type": "stream",
     "text": [
      "The Faker library can generate fake names. By running 'faker.name()', we get:\n"
     ]
    },
    {
     "data": {
      "text/html": [
       "<div>\n",
       "<style scoped>\n",
       "    .dataframe tbody tr th:only-of-type {\n",
       "        vertical-align: middle;\n",
       "    }\n",
       "\n",
       "    .dataframe tbody tr th {\n",
       "        vertical-align: top;\n",
       "    }\n",
       "\n",
       "    .dataframe thead th {\n",
       "        text-align: right;\n",
       "    }\n",
       "</style>\n",
       "<table border=\"1\" class=\"dataframe\">\n",
       "  <thead>\n",
       "    <tr style=\"text-align: right;\">\n",
       "      <th></th>\n",
       "      <th>student</th>\n",
       "      <th>company</th>\n",
       "    </tr>\n",
       "  </thead>\n",
       "  <tbody>\n",
       "    <tr>\n",
       "      <th>1</th>\n",
       "      <td>Jason Brown</td>\n",
       "      <td>Dynatest A/S</td>\n",
       "    </tr>\n",
       "    <tr>\n",
       "      <th>2</th>\n",
       "      <td>Jacob Stein</td>\n",
       "      <td>Eriksholm Research Centre, Oticon</td>\n",
       "    </tr>\n",
       "    <tr>\n",
       "      <th>3</th>\n",
       "      <td>Cody Brown</td>\n",
       "      <td>Formpipe</td>\n",
       "    </tr>\n",
       "    <tr>\n",
       "      <th>4</th>\n",
       "      <td>Larry Morales</td>\n",
       "      <td>Formpipe</td>\n",
       "    </tr>\n",
       "    <tr>\n",
       "      <th>5</th>\n",
       "      <td>Jessica Hendricks</td>\n",
       "      <td>Formpipe</td>\n",
       "    </tr>\n",
       "    <tr>\n",
       "      <th>6</th>\n",
       "      <td>Brian Moore</td>\n",
       "      <td>Novo Nordisk</td>\n",
       "    </tr>\n",
       "    <tr>\n",
       "      <th>7</th>\n",
       "      <td>Scott Baker</td>\n",
       "      <td>PFA</td>\n",
       "    </tr>\n",
       "    <tr>\n",
       "      <th>8</th>\n",
       "      <td>Ruth Hoffman</td>\n",
       "      <td>Topdanmark</td>\n",
       "    </tr>\n",
       "    <tr>\n",
       "      <th>9</th>\n",
       "      <td>Daniel George</td>\n",
       "      <td>KMD A/S</td>\n",
       "    </tr>\n",
       "    <tr>\n",
       "      <th>10</th>\n",
       "      <td>David Moody</td>\n",
       "      <td>KMD A/S</td>\n",
       "    </tr>\n",
       "  </tbody>\n",
       "</table>\n",
       "</div>"
      ],
      "text/plain": [
       "              student                            company\n",
       "1         Jason Brown                       Dynatest A/S\n",
       "2         Jacob Stein  Eriksholm Research Centre, Oticon\n",
       "3          Cody Brown                           Formpipe\n",
       "4       Larry Morales                           Formpipe\n",
       "5   Jessica Hendricks                           Formpipe\n",
       "6         Brian Moore                       Novo Nordisk\n",
       "7         Scott Baker                                PFA\n",
       "8        Ruth Hoffman                         Topdanmark\n",
       "9       Daniel George                            KMD A/S\n",
       "10        David Moody                            KMD A/S"
      ]
     },
     "execution_count": 10,
     "metadata": {},
     "output_type": "execute_result"
    }
   ],
   "source": [
    "\n",
    "from faker import Faker\n",
    "faker = Faker()# Test fake data generation\n",
    "print(\"The Faker library can generate fake names. By running 'faker.name()', we get:\")\n",
    "faker.name()\n",
    "\n",
    "Faker.seed(4321)\n",
    "dict_names = {name: faker.name() for name in df['student'].unique()}\n",
    "df['student'] = df['student'].map(dict_names)\n",
    "df.head(10)"
   ]
  },
  {
   "cell_type": "code",
   "execution_count": 57,
   "id": "086ec3e0",
   "metadata": {
    "scrolled": false
   },
   "outputs": [],
   "source": [
    "#import requests\n",
    "#\n",
    "#cvr_number = 25678990\n",
    "#\n",
    "#url = f\"https://cvrapi.dk/api?search={cvr_number}&country=dk\"\n",
    "#\n",
    "#r = response = requests.get(url)\n",
    "#\n",
    "#if response.status_code == 200:\n",
    "#    data = response.json()\n",
    "#    print(data)\n",
    "#else:\n",
    "#    print(\"Failed to fetch data\")"
   ]
  },
  {
   "cell_type": "code",
   "execution_count": 59,
   "id": "72739201",
   "metadata": {},
   "outputs": [],
   "source": [
    "def fetch_company_data_from_csv(filename):   \n",
    "    df_list = []\n",
    "    with open(filename, 'r') as csv_file:\n",
    "        csv_reader = csv.reader(csv_file)\n",
    "        # Skip the header row if it exists\n",
    "        next(csv_reader, None)\n",
    "        for row in csv_reader:\n",
    "            name = row[2]\n",
    "            url = f\"https://cvrapi.dk/api?search={name}&country=dk\"\n",
    "            response = requests.get(url)\n",
    "            data = response.json()\n",
    "            if response.status_code == 200:\n",
    "                new_row = pd.DataFrame(data, columns=[\"name\", \"address\", \"zipcode\", \"city\", \"phone\"], index=[1])\n",
    "                df_list.append(new_row)\n",
    "    df = pd.concat(df_list, ignore_index=True)\n",
    "    return df"
   ]
  },
  {
   "cell_type": "code",
   "execution_count": 54,
   "id": "b8044e49",
   "metadata": {},
   "outputs": [],
   "source": [
    "df = fetch_company_data_from_csv(\"SOFT-3.csv\") "
   ]
  },
  {
   "cell_type": "code",
   "execution_count": 2,
   "id": "00fde7ee",
   "metadata": {},
   "outputs": [],
   "source": [
    "df.head()"
   ]
  },
  {
   "cell_type": "code",
   "execution_count": 1,
   "id": "b9bf6622",
   "metadata": {},
   "outputs": [],
   "source": [
    "new_df = pd.DataFrame()\n",
    "\n",
    "# pgeocode object\n",
    "country = pgeocode.Nominatim('dk')\n",
    "\n",
    "# Looper gennem hver enkelt \"zipcode\" value i dataframet\n",
    "for index, row in df.iterrows():\n",
    "    # bruger pgeocode til at få  information for den enkelte zipcode\n",
    "    info = country.query_postal_code(row['zipcode'])\n",
    "    # tilføjer informationen til det nye DataFrame\n",
    "    new_df = pd.concat([new_df, info.to_frame().T], ignore_index=True)\n",
    "\n",
    "# kombinere det nye med det gamle dataframe\n",
    "combined_df = pd.concat([df, new_df], axis=1)"
   ]
  },
  {
   "cell_type": "code",
   "execution_count": null,
   "id": "5c8d4e94",
   "metadata": {},
   "outputs": [],
   "source": [
    "#Concatter mit df med fake navne med de to dataframes jeg lige har sat sammen ovenover\n",
    "result = pd.concat([df, combined_df], ignore_index=True)"
   ]
  },
  {
   "cell_type": "code",
   "execution_count": null,
   "id": "5923dba1",
   "metadata": {},
   "outputs": [],
   "source": [
    "import smtplib\n",
    "import ssl\n",
    "from email.message import EmailMessage\n",
    "\n",
    "\n",
    "\n",
    "email_sender = 'markus,agnsgaard@gmail.com'\n",
    "email_password = '*********'\n",
    "email_receiver = 'whoever the receiver is'\n",
    "\n",
    "subject = 'Check out my new video!'\n",
    "body = \"\"\"\n",
    "I've just published a new video on YouTube: https://youtu.be/2cZzP9DLlkg\n",
    "\"\"\"\n",
    "\n",
    "em = EmailMessage()\n",
    "em['From'] = email_sender\n",
    "em['To'] = email_receiver\n",
    "em['Subject'] = subject\n",
    "em.set_content(body)\n",
    "\n",
    "context = ssl.create_default_context()\n",
    "\n",
    "\n",
    "with smtplib.SMTP_SSL('smtp.gmail.com', 465, context=context) as smtp:\n",
    "    smtp.login(email_sender, email_password)\n",
    "    smtp.sendmail(email_sender, email_receiver, em.as_string())"
   ]
  }
 ],
 "metadata": {
  "kernelspec": {
   "display_name": "Python 3 (ipykernel)",
   "language": "python",
   "name": "python3"
  },
  "language_info": {
   "codemirror_mode": {
    "name": "ipython",
    "version": 3
   },
   "file_extension": ".py",
   "mimetype": "text/x-python",
   "name": "python",
   "nbconvert_exporter": "python",
   "pygments_lexer": "ipython3",
   "version": "3.10.9"
  }
 },
 "nbformat": 4,
 "nbformat_minor": 5
}
